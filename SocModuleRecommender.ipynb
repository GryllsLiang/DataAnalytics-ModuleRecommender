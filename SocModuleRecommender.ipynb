{
  "cells": [
    {
      "cell_type": "markdown",
      "metadata": {
        "id": "52fj0bRuXgvu"
      },
      "source": [
        "# SoC Module Recommender System"
      ]
    },
    {
      "cell_type": "markdown",
      "metadata": {
        "id": "pTnGjmPVXgvy"
      },
      "source": [
        "In this project we design a recomendation engine (Don't worry about the effectiveness of the system. It maybe very bad. The idea is just to offer you a proof of concept!). The recommendation engine suggests the students a module that closely matches the modules already taken by the student. The dataset comprices of two files:\n",
        "- List of modules in the School of Computing \n",
        "- List of graduated students and the modules they had taken during their studies"
      ]
    },
    {
      "cell_type": "markdown",
      "metadata": {
        "id": "PgL9CZ-pXgvz"
      },
      "source": [
        "# Loading the data"
      ]
    },
    {
      "cell_type": "code",
      "execution_count": null,
      "metadata": {
        "id": "Tjl54HB5Xgvz"
      },
      "outputs": [],
      "source": [
        "import numpy as np\n",
        "import pandas as pd\n",
        "import matplotlib.pyplot as plt\n",
        "from sklearn.feature_extraction.text import CountVectorizer\n",
        "from sklearn.preprocessing import MultiLabelBinarizer\n",
        "from sklearn.decomposition import PCA\n",
        "from sklearn.neighbors import NearestNeighbors, KNeighborsClassifier\n",
        "from sklearn.pipeline import Pipeline, FeatureUnion\n",
        "import nltk\n",
        "from nltk.corpus import stopwords\n",
        "import string\n",
        "nltk.download('popular')\n",
        "\n",
        "# set seed to reproduce the result\n",
        "rng = np.random.default_rng(seed=42)\n",
        "\n",
        "courses = pd.read_csv(\"courses.tsv\", sep='\\t')\n",
        "students = pd.read_csv(\"students.tsv\", sep='\\t')\n",
        "courses['specialisation'].fillna('others',inplace=True)\n",
        "courses['specialisation'] = courses['specialisation'].replace('Netoworking', 'Networking')"
      ]
    },
    {
      "cell_type": "markdown",
      "metadata": {
        "id": "OKrejjTxXgv0"
      },
      "source": [
        "# Part 1: Creating the preprocessing pipeline"
      ]
    },
    {
      "cell_type": "markdown",
      "metadata": {
        "id": "yQ_EU5o9Xgv1"
      },
      "source": [
        "We want to create a sklearn pipeline to efficiently preprocess the data and prepare it for training a model. We use three different features in the `courses` data: `specialisation`, `info` and `workload`. We want to represent every feature in a numeric form and merge them to form a feature vector for every course. We do so in the following way:\n",
        "- `specialisation` represents one of the six levels of the module. For instance: CS2103 is a Software Engineering (SE) specialisation module. Encode this categorical feature into a vector. The decision of handling missing values is left to you! *(Hint: You can use `MultiLabelBinerizer` to do so.)*\n",
        "- `info` provides a short discription of the module. We want to convert it into a vector using CountVectorizer. *Don't forget to remove the stopwords* while doing so.\n",
        "-  `workload` states the intended distribution of workload over lectures, tutorials, labs and self study. We want to find the workload as the sum of individual workloads. For instnce: 3-1-1-3-2 workload transforms to 10 hours.\n",
        "\n",
        "Provide implementation for three classes that help us build the pipeline. `transformed_courses` should be a numpy array of shape `[n_courses X n_features]`.\n"
      ]
    },
    {
      "cell_type": "code",
      "execution_count": 3,
      "metadata": {
        "id": "sVBlKTN6Xgv1"
      },
      "outputs": [],
      "source": [
        "class WorkloadTransformer:        \n",
        "    def fit(self, X, y = None, **fit_params):\n",
        "        #print('WorkloadTransformer.fit() finish')\n",
        "        return self\n",
        "    \n",
        "    def transform(self, X, y = None, **fit_params):\n",
        "        def sumWorkload(rows):\n",
        "          xsplit = rows.split('-')\n",
        "          return sum([float(x) for x in xsplit])\n",
        "\n",
        "        #print('WorkloadTransformer.transform() finish')\n",
        "        return X['workload'].apply(sumWorkload).values.reshape(-1,1)"
      ]
    },
    {
      "cell_type": "code",
      "execution_count": 4,
      "metadata": {
        "id": "EZ_fhJkFXgv2"
      },
      "outputs": [],
      "source": [
        "class InfoTransformer:\n",
        "    def preprocessText(self, text):\n",
        "        text = text.translate(str.maketrans('', '', string.punctuation))\n",
        "        stop_words = set(stopwords.words('english'))\n",
        "        tokens = nltk.word_tokenize(text)\n",
        "        tokens = [t for t in tokens if t.lower() not in stop_words]\n",
        "        return list(tokens)\n",
        "\n",
        "    def fit(self, X, y = None, **fit_params):\n",
        "        tokens = X['info'].apply(self.preprocessText)\n",
        "        text = list(map(lambda x : ' '.join(x), tokens))\n",
        "        self.vectorizer = CountVectorizer().fit(text)\n",
        "        #print('InfoTransformer.fit() finish')\n",
        "        return self\n",
        "    \n",
        "    def transform(self, X, y = None, **fit_params):\n",
        "        tokens = X['info'].apply(self.preprocessText)\n",
        "        text = list(map(lambda x : ' '.join(x), tokens))\n",
        "        #print('InfoTransformer.transform() finish')\n",
        "        return self.vectorizer.transform(text).toarray()"
      ]
    },
    {
      "cell_type": "code",
      "execution_count": 5,
      "metadata": {
        "id": "oLKGAPR1Xgv3"
      },
      "outputs": [],
      "source": [
        "class SpecTransformer: \n",
        "\n",
        "    def fit(self, X, y = None, **fit_params):\n",
        "        spec = X['specialisation'].apply(lambda x: x.replace(' ', '').split(','))\n",
        "\n",
        "        self.mlb = MultiLabelBinarizer().fit(spec)\n",
        "        #print('SpecTransformer.fit() finish')\n",
        "        return self\n",
        "    \n",
        "    def transform(self, X, y = None, **fit_params):\n",
        "        #print('SpecTransformer.transform() finish')\n",
        "        return self.mlb.transform(X['specialisation'].apply(lambda x: x.replace(' ', '').split(',')))"
      ]
    },
    {
      "cell_type": "code",
      "execution_count": 6,
      "metadata": {
        "colab": {
          "base_uri": "https://localhost:8080/"
        },
        "id": "kcx2rx6CXgv4",
        "outputId": "7164fdc0-553c-4f56-ac3d-281e876c2095"
      },
      "outputs": [
        {
          "name": "stdout",
          "output_type": "stream",
          "text": [
            "[[10.  0.  0. ...  0.  0.  0.]\n",
            " [10.  0.  0. ...  0.  0.  0.]\n",
            " [10.  0.  0. ...  0.  0.  0.]\n",
            " ...\n",
            " [10.  0.  0. ...  0.  0.  1.]\n",
            " [10.  0.  0. ...  0.  0.  1.]\n",
            " [10.  0.  0. ...  0.  0.  1.]]\n"
          ]
        }
      ],
      "source": [
        "featureTransformer = FeatureUnion([\n",
        "    ('workload_processing', Pipeline([('wrkld', WorkloadTransformer())])),\n",
        "    ('info_processing', Pipeline([('info', InfoTransformer())])),\n",
        "    ('spec_processing', Pipeline([('spec', SpecTransformer())])),\n",
        "])\n",
        "\n",
        "featureTransformer.fit(courses)\n",
        "transformeed_courses = featureTransformer.transform(courses)\n",
        "print(transformeed_courses)"
      ]
    },
    {
      "cell_type": "markdown",
      "metadata": {
        "id": "Xtc4ObIlXgv5"
      },
      "source": [
        "Now we prepare our testing data in the same way we preprocessed the course. \n",
        "\n",
        "`students` data comprises of 1000 students and a list of modules they have taken. "
      ]
    },
    {
      "cell_type": "markdown",
      "metadata": {
        "id": "HQu6wIgYXgv6"
      },
      "source": [
        "Create `Xtest` and `Ytest` as two matrices. `Xtest`, of size `1000*5`, comprises of first five modules for every student in the list. `Ytest`, of size `1000*[remaining_modules]`, comprises of rest of the modules for every student in the list. \n",
        "We do so in order to assess the performance of the recommender. We assess the recommender based on its effectiveness to predict the modules given a list of five modules as the input.\n",
        "\n",
        "For instance: \n",
        "- `Xtest[0] = ['CS2105', 'CS4222', 'CS6270', 'CS6205', 'CS4226']`\n",
        "- `Ytest[0] = ['CS3282', 'CS6204', 'CS5223', 'CS3281', 'CS4344', 'CS5422', 'CS3237', 'CS5233']`."
      ]
    },
    {
      "cell_type": "code",
      "execution_count": 7,
      "metadata": {
        "colab": {
          "base_uri": "https://localhost:8080/"
        },
        "id": "R2t2xUhYXgv6",
        "outputId": "b18d880f-d3e1-4589-ba1d-6764bbc5289f"
      },
      "outputs": [
        {
          "name": "stdout",
          "output_type": "stream",
          "text": [
            "Xtest:\n",
            " [['CS5422', 'CS5223', 'CS4237', 'CS3281', 'CS6213'], ['CS6206', 'CS3241', 'CS5237', 'CS4350', 'CS3242'], ['CS5244', 'CS6270', 'CS6234', 'CS5223', 'CS3230'], ['CS5422', 'CS3220', 'CS3103', 'CS4224', 'CS4237'], ['CS6206', 'CS3241', 'CS5240', 'CS4350', 'CS5343'], ['CS5424', 'CS4225', 'CS5425', 'CS5229', 'CS4224'], ['CS2309', 'CS2104', 'CS4215', 'CS4216', 'CS3220'], ['CS3221', 'CS4216', 'CS5339', 'CS2107', 'CS5331'], ['CS3243', 'CS5345', 'CS3244', 'CS5228', 'CS3234'], ['CS5424', 'CS3281', 'CS5223', 'CS4237', 'CS3236'], ['CS5422', 'CS4344', 'CS3237', 'CS6205', 'CS3281'], ['CS6206', 'CS3241', 'CS2040', 'CS5237', 'CS1280'], ['CS6206', 'CS4215', 'CS4216', 'CS6202', 'CS3211'], ['CS4215', 'CS5424', 'CS4224', 'CS2220', 'CS5228'], ['CS5346', 'CS3103', 'CS5223', 'CS3281', 'CS5233'], ['CS4225', 'CS3241', 'CS5425', 'CS4224', 'CS2220'], ['CS1010FC/X', 'CS2040', 'CS1010E', 'CS1231', 'CS5228'], ['CS5223', 'CS5233', 'CS1010', 'CS4223', 'CS2309'], ['CS4347', 'CS4241', 'CS3271', 'CS1010S', 'CS5271'], ['CS2104', 'CS4215', 'CS1010FC/X', 'CS2040', 'CS1010E'], ['CS4243', 'CS3243', 'CS4216', 'CS5345', 'CS5425'], ['CS4243', 'CS5339', 'CS2107', 'CS3244', 'CS5478'], ['CS4243', 'CS3243', 'CS5345', 'CS3244', 'CS5228'], ['CS4225', 'CS5425', 'CS2220', 'CS6280', 'CS3242'], ['CS4226', 'CS5425', 'CS3237', 'CS3103', 'CS6270'], ['CS6206', 'CS5425', 'CS3244', 'CS5228', 'CS6244'], ['CS3201', 'CS2113', 'CS3220', 'CS5272', 'CS6270'], ['CS4216', 'CS6231', 'CS5332', 'CS2113T', 'CS4214'], ['CS5238', 'CS2220', 'CS5234', 'CS3236', 'CS3230'], ['CS4226', 'CS5229', 'CS1231', 'CS4237', 'CS3211'], ['CS6206', 'CS5346', 'CS5238', 'CS5345', 'CS5223'], ['CS4246', 'CS5249', 'CS5331', 'CS3284', 'CS5248'], ['CS3243', 'CS5424', 'CS5346', 'CS5222', 'CS5215'], ['CS5237', 'CS2107', 'CS6205', 'CS4235', 'CS4257'], ['CS4225', 'CS2220', 'CS6280', 'CS5271', 'CS4220'], ['CS3202', 'CS3201', 'CS2113', 'CS5346', 'CS5232'], ['CS5346', 'CS5345', 'CS3283', 'CS6209', 'CS4242'], ['CS1010S', 'CS2040', 'CS2030', 'CS6244', 'CS1281'], ['CS1010S', 'CS4245', 'CS6240', 'CS3283', 'CS5249'], ['CS3202', 'CS5425', 'CS5345', 'CS5339', 'CS3244'], ['CS5339', 'CS4350', 'CS5340', 'CS4235', 'CS4220'], ['CS4243', 'CS4225', 'CS4216', 'CS5345', 'CS3247'], ['CS6206', 'CS3221', 'CS3241', 'CS1010E', 'CS2107'], ['CS3247', 'CS5237', 'CS5346', 'CS4224', 'CS1280'], ['CS2113', 'CS4350', 'CS3219', 'CS2107', 'CS5331'], ['CS6206', 'CS3247', 'CS5237', 'CS3241', 'CS5238'], ['CS3221', 'CS5237', 'CS2107', 'CS4238', 'CS4257'], ['CS5346', 'CS4224', 'CS5238', 'CS1101S', 'CS4257'], ['CS5238', 'CS4350', 'CS5223', 'CS3281', 'CS6234'], ['CS3241', 'CS2113', 'CS5343', 'CS5239', 'CS3242'], ['CS6206', 'CS2107', 'CS4220', 'CS4347', 'CS2281'], ['CS5424', 'CS4226', 'CS5229', 'CS6270', 'CS5248'], ['CS5424', 'CS3241', 'CS5240', 'CS5422', 'CS3103'], ['CS6206', 'CS4215', 'CS4243', 'CS3201', 'CS6280'], ['CS4215', 'CS5424', 'CS6270', 'CS4238', 'CS6211'], ['CS3237', 'CS4344', 'CS3103', 'CS6270', 'CS6205'], ['CS5339', 'CS4220', 'CS5242', 'CS6220', 'CS5344'], ['CS1010FC/X', 'CS1010E', 'CS4224', 'CS6280', 'CS3217'], ['CS6207', 'CS4239', 'CS3283', 'CS5249', 'CS4242'], ['CS2220', 'CS1280', 'CS2010', 'CS1101S', 'CS2040C'], ['CS6206', 'CS3247', 'CS5237', 'CS5240', 'CS6240'], ['CS4235', 'CS6207', 'CS4248', 'CS4244', 'CS5271'], ['CS4243', 'CS3241', 'CS5237', 'CS5345', 'CS5238'], ['CS5240', 'CS2107', 'CS5331', 'CS6211', 'CS4257'], ['CS6206', 'CS3221', 'CS5424', 'CS5229', 'CS4350'], ['CS4245', 'CS5345', 'CS6207', 'CS2030', 'CS3219'], ['CS4216', 'CS3234', 'CS5215', 'CS3212', 'CS6215'], ['CS3243', 'CS5425', 'CS6270', 'CS2220', 'CS3244'], ['CS2104', 'CS3202', 'CS4245', 'CS3201', 'CS4224'], ['CS6280', 'CS5230', 'CS3230', 'CS3225', 'CS6220'], ['CS4215', 'CS2104', 'CS6202', 'CS3234', 'CS5271'], ['CS3220', 'CS1280', 'CS4237', 'CS4242', 'CS5222'], ['CS2309', 'CS1010FC/X', 'CS5346', 'CS5232', 'CS2030'], ['CS2104', 'CS5425', 'CS4216', 'CS4218', 'CS3205'], ['CS2309', 'CS6206', 'CS3247', 'CS2104', 'CS5345'], ['CS3221', 'CS1010S', 'CS2040', 'CS2030', 'CS1231'], ['CS3243', 'CS5229', 'CS5223', 'CS5228', 'CS3211'], ['CS3221', 'CS2107', 'CS5331', 'CS3284', 'CS5476'], ['CS2309', 'CS1010FC/X', 'CS2040', 'CS1010S', 'CS1231'], ['CS3221', 'CS5234', 'CS5242', 'CS6231', 'CS6220'], ['CS5424', 'CS4226', 'CS5422', 'CS3237', 'CS1280'], ['CS2309', 'CS4243', 'CS5240', 'CS2040', 'CS4350'], ['CS2309', 'CS5424', 'CS5346', 'CS5345', 'CS1280'], ['CS1010S', 'CS1010E', 'CS1231', 'CS1280', 'CS5228'], ['CS3221', 'CS5439', 'CS2107', 'CS5331', 'CS6209'], ['CS3283', 'CS5223', 'CS6280', 'CS4237', 'CS5222'], ['CS3247', 'CS3221', 'CS5240', 'CS4243', 'CS5343'], ['CS3221', 'CS4245', 'CS5346', 'CS6202', 'CS4239'], ['CS3221', 'CS2107', 'CS5233', 'CS3271', 'CS3201'], ['CS1010S', 'CS5238', 'CS3244', 'CS3236', 'CS4244'], ['CS4350', 'CS4247', 'CS5343', 'CS5249', 'CS5230'], ['CS1101S', 'CS2100', 'CS6234', 'CS4223', 'CS5344'], ['CS5238', 'CS5223', 'CS6205', 'CS5233', 'CS3281'], ['CS4243', 'CS5240', 'CS2107', 'CS6209', 'CS3230'], ['CS5249', 'CS4220', 'CS4235', 'CS4347', 'CS6220'], ['CS5346', 'CS4224', 'CS2107', 'CS6231', 'CS4257'], ['CS3247', 'CS5237', 'CS3241', 'CS4350', 'CS3281'], ['CS4243', 'CS3241', 'CS5237', 'CS4350', 'CS5343'], ['CS5237', 'CS2040', 'CS4216', 'CS5238', 'CS4220'], ['CS2309', 'CS1010S', 'CS2040', 'CS1010E', 'CS1010FC/X'], ['CS5424', 'CS5229', 'CS5223', 'CS4237', 'CS6204'], ['CS5424', 'CS5425', 'CS5346', 'CS6270', 'CS4220'], ['CS5238', 'CS6270', 'CS2220', 'CS4237', 'CS3281'], ['CS3202', 'CS3201', 'CS4344', 'CS3205', 'CS5271'], ['CS6206', 'CS5346', 'CS4237', 'CS5249', 'CS2108'], ['CS3221', 'CS5237', 'CS5422', 'CS5346', 'CS6240'], ['CS3221', 'CS5322', 'CS2107', 'CS6209', 'CS5331'], ['CS3221', 'CS4224', 'CS2220', 'CS6280', 'CS5228'], ['CS3243', 'CS4243', 'CS5425', 'CS3237', 'CS6270'], ['CS3221', 'CS5237', 'CS5240', 'CS5322', 'CS5439'], ['CS4224', 'CS6270', 'CS4220', 'CS4221', 'CS3201'], ['CS4211', 'CS5223', 'CS4237', 'CS5222', 'CS4220'], ['CS5237', 'CS4224', 'CS5238', 'CS4232', 'CS4257'], ['CS5238', 'CS2220', 'CS3236', 'CS6205', 'CS3230'], ['CS4216', 'CS2113', 'CS5271', 'CS3234', 'CS3217'], ['CS3221', 'CS5223', 'CS2100', 'CS5332', 'CS2309'], ['CS6206', 'CS3221', 'CS4350', 'CS3242', 'CS3202'], ['CS1010FC/X', 'CS2040', 'CS1010E', 'CS1010S', 'CS1231'], ['CS1010FC/X', 'CS2030', 'CS1280', 'CS5223', 'CS3281'], ['CS5346', 'CS5223', 'CS4237', 'CS3236', 'CS5230'], ['CS4243', 'CS6270', 'CS5228', 'CS5478', 'CS5239'], ['CS6206', 'CS5424', 'CS3247', 'CS4243', 'CS5223'], ['CS3221', 'CS5439', 'CS2107', 'CS5331', 'CS5476'], ['CS5425', 'CS2030', 'CS5228', 'CS6222', 'CS6208'], ['CS2040', 'CS5346', 'CS6240', 'CS1280', 'CS5223'], ['CS5424', 'CS3220', 'CS5238', 'CS2220', 'CS5230'], ['CS3205', 'CS5223', 'CS5271', 'CS5239', 'CS5222'], ['CS5240', 'CS3235', 'CS4239', 'CS2107', 'CS3240'], ['CS3202', 'CS5237', 'CS2113', 'CS4211', 'CS3219'], ['CS6206', 'CS4243', 'CS3241', 'CS5240', 'CS6240'], ['CS1010S', 'CS1010FC/X', 'CS1010E', 'CS1010J', 'CS2030'], ['CS2104', 'CS4211', 'CS5232', 'CS5272', 'CS6270'], ['CS2309', 'CS1010S', 'CS5228', 'CS2281', 'CS1281'], ['CS5237', 'CS2220', 'CS5234', 'CS3236', 'CS3230'], ['CS6206', 'CS3247', 'CS5237', 'CS5238', 'CS4351'], ['CS4226', 'CS3201', 'CS3220', 'CS5238', 'CS4214'], ['CS3237', 'CS3220', 'CS4344', 'CS6270', 'CS3281'], ['CS3241', 'CS5346', 'CS4344', 'CS3281', 'CS4235'], ['CS5346', 'CS4344', 'CS3103', 'CS6270', 'CS5234'], ['CS6206', 'CS5244', 'CS5345', 'CS6240', 'CS6207'], ['CS6206', 'CS6240', 'CS5249', 'CS3242', 'CS3281'], ['CS1010S', 'CS6202', 'CS1231', 'CS3283', 'CS6280'], ['CS2040', 'CS3220', 'CS1010E', 'CS5422', 'CS2220'], ['CS4243', 'CS6202', 'CS4247', 'CS5218', 'CS5228'], ['CS6206', 'CS5249', 'CS4241', 'CS3271', 'CS4248'], ['CS2104', 'CS1010S', 'CS1010FC/X', 'CS2030', 'CS1231'], ['CS2104', 'CS4216', 'CS1010E', 'CS6202', 'CS3211'], ['CS4211', 'CS6270', 'CS6280', 'CS3283', 'CS2103'], ['CS1010S', 'CS2113', 'CS3219', 'CS3226', 'CS4880'], ['CS6206', 'CS3247', 'CS3241', 'CS5238', 'CS5230'], ['CS2040', 'CS1280', 'CS6205', 'CS4220', 'CS4221'], ['CS4216', 'CS4350', 'CS6270', 'CS3281', 'CS2281'], ['CS4243', 'CS5237', 'CS3201', 'CS5240', 'CS4247'], ['CS6206', 'CS1010S', 'CS2040', 'CS6202', 'CS1231'], ['CS4243', 'CS3243', 'CS5345', 'CS5228', 'CS4244'], ['CS2309', 'CS3202', 'CS1010FC/X', 'CS2113', 'CS4211'], ['CS2104', 'CS4216', 'CS2040', 'CS1010E', 'CS3234'], ['CS3237', 'CS4344', 'CS3103', 'CS2220', 'CS3211'], ['CS5237', 'CS3236', 'CS5330', 'CS3281', 'CS3225'], ['CS4215', 'CS5424', 'CS6202', 'CS5218', 'CS5271'], ['CS3103', 'CS5233', 'CS3281', 'CS2100', 'CS4222'], ['CS5238', 'CS4220', 'CS6220', 'CS6234', 'CS4221'], ['CS6206', 'CS2309', 'CS1010S', 'CS2040', 'CS4243'], ['CS4243', 'CS5229', 'CS3244', 'CS4220', 'CS6208'], ['CS4215', 'CS2104', 'CS4216', 'CS5271', 'CS5242'], ['CS4225', 'CS5424', 'CS5346', 'CS4224', 'CS2030'], ['CS4245', 'CS5244', 'CS6207', 'CS3283', 'CS5476'], ['CS3237', 'CS5346', 'CS4224', 'CS3103', 'BT5110'], ['CS4216', 'CS4235', 'CS4214', 'CS1020E', 'CS1010S'], ['CS4243', 'CS5424', 'CS4224', 'CS6280', 'CS4220'], ['CS4215', 'CS4226', 'CS2113', 'CS6202', 'CS6270'], ['CS2309', 'CS1010FC/X', 'CS1010S', 'CS5345', 'CS1231'], ['CS4211', 'CS5346', 'CS5232', 'CS4239', 'CS5271'], ['CS4215', 'CS4225', 'CS5424', 'CS5425', 'CS5346'], ['CS4243', 'CS5425', 'CS5346', 'CS4224', 'CS4247'], ['CS6206', 'CS3247', 'CS4350', 'CS4220', 'CS4232'], ['CS3201', 'CS4211', 'CS5272', 'CS3219', 'CS5339'], ['CS2107', 'CS6209', 'CS5478', 'CS5331', 'CS5476'], ['CS6206', 'CS3247', 'CS5237', 'CS4350', 'CS4220'], ['CS4215', 'CS3243', 'CS5237', 'CS5425', 'CS4216'], ['CS2104', 'CS4215', 'CS6202', 'CS5238', 'CS2220'], ['CS4243', 'CS2040', 'CS5422', 'CS1010E', 'CS2030'], ['CS5237', 'CS2220', 'CS5223', 'CS3230', 'CS5239'], ['CS4243', 'CS2113', 'CS5272', 'CS4350', 'CS3283'], ['CS3220', 'CS6270', 'CS4237', 'CS5239', 'CS5222'], ['CS5424', 'CS1010FC/X', 'CS3220', 'CS6270', 'CS1280'], ['CS5424', 'CS3247', 'CS3237', 'CS5345', 'CS3103'], ['CS6206', 'CS5424', 'CS4245', 'CS4226', 'CS6270'], ['CS4215', 'CS3201', 'CS6207', 'CS5339', 'CS3244'], ['CS4344', 'CS3103', 'CS6240', 'CS5249', 'CS3281'], ['CS5425', 'CS2040', 'CS1231', 'CS5339', 'CS3244'], ['CS1010S', 'CS1010E', 'CS2030', 'CS1231', 'CS1280'], ['CS3247', 'CS3241', 'CS4216', 'CS5223', 'BT5110'], ['CS4243', 'CS3283', 'CS5249', 'CS4244', 'CS2108'], ['CS4216', 'CS5238', 'CS4232', 'CS6234', 'CS2113T'], ['CS5424', 'CS4226', 'CS3237', 'CS3220', 'CS3103'], ['CS6206', 'CS3247', 'CS5237', 'CS3241', 'CS4350'], ['CS1010S', 'CS1010FC/X', 'CS6240', 'CS2030', 'CS3283'], ['CS5237', 'CS3237', 'CS5238', 'CS2220', 'CS6205'], ['CS2104', 'CS4215', 'CS4216', 'CS5272', 'CS3236'], ['CS5346', 'CS4235', 'CS4223', 'CS5344', 'CS2309'], ['CS3221', 'CS5322', 'CS2107', 'CS6209', 'CS5476'], ['CS4245', 'CS5346', 'CS6240', 'CS3283', 'CS5249'], ['CS6206', 'CS2104', 'CS6240', 'CS6202', 'CS6207'], ['CS4225', 'CS4216', 'CS6202', 'CS2220', 'CS5218'], ['CS6206', 'CS4351', 'CS2113T', 'CS3271', 'CS3202'], ['CS4215', 'CS4243', 'CS5425', 'CS5322', 'CS2220'], ['CS4215', 'CS2104', 'CS1010FC/X', 'CS2040', 'CS3220'], ['CS2104', 'CS2040', 'CS5346', 'CS5218', 'CS6280'], ['CS3220', 'CS3245', 'CS3211', 'CS5222', 'CS2281'], ['CS6206', 'CS3247', 'CS3241', 'CS4216', 'CS4224'], ['CS3221', 'CS5345', 'CS5228', 'CS5478', 'CS4244'], ['CS5229', 'CS3220', 'CS5223', 'CS4237', 'CS3281'], ['CS6206', 'CS3241', 'CS5240', 'CS5322', 'CS2220'], ['CS6206', 'CS2104', 'CS4215', 'CS5345', 'CS3219'], ['CS3221', 'CS4350', 'CS2107', 'CS3242', 'CS5340'], ['CS6240', 'CS4247', 'CS2107', 'CS6209', 'CS5330'], ['CS4245', 'CS5346', 'CS6207', 'CS5238', 'CS6240'], ['CS3241', 'CS4344', 'CS5238', 'CS4350', 'CS4232'], ['CS5422', 'CS6240', 'CS1231', 'CS3283', 'CS5249'], ['CS3243', 'CS5424', 'CS5425', 'CS4225', 'CS4239'], ['CS3221', 'CS6209', 'CS5331', 'CS5476', 'CS6211'], ['CS3221', 'CS4226', 'CS4239', 'CS5439', 'CS2107'], ['CS6206', 'CS5346', 'CS6240', 'CS6207', 'CS3283'], ['CS3221', 'CS5346', 'CS2107', 'BT5110', 'CS4220'], ['CS5232', 'CS3283', 'CS6280', 'CS3205', 'CS2103'], ['CS5346', 'CS3205', 'CS3234', 'CS5246', 'CS3284'], ['CS4225', 'CS5425', 'CS4224', 'CS6280', 'CS2103T'], ['CS4225', 'CS1010FC/X', 'CS5228', 'CS5230', 'CS3225'], ['CS4215', 'CS4247', 'CS5271', 'CS3211', 'CS3234'], ['CS6206', 'CS5424', 'CS4226', 'CS3241', 'CS5229'], ['CS4215', 'CS4225', 'CS5424', 'CS4216', 'CS2104'], ['CS5237', 'CS5238', 'CS2220', 'CS3236', 'CS5230'], ['CS5424', 'CS5425', 'CS4224', 'CS2220', 'CS4271'], ['CS4211', 'CS5232', 'CS4239', 'CS3234', 'CS5331'], ['CS4216', 'CS4224', 'CS3103', 'CS4214', 'CS3201'], ['CS3221', 'CS4350', 'CS4220', 'CS4257', 'CS2100'], ['CS2309', 'CS3201', 'CS5229', 'CS5232', 'CS6280'], ['CS2309', 'CS1010FC/X', 'CS2040', 'CS1231', 'CS2030'], ['CS2040', 'CS5238', 'CS5228', 'CS3236', 'CS3234'], ['CS5422', 'CS5223', 'CS5340', 'CS4220', 'CS5242'], ['CS5237', 'CS5234', 'CS5230', 'CS3236', 'CS3230'], ['CS2040', 'CS6240', 'CS4232', 'CS1101S', 'CS4221'], ['CS5422', 'CS4224', 'CS6270', 'BT5110', 'CS5233'], ['CS2309', 'CS2040', 'CS1010E', 'CS1231', 'CS1280'], ['CS4225', 'CS5425', 'CS2220', 'CS2107', 'CS6234'], ['CS4225', 'CS3241', 'CS6243', 'CS6209', 'CS3242'], ['CS6206', 'CS4243', 'CS4226', 'CS5345', 'CS5339'], ['CS3237', 'CS5346', 'CS2281', 'CS4220', 'CS6231'], ['CS2040', 'CS3220', 'CS6240', 'CS1231', 'CS1280'], ['CS6206', 'CS3202', 'CS2113', 'CS6240', 'CS5232'], ['CS4215', 'CS2104', 'CS3211', 'CS5219', 'CS5271'], ['CS5424', 'CS5244', 'CS5346', 'CS5249', 'CS4241'], ['CS2040', 'CS3220', 'CS6270', 'CS5223', 'CS4237'], ['CS3220', 'CS4237', 'CS5222', 'CS3281', 'CS5233'], ['CS4225', 'CS5425', 'CS5229', 'CS4224', 'CS2220'], ['CS2040', 'CS5339', 'CS1280', 'CS6220', 'CS5344'], ['CS3247', 'CS3202', 'CS3218', 'CS3284', 'CS3203'], ['CS3221', 'CS4239', 'CS2107', 'CS5331', 'CS6209'], ['CS2107', 'CS5331', 'CS6209', 'CS3240', 'CS4238'], ['CS4225', 'CS5237', 'CS5424', 'CS5346', 'CS5238'], ['CS4245', 'CS5345', 'CS6240', 'CS5346', 'CS5439'], ['CS4344', 'CS3281', 'CS2100', 'CS2113T', 'CS5344'], ['CS6206', 'CS5345', 'CS5346', 'CS6240', 'CS4247'], ['CS3201', 'CS4211', 'CS2113', 'CS5272', 'CS3205'], ['CS4243', 'CS5218', 'CS3244', 'CS4278', 'CS3211'], ['CS4215', 'CS4216', 'CS6202', 'CS3211', 'CS5219'], ['CS3242', 'CS5332', 'CS3271', 'CS3201', 'CS3284'], ['CS5424', 'CS4226', 'CS5422', 'CS3103', 'CS6270'], ['CS3247', 'CS5424', 'CS5240', 'CS4247', 'CS6270'], ['CS5346', 'CS5238', 'CS6270', 'BT5110', 'CS4220'], ['CS3202', 'CS6270', 'CS3882', 'CS4237', 'CS2103'], ['CS3220', 'CS4344', 'CS6270', 'CS3236', 'CS3211'], ['CS3220', 'CS2220', 'CS5223', 'CS4237', 'CS3236'], ['CS2104', 'CS2113', 'CS3219', 'CS6280', 'CS5271'], ['CS4257', 'CS2100', 'CS3271', 'CS3201', 'CS3234'], ['CS4243', 'CS3243', 'CS1010S', 'CS6207', 'CS3244'], ['CS4215', 'CS4225', 'CS3234', 'CS5219', 'CS3211'], ['CS6206', 'CS3247', 'CS3241', 'CS4216', 'CS4350'], ['CS2309', 'CS4226', 'CS3237', 'CS3103', 'CS2107'], ['CS4245', 'CS5345', 'CS6207', 'CS6240', 'CS3283'], ['CS3271', 'CS6240', 'CS5272', 'CS4239', 'CS2107'], ['CS5424', 'CS1010S', 'CS4344', 'CS3103', 'CS2030'], ['CS3221', 'CS5424', 'CS5223', 'CS6209', 'CS3240'], ['CS6206', 'CS3247', 'CS4226', 'CS3237', 'CS4344'], ['CS4216', 'CS6231', 'CS2113T', 'CS3271', 'CS4214'], ['CS4245', 'CS3220', 'CS5223', 'CS4237', 'CS5228'], ['CS6206', 'CS2040', 'CS1280', 'CS4220', 'CS1101S'], ['CS5424', 'CS5425', 'CS5345', 'CS2220', 'CS6280'], ['CS3221', 'CS5322', 'CS2107', 'CS5331', 'CS4238'], ['CS4215', 'CS2309', 'CS2040', 'CS2030', 'CS5271'], ['CS4245', 'CS5425', 'CS5346', 'CS1010E', 'CS2040'], ['CS3202', 'CS3201', 'CS5232', 'CS2113', 'CS5272'], ['CS3221', 'CS2107', 'CS5331', 'CS4257', 'CS3201'], ['CS6206', 'CS4243', 'CS5237', 'CS6202', 'CS4350'], ['CS4225', 'CS5322', 'CS4224', 'CS5346', 'CS5238'], ['CS3221', 'CS2281', 'CS2107', 'CS5476', 'CS4238'], ['CS3247', 'CS3241', 'CS4350', 'CS3281', 'CS5233'], ['CS2040', 'CS1280', 'CS1010', 'CS1020E', 'CS2309'], ['CS2104', 'CS4225', 'CS1010FC/X', 'CS4350', 'CS1280'], ['CS4224', 'CS6270', 'CS5249', 'CS3281', 'CS5271'], ['CS2309', 'CS1010FC/X', 'CS1010S', 'CS1010E', 'CS1231'], ['CS2309', 'CS5424', 'CS5425', 'CS5322', 'CS2220'], ['CS4215', 'CS4226', 'CS2040', 'CS5232', 'CS3201'], ['CS3283', 'CS5230', 'CS6209', 'CS5331', 'CS3230'], ['CS5237', 'CS5238', 'CS6270', 'CS3236', 'CS3230'], ['CS3243', 'CS4245', 'CS5425', 'CS5345', 'CS3221'], ['CS6205', 'CS5340', 'CS4220', 'CS6220', 'CS4222'], ['CS5346', 'CS6270', 'CS2107', 'CS2100', 'CS5332'], ['CS5422', 'CS4211', 'CS5232', 'CS3219', 'CS3283'], ['CS5425', 'CS4344', 'CS6202', 'CS5233', 'CS6213'], ['CS5237', 'CS3241', 'CS3220', 'CS5271', 'CS5239'], ['CS5223', 'BT5110', 'CS2100', 'CS2106', 'CS2113T'], ['CS5425', 'CS6240', 'CS6207', 'CS5478', 'CS6244'], ['CS6202', 'CS5249', 'CS4241', 'CS5239', 'CS5222'], ['CS5346', 'CS5238', 'CS6240', 'CS5228', 'CS3236'], ['CS5345', 'CS4211', 'CS5272', 'CS3103', 'CS3882'], ['CS6206', 'CS3247', 'CS3241', 'CS4247', 'CS5343'], ['CS5237', 'CS5238', 'CS5234', 'CS3234', 'CS3230'], ['CS6206', 'CS4350', 'CS3242', 'CS2113T', 'CS3271'], ['CS2040', 'CS5346', 'CS4224', 'CS5249', 'CS5331'], ['CS3202', 'CS3243', 'CS4211', 'CS5339', 'CS4350'], ['CS1010S', 'CS6209', 'CS5476', 'CS1101S', 'CS4236'], ['CS2104', 'CS4226', 'CS3237', 'CS4344', 'CS4224'], ['CS6206', 'CS5237', 'CS3241', 'CS5240', 'CS4350'], ['CS4216', 'CS6207', 'CS2309', 'CS4245', 'CS1010S'], ['CS6206', 'CS4225', 'CS4245', 'CS3245', 'CS6240'], ['CS4245', 'CS6240', 'CS3283', 'CS4242', 'CS3284'], ['CS5272', 'CS5339', 'CS6280', 'CS4244', 'CS5478'], ['CS2104', 'CS6202', 'CS3211', 'CS5219', 'CS5214'], ['CS5237', 'CS2220', 'CS5234', 'CS5230', 'CS3236'], ['CS3237', 'CS3103', 'CS5339', 'CS4237', 'CS6205'], ['CS6206', 'CS3237', 'CS3103', 'CS6270', 'CS3281'], ['CS2040', 'CS5223', 'CS1280', 'CS5233', 'CS4235'], ['CS6206', 'CS4245', 'CS4344', 'CS6207', 'CS5345'], ['CS4225', 'CS5425', 'CS4224', 'CS5339', 'CS2220'], ['CS2309', 'CS5237', 'CS1010E', 'CS5238', 'CS3230'], ['CS2309', 'CS1010FC/X', 'CS1231', 'CS2030', 'CS1280'], ['CS4245', 'CS2030', 'CS6205', 'CS6243', 'CS1281'], ['CS3221', 'CS5346', 'CS4224', 'CS2107', 'CS5223'], ['CS4243', 'CS5237', 'CS5240', 'CS4224', 'CS4247'], ['CS5237', 'CS5346', 'CS5339', 'CS6270', 'CS4220'], ['CS6206', 'CS5237', 'CS5240', 'CS4216', 'CS6202'], ['CS3220', 'CS2030', 'CS4237', 'CS3211', 'CS3281'], ['CS4237', 'CS5230', 'CS5271', 'CS3236', 'CS3230'], ['CS3221', 'CS5422', 'CS3237', 'CS2040', 'CS5331'], ['CS2104', 'CS4215', 'CS4216', 'CS6202', 'CS3234'], ['CS3237', 'CS5346', 'CS4224', 'CS4344', 'CS5422'], ['CS2309', 'CS3221', 'CS4239', 'CS2030', 'CS3211'], ['CS3281', 'CS2113T', 'CS1020E', 'CS3234', 'CS5271'], ['CS6206', 'CS3247', 'CS5237', 'CS5343', 'CS5230'], ['CS2309', 'CS1010S', 'CS2040', 'CS1010E', 'CS1010FC/X'], ['CS3221', 'CS5238', 'CS4232', 'CS4257', 'CS6231'], ['CS4245', 'CS5238', 'CS6240', 'CS2107', 'CS3236'], ['CS2104', 'CS4215', 'CS4216', 'CS3234', 'CS5219'], ['CS4239', 'CS6270', 'CS2107', 'CS5476', 'CS4238'], ['CS3220', 'CS4350', 'CS6270', 'CS5223', 'CS3283'], ['CS6206', 'CS3247', 'CS3241', 'CS5240', 'CS5237'], ['CS3243', 'CS1010S', 'CS5425', 'CS5339', 'CS3244'], ['CS5424', 'CS3237', 'CS2220', 'CS5223', 'CS4237'], ['CS5424', 'CS5425', 'CS2220', 'CS6280', 'CS5228'], ['CS6206', 'CS3247', 'CS5237', 'CS4220', 'CS4235'], ['CS4243', 'CS5424', 'CS5425', 'CS5339', 'CS3244'], ['CS6206', 'CS2040', 'CS5346', 'CS1280', 'CS5249'], ['CS5237', 'CS5238', 'CS1280', 'CS4232', 'CS1010'], ['CS5322', 'CS5439', 'CS5331', 'CS3281', 'CS6213'], ['CS2309', 'CS5424', 'CS4226', 'CS2040', 'CS5229'], ['CS2104', 'CS5339', 'CS5478', 'CS5219', 'CS5271'], ['CS3237', 'CS3103', 'CS6240', 'CS6270', 'CS5233'], ['CS3243', 'CS4243', 'CS5425', 'CS5345', 'CS2220'], ['CS4225', 'CS4243', 'CS5425', 'CS5345', 'CS4224'], ['CS4215', 'CS4216', 'CS3237', 'CS5422', 'CS3244'], ['CS6206', 'CS6240', 'CS5339', 'BT5110', 'CS5340'], ['CS3221', 'CS2040', 'CS3103', 'CS6270', 'CS6205'], ['CS5339', 'CS1280', 'CS1101S', 'CS1010', 'CS5344'], ['CS5237', 'CS5238', 'CS4232', 'CS2100', 'CS4222'], ['CS5237', 'CS1010S', 'CS1010E', 'CS1231', 'CS1280'], ['CS3237', 'CS5422', 'CS4344', 'CS6205', 'CS5233'], ['CS3247', 'CS2040', 'CS5238', 'CS3242', 'CS4235'], ['CS5237', 'CS2040', 'CS6234', 'CS3236', 'CS5230'], ['CS5424', 'CS4225', 'CS5425', 'CS5346', 'CS4224'], ['CS3243', 'CS5478', 'CS5248', 'CS5340', 'CS6208'], ['CS3247', 'CS3241', 'CS4350', 'CS4235', 'CS4257'], ['CS3221', 'CS5223', 'CS5233', 'CS5340', 'CS5242'], ['CS5223', 'CS4235', 'CS2100', 'CS6220', 'CS4223'], ['CS5339', 'CS1280', 'CS6220', 'CS5332', 'CS5425'], ['CS4226', 'CS5422', 'CS3237', 'CS3103', 'CS5223'], ['CS1010S', 'CS2040', 'CS1010E', 'CS1231', 'CS6280'], ['CS4224', 'CS5331', 'CS6231', 'CS6220', 'CS5344'], ['CS3243', 'CS4243', 'CS5425', 'CS5345', 'CS5424'], ['CS4216', 'CS4220', 'CS4214', 'CS2309', 'CS1010S'], ['CS6206', 'CS4347', 'CS5332', 'CS6207', 'CS6209'], ['CS3241', 'CS5346', 'CS4224', 'CS4350', 'CS4351'], ['CS3241', 'CS3237', 'CS3103', 'CS5223', 'CS4235'], ['CS5425', 'CS5346', 'CS6280', 'CS5228', 'BT5110'], ['CS4215', 'CS3220', 'CS5223', 'CS3211', 'CS5271'], ['CS4245', 'CS5249', 'CS4242', 'CS3249', 'CS2108'], ['CS2040', 'BT5110', 'CS4220', 'CS1101S', 'CS4221'], ['CS6206', 'CS3247', 'CS3241', 'CS5240', 'CS5237'], ['CS4225', 'CS4224', 'CS4239', 'CS6280', 'CS2107'], ['CS2104', 'CS5424', 'CS6209', 'CS5239', 'CS3234'], ['CS4243', 'CS3241', 'CS3211', 'CS5219', 'CS3234'], ['CS5223', 'CS5233', 'CS3281', 'CS4220', 'CS6234'], ['CS4243', 'CS5424', 'CS4245', 'CS5322', 'CS6270'], ['CS3243', 'CS4243', 'CS5425', 'CS5232', 'CS5339'], ['CS5330', 'CS3217', 'CS4880', 'CS6208', 'CS3216'], ['CS2113', 'CS5232', 'CS5272', 'CS4211', 'CS6280'], ['CS5237', 'CS3241', 'CS5238', 'CS3236', 'CS3230'], ['CS6206', 'CS3202', 'CS3241', 'CS3201', 'CS5240'], ['CS2040', 'CS2030', 'CS1231', 'CS4237', 'CS1281'], ['CS2107', 'CS6209', 'CS5331', 'CS6244', 'CS5476'], ['CS6206', 'CS4243', 'CS5237', 'CS5346', 'CS6240'], ['CS5425', 'CS5322', 'CS4224', 'CS5345', 'CS2220'], ['CS4220', 'CS6220', 'CS4221', 'CS5344', 'CS6207'], ['CS4215', 'CS1010S', 'CS1010FC/X', 'CS1010E', 'CS3234'], ['CS5422', 'CS4344', 'CS3237', 'CS5229', 'CS4216'], ['CS3247', 'CS1010S', 'CS1010FC/X', 'CS1010E', 'CS1231'], ['CS3202', 'CS2113', 'CS3220', 'CS5272', 'CS3219'], ['CS4215', 'CS2104', 'CS6202', 'CS5218', 'CS3236'], ['CS1010FC/X', 'CS1010E', 'CS2030', 'CS5223', 'CS3211'], ['CS3221', 'CS4245', 'CS5345', 'CS5439', 'CS3283'], ['CS6215', 'CS6280', 'CS2107', 'CS6205', 'CS6231'], ['CS6205', 'CS4220', 'CS4221', 'CS4214', 'CS3234'], ['CS3237', 'CS5233', 'CS3242', 'CS3281', 'CS6220'], ['CS3202', 'CS2113', 'CS4224', 'CS4218', 'CS2107'], ['CS3237', 'CS6270', 'CS5223', 'CS3281', 'CS2281'], ['CS6270', 'CS3242', 'CS3281', 'CS4223', 'CS2113T'], ['CS5346', 'CS5238', 'CS5339', 'CS4232', 'CS4257'], ['CS5322', 'CS2220', 'CS3205', 'CS6280', 'CS3284'], ['CS6202', 'CS4247', 'CS5343', 'CS6209', 'CS5219'], ['CS4215', 'CS5425', 'CS5238', 'CS5219', 'CS3230'], ['CS4243', 'CS4344', 'CS3234', 'CS4244', 'CS5271'], ['CS3281', 'CS4220', 'CS2113T', 'CS6207', 'CS4248'], ['CS2309', 'CS4225', 'CS5424', 'CS5425', 'CS5346'], ['CS5331', 'CS6209', 'CS3281', 'CS2281', 'CS4235'], ['CS5237', 'CS3236', 'CS5230', 'CS5222', 'CS4232'], ['CS4215', 'CS2104', 'CS4216', 'CS3245', 'CS4237'], ['CS3221', 'CS3237', 'CS4344', 'CS5331', 'CS3281'], ['CS4243', 'CS5240', 'CS3211', 'CS6211', 'CS5214'], ['CS6206', 'CS2104', 'CS5345', 'CS6202', 'CS6240'], ['CS4215', 'CS4245', 'CS3201', 'CS4226', 'CS3234'], ['CS4243', 'CS3243', 'CS5339', 'CS4247', 'CS3205'], ['CS5345', 'CS5339', 'CS4278', 'CS5228', 'CS4244'], ['CS4243', 'CS3241', 'CS5237', 'CS2220', 'CS5230'], ['CS4216', 'CS6202', 'BT5110', 'CS5239', 'CS5219'], ['CS4215', 'CS2104', 'CS6202', 'CS3283', 'CS3234'], ['CS3247', 'CS5424', 'CS4225', 'CS5346', 'CS2220'], ['CS6206', 'CS5422', 'CS5346', 'CS6270', 'CS5223'], ['CS5424', 'CS1010S', 'CS2040', 'CS5425', 'CS5346'], ['CS5346', 'CS6240', 'CS4220', 'CS5340', 'CS6234'], ['CS4215', 'CS4243', 'CS3241', 'CS5240', 'CS4247'], ['CS5424', 'CS4226', 'CS5422', 'CS5229', 'CS3103'], ['CS4247', 'CS6243', 'CS4220', 'CS3249', 'CS4235'], ['CS5422', 'CS4344', 'CS3237', 'CS5223', 'CS3271'], ['CS2104', 'CS6206', 'CS3243', 'CS3220', 'CS5339'], ['CS6206', 'CS5424', 'CS4245', 'CS5346', 'CS5223'], ['CS2309', 'CS2030', 'CS1010', 'CS5476', 'CS2010'], ['CS2040', 'CS5346', 'CS1010E', 'CS5345', 'CS2220'], ['CS2104', 'CS1010S', 'CS2040', 'CS4245', 'CS5237'], ['CS4344', 'CS3103', 'CS1280', 'CS6205', 'CS4220'], ['CS3281', 'CS2113T', 'CS3201', 'CS3284', 'CS3203'], ['CS5231', 'CS4245', 'CS5346', 'CS6240', 'CS6209'], ['CS6206', 'CS5346', 'CS6207', 'CS5339', 'CS5345'], ['CS6206', 'CS3247', 'CS4245', 'CS4243', 'CS3220'], ['CS5422', 'CS5223', 'CS2281', 'CS6220', 'CS4221'], ['CS3221', 'CS5237', 'CS4350', 'CS5343', 'CS6209'], ['CS3241', 'CS5229', 'CS3220', 'CS6270', 'CS6241'], ['CS5339', 'CS5242', 'CS1010', 'CS6207', 'CS1020E'], ['CS4243', 'CS3243', 'CS6207', 'CS5339', 'CS3244'], ['CS5424', 'CS4226', 'CS3103', 'CS5339', 'CS3281'], ['CS4245', 'CS3220', 'CS5322', 'CS5345', 'CS2220'], ['CS3221', 'CS5240', 'CS5346', 'CS4239', 'CS4350'], ['CS6206', 'CS5244', 'CS5425', 'CS5346', 'CS6240'], ['CS6206', 'CS4245', 'CS5346', 'CS6240', 'CS3220'], ['CS5346', 'CS4224', 'CS5322', 'CS2220', 'CS6280'], ['CS4245', 'CS2040', 'CS3220', 'CS5345', 'CS6240'], ['CS5234', 'CS2107', 'CS4232', 'CS4257', 'CS5332'], ['CS5424', 'CS2113', 'CS4344', 'CS3220', 'CS3211'], ['CS3202', 'CS5345', 'CS2113', 'CS5272', 'CS4350'], ['CS4215', 'CS3201', 'CS2113', 'CS3205', 'CS3283'], ['CS3202', 'CS3201', 'CS4211', 'CS5272', 'CS3219'], ['CS5237', 'CS5238', 'CS2220', 'CS5230', 'CS3236'], ['CS4245', 'CS5425', 'CS5346', 'CS6202', 'CS6240'], ['CS4225', 'CS5424', 'CS5425', 'CS5346', 'CS4224'], ['CS2309', 'CS5237', 'CS5425', 'CS2040', 'CS1010E'], ['CS5425', 'CS5346', 'CS4224', 'CS6280', 'CS5228'], ['CS5346', 'CS4224', 'CS5339', 'CS4220', 'CS5242'], ['CS5422', 'CS4344', 'CS2107', 'CS5331', 'CS6205'], ['CS5424', 'CS5425', 'CS4224', 'CS5339', 'CS2220'], ['CS3221', 'CS6280', 'CS5228', 'CS5331', 'CS5332'], ['CS5424', 'CS4225', 'CS5230', 'CS3230', 'CS3225'], ['CS1010E', 'CS5345', 'CS1231', 'CS1280', 'CS4235'], ['CS5345', 'CS5339', 'CS5228', 'CS4237', 'CS3281'], ['CS2040', 'CS5345', 'CS1280', 'CS4237', 'CS5228'], ['CS3281', 'CS5223', 'CS4237', 'CS4241', 'CS5222'], ['CS3237', 'CS4344', 'CS6240', 'CS6270', 'CS3281'], ['CS2113', 'CS5346', 'CS4239', 'CS2220', 'CS3235'], ['CS2104', 'CS2040', 'CS4224', 'CS1231', 'CS5271'], ['CS5237', 'CS5238', 'CS5234', 'CS3236', 'CS3230'], ['CS6206', 'CS5424', 'CS5229', 'CS2220', 'CS3236'], ['CS6206', 'CS3247', 'CS3241', 'CS3237', 'CS5237'], ['CS6207', 'CS5223', 'CS5478', 'CS6244', 'CS5340'], ['CS4215', 'CS2104', 'CS4216', 'CS6202', 'CS5218'], ['CS6206', 'CS3247', 'CS3241', 'CS5240', 'CS4350'], ['CS3247', 'CS4216', 'CS6202', 'CS6207', 'CS5218'], ['CS2104', 'CS4215', 'CS4226', 'CS3220', 'CS6202'], ['CS1010S', 'CS2040', 'CS5346', 'CS5228', 'CS5271'], ['CS5424', 'CS4239', 'CS6270', 'CS2107', 'CS3211'], ['CS4216', 'CS6202', 'CS6270', 'CS5223', 'CS3234'], ['CS4215', 'CS2104', 'CS2040', 'CS1010E', 'CS6202'], ['CS3221', 'CS4216', 'CS2107', 'CS5331', 'CS4214'], ['CS2309', 'CS4245', 'CS5345', 'CS6240', 'CS3245'], ['CS6206', 'CS4243', 'CS5244', 'CS2309', 'CS6207'], ['CS5238', 'CS2220', 'CS5230', 'CS3236', 'CS3230'], ['CS4245', 'CS3237', 'CS2030', 'CS3236', 'CS6241'], ['CS6206', 'CS3247', 'CS5237', 'CS5240', 'CS4243'], ['CS6206', 'CS3281', 'CS4347', 'CS6207', 'CS3201'], ['CS4215', 'CS2104', 'CS5321', 'CS4216', 'CS3103'], ['CS4243', 'CS3243', 'CS5339', 'CS4244', 'CS5239'], ['CS4239', 'CS5439', 'CS5331', 'CS6209', 'CS4238'], ['CS2104', 'CS1010S', 'CS4216', 'CS6202', 'CS3234'], ['CS5424', 'CS5425', 'CS6280', 'BT5110', 'CS5219'], ['CS3237', 'CS5249', 'CS6234', 'CS2113T', 'CS3271'], ['CS5237', 'CS3241', 'CS1280', 'CS3242', 'CS4351'], ['CS3247', 'CS4350', 'CS6241', 'CS6243', 'CS3242'], ['CS2104', 'CS2309', 'CS5424', 'CS3237', 'CS4237'], ['CS6206', 'CS4225', 'CS5345', 'CS3236', 'CS5230'], ['CS2040', 'CS6270', 'CS5223', 'CS5222', 'CS1281'], ['CS6206', 'CS5346', 'CS5249', 'CS3284', 'CS2108'], ['CS5424', 'CS5322', 'CS5232', 'CS6240', 'CS5228'], ['CS5424', 'CS5425', 'CS1010E', 'CS5346', 'CS2220'], ['CS5424', 'CS4226', 'CS5422', 'CS5229', 'CS3103'], ['CS4226', 'CS5422', 'CS3220', 'CS4344', 'CS5223'], ['CS4216', 'CS6202', 'CS3882', 'CS3244', 'CS5228'], ['CS6206', 'CS3247', 'CS5237', 'CS5238', 'CS4232'], ['CS4243', 'CS5425', 'CS5345', 'CS5339', 'CS4244'], ['CS4243', 'CS5345', 'CS5339', 'CS6270', 'CS5228'], ['CS4216', 'CS1280', 'CS3234', 'CS1281', 'CS1101S'], ['CS5425', 'CS6280', 'BT5110', 'CS3249', 'CS6213'], ['CS2309', 'CS1010FC/X', 'CS3201', 'CS6270', 'CS1280'], ['CS4344', 'CS2107', 'CS4257', 'CS6231', 'CS2100'], ['CS5331', 'CS5476', 'CS5332', 'CS4238', 'CS4257'], ['CS4215', 'CS4216', 'CS5345', 'CS5223', 'CS5271'], ['CS5237', 'CS5238', 'CS2220', 'CS3205', 'CS3236'], ['CS4243', 'CS3220', 'CS6270', 'CS5223', 'CS5228'], ['CS5424', 'CS5223', 'CS4237', 'CS5239', 'CS3281'], ['CS5237', 'CS5422', 'CS3237', 'CS4350', 'CS3281'], ['CS4211', 'CS5218', 'CS5331', 'CS6209', 'CS6211'], ['CS4344', 'CS5223', 'CS3281', 'CS5233', 'CS2100'], ['CS3247', 'CS3202', 'CS3201', 'CS6280', 'CS5271'], ['CS5422', 'CS2040', 'CS3237', 'CS6270', 'CS6205'], ['CS1010S', 'CS1010FC/X', 'CS2030', 'CS4237', 'CS5222'], ['CS3221', 'CS4239', 'CS2107', 'CS5331', 'CS6209'], ['CS3243', 'CS4243', 'CS5228', 'CS6244', 'CS2281'], ['CS2040', 'CS3283', 'CS3234', 'CS2103', 'CS3217'], ['CS6206', 'CS5238', 'CS6234', 'CS5271', 'CS3203'], ['CS3221', 'CS2040', 'CS6207', 'CS1280', 'CS5246'], ['CS4225', 'CS5425', 'CS5345', 'CS6207', 'CS5346'], ['CS6206', 'CS3247', 'CS2040', 'CS3103', 'CS4350'], ['CS5237', 'CS4216', 'CS5234', 'CS4232', 'CS4235'], ['CS3201', 'CS4211', 'CS2113', 'CS3283', 'CS6280'], ['CS5424', 'CS3211', 'CS5222', 'CS5233', 'CS3282'], ['CS3247', 'CS5237', 'CS5240', 'CS5422', 'CS4237'], ['CS2309', 'CS1010S', 'CS2040', 'CS1010E', 'CS2030'], ['CS5424', 'CS4245', 'CS3220', 'CS5223', 'CS5239'], ['CS4215', 'CS2104', 'CS4216', 'CS5272', 'CS3234'], ['CS3221', 'CS4225', 'CS5439', 'CS2107', 'CS5331'], ['CS4216', 'CS3103', 'CS5223', 'CS6205', 'CS3281'], ['CS5346', 'CS3220', 'CS4247', 'CS5223', 'CS4237'], ['CS4245', 'CS5237', 'CS5238', 'CS5249', 'CS3284'], ['CS5424', 'CS3201', 'CS4224', 'CS5272', 'CS3219'], ['CS5425', 'CS6202', 'CS4239', 'CS3244', 'CS5228'], ['CS5321', 'CS4226', 'CS4344', 'CS3103', 'CS5229'], ['CS3243', 'CS5425', 'CS3283', 'CS4237', 'CS3205'], ['CS5239', 'CS3225', 'CS5233', 'CS3282', 'CS4234'], ['CS3271', 'CS4211', 'CS3283', 'CS6280', 'CS5271'], ['CS3237', 'CS3244', 'CS4237', 'CS5223', 'CS5478'], ['CS5424', 'CS3220', 'CS3211', 'CS5239', 'CS5222'], ['CS3283', 'CS4237', 'CS5239', 'CS5233', 'CS3281'], ['CS5424', 'CS3237', 'CS4247', 'CS5223', 'CS4237'], ['CS4226', 'CS4211', 'CS5232', 'CS5272', 'CS3234'], ['CS5237', 'CS2220', 'CS3236', 'CS5230', 'CS3230'], ['CS2220', 'CS3236', 'CS5230', 'CS3225', 'CS3233'], ['CS6206', 'CS6270', 'CS5223', 'CS3211', 'CS5239'], ['CS5232', 'CS3205', 'CS4237', 'CS6280', 'CS5239'], ['CS3241', 'CS5339', 'CS3281', 'CS3242', 'CS4235'], ['CS6206', 'CS1010S', 'CS4345', 'CS1231', 'CS4237'], ['CS5237', 'CS4257', 'CS2309', 'CS5271', 'CS3217'], ['CS3243', 'CS4243', 'CS3244', 'CS3236', 'CS6220'], ['CS5237', 'CS5238', 'CS6270', 'CS4232', 'CS4257'], ['CS3221', 'CS5331', 'CS1101S', 'CS4257', 'CS6209'], ['CS2104', 'CS4216', 'CS3271', 'CS4211', 'CS5272'], ['CS3220', 'CS5238', 'CS5223', 'CS4237', 'CS5230'], ['CS6206', 'CS3243', 'CS5237', 'CS1010S', 'CS4350'], ['CS1010S', 'CS1010J', 'CS2030', 'CS1231', 'CS4347'], ['CS4237', 'CS3211', 'CS5239', 'CS3281', 'CS2281'], ['CS1010FC/X', 'CS6240', 'CS1231', 'CS6202', 'CS5249'], ['CS5237', 'CS5238', 'CS5234', 'CS2220', 'CS5230'], ['CS4243', 'CS3241', 'CS5425', 'CS5345', 'CS4211'], ['CS4225', 'CS5424', 'CS5425', 'CS2220', 'CS5228'], ['CS3247', 'CS5237', 'CS6240', 'CS1280', 'CS5249'], ['CS3221', 'CS2107', 'BT5110', 'CS5242', 'CS4257'], ['CS2309', 'CS4224', 'CS2030', 'CS1231', 'CS3205'], ['CS5346', 'CS4224', 'CS2220', 'CS6280', 'CS5228'], ['CS5422', 'CS5229', 'CS3220', 'CS3103', 'CS4344'], ['CS3202', 'CS1231', 'CS3219', 'CS3283', 'CS5271'], ['CS4245', 'CS6240', 'CS2113T', 'CS3284', 'CS3226'], ['CS5422', 'CS4344', 'CS3103', 'CS4216', 'CS3237'], ['CS4243', 'CS3241', 'CS1010FC/X', 'CS5223', 'CS6243'], ['CS3243', 'CS5425', 'CS5339', 'CS3244', 'CS5228'], ['CS4344', 'CS3103', 'CS5238', 'CS3220', 'CS3236'], ['CS3202', 'CS3201', 'CS4211', 'CS3219', 'CS3205'], ['CS5345', 'CS5339', 'CS3230', 'CS3225', 'CS5215'], ['CS5244', 'CS5425', 'CS5345', 'CS6240', 'CS3283'], ['CS4224', 'CS6280', 'CS5228', 'CS3234', 'CS4212'], ['CS5425', 'CS5345', 'CS3244', 'CS5228', 'CS4244'], ['CS4245', 'CS5346', 'CS3283', 'CS5249', 'CS5478'], ['CS5237', 'CS4237', 'CS3236', 'CS3281', 'CS5332'], ['CS2309', 'CS3221', 'CS4245', 'CS2040', 'CS5346'], ['CS4225', 'CS5425', 'CS3236', 'CS6244', 'CS6213'], ['CS1010FC/X', 'CS5237', 'CS4248', 'CS2040C', 'CS1010'], ['CS4243', 'CS3243', 'CS3244', 'CS5478', 'CS6244'], ['CS4245', 'CS1010S', 'CS4345', 'CS6240', 'CS3283'], ['CS5425', 'CS5232', 'CS3283', 'CS5228', 'CS3226'], ['CS5231', 'CS3283', 'CS2107', 'CS4241', 'CS4238'], ['CS4243', 'CS5343', 'CS2107', 'CS6243', 'CS1281'], ['CS4225', 'CS5425', 'CS5346', 'CS6280', 'CS5228'], ['CS5238', 'CS5230', 'CS4234', 'CS4257', 'CS4231'], ['CS5424', 'CS3201', 'CS4211', 'CS3219', 'CS5271'], ['CS4211', 'CS3205', 'CS6280', 'CS3283', 'CS3281'], ['CS5237', 'CS5238', 'CS2220', 'CS3236', 'CS5230'], ['CS5237', 'CS6207', 'CS5339', 'CS6270', 'CS5223'], ['CS1010FC/X', 'CS2040', 'CS1231', 'CS2030', 'CS1280'], ['CS3221', 'CS4350', 'CS2220', 'CS2107', 'CS5331'], ['CS4243', 'CS5425', 'CS5343', 'CS5478', 'CS6244'], ['CS3221', 'CS2107', 'CS5331', 'CS6209', 'CS6211'], ['CS2104', 'CS5237', 'CS5238', 'CS5234', 'CS4218'], ['CS2040', 'CS4216', 'CS2107', 'CS6231', 'CS4257'], ['CS5424', 'CS1010FC/X', 'CS4344', 'CS1010E', 'CS1231'], ['CS5424', 'CS5425', 'CS5234', 'CS5228', 'CS5230'], ['CS5237', 'CS5346', 'CS5238', 'CS6240', 'CS5230'], ['CS4225', 'CS5346', 'CS5322', 'CS2220', 'CS6209'], ['CS4216', 'CS5238', 'CS1280', 'CS5233', 'CS4257'], ['CS3243', 'CS5237', 'CS5425', 'CS5339', 'CS3244'], ['CS6207', 'CS3283', 'CS2107', 'CS3234', 'CS5271'], ['CS4243', 'CS5240', 'CS1010E', 'CS5343', 'CS6241'], ['CS5424', 'CS4225', 'CS3201', 'CS5346', 'CS4224'], ['CS6206', 'CS3247', 'CS3241', 'CS5237', 'CS3242'], ['CS4215', 'CS5425', 'CS5345', 'CS4216', 'CS5346'], ['CS5237', 'CS5238', 'CS3219', 'CS3244', 'CS5228'], ['CS5230', 'CS5331', 'CS3236', 'CS3225', 'CS5330'], ['CS4245', 'CS5232', 'CS6240', 'CS3219', 'CS6280'], ['CS5238', 'CS6234', 'CS5230', 'CS3236', 'CS3230'], ['CS5422', 'CS2040', 'CS3237', 'CS5339', 'CS5223'], ['CS6270', 'CS2113T', 'CS5271', 'CS3234', 'CS3226'], ['CS1010S', 'CS1010E', 'CS2030', 'CS3219', 'CS2220'], ['CS5346', 'CS3103', 'CS5322', 'CS2107', 'CS5228'], ['CS6206', 'CS4243', 'CS5345', 'CS6207', 'CS4247'], ['CS4226', 'CS5422', 'CS3237', 'CS4237', 'CS5233'], ['CS6206', 'CS5346', 'CS3103', 'CS6240', 'CS4347'], ['CS4237', 'CS6209', 'CS5239', 'CS5233', 'CS2281'], ['CS4215', 'CS2104', 'CS5237', 'CS6215', 'CS5238'], ['CS4224', 'CS5340', 'CS4220', 'CS6220', 'CS5344'], ['CS3237', 'CS5229', 'CS3103', 'CS5238', 'CS6240'], ['CS4243', 'CS5343', 'CS6243', 'CS5331', 'CS2108'], ['CS1010S', 'CS2220', 'CS3211', 'CS5271', 'CS4232'], ['CS2040', 'CS1280', 'CS2100', 'CS4214', 'CS1020E'], ['CS6206', 'CS4225', 'CS3241', 'CS5240', 'CS5424'], ['CS3281', 'CS4232', 'CS4257', 'CS2113T', 'CS3202'], ['CS2309', 'CS3221', 'CS1010FC/X', 'CS2040', 'CS1010E'], ['CS1010FC/X', 'CS2040', 'CS1010E', 'CS1231', 'CS5476'], ['CS3221', 'CS6209', 'CS5476', 'CS5332', 'CS4238'], ['CS5424', 'CS3221', 'CS5345', 'CS6240', 'CS2030'], ['CS4215', 'CS5237', 'CS4216', 'CS5240', 'CS6202'], ['CS5237', 'CS2220', 'CS5234', 'CS5230', 'CS3225'], ['CS6206', 'CS3247', 'CS6240', 'CS5223', 'CS5249'], ['CS6270', 'CS1280', 'CS5223', 'CS6231', 'CS2100'], ['CS2104', 'CS5424', 'CS4226', 'CS4215', 'CS4344'], ['CS3221', 'CS4216', 'CS5346', 'CS6240', 'CS5249'], ['CS2309', 'CS3237', 'CS2040', 'CS1231', 'CS2030'], ['CS5237', 'CS5238', 'CS5234', 'BT5110', 'CS4232'], ['CS5345', 'CS5339', 'CS3244', 'CS5228', 'CS5478'], ['CS6206', 'CS5237', 'CS4350', 'CS5331', 'CS3281'], ['CS5424', 'CS5232', 'CS4224', 'CS1010E', 'CS5272'], ['CS5339', 'CS3242', 'CS4220', 'CS4235', 'CS4351'], ['CS6206', 'CS5237', 'CS3237', 'CS4350', 'CS6270'], ['CS2104', 'CS5424', 'CS5237', 'CS4216', 'CS3219'], ['CS2104', 'CS4216', 'CS4237', 'CS5271', 'CS4212'], ['CS4243', 'CS5345', 'CS1010J', 'CS4224', 'CS5228'], ['CS2309', 'CS5424', 'CS4225', 'CS2040', 'CS5425'], ['CS3202', 'CS3201', 'CS2113', 'CS5272', 'CS3219'], ['CS4216', 'CS5339', 'CS2107', 'CS4214', 'CS3236'], ['CS3247', 'CS5424', 'CS4216', 'CS3220', 'CS6202'], ['CS4225', 'CS4243', 'CS4216', 'CS5425', 'CS5346'], ['CS3243', 'CS5424', 'CS3220', 'CS6240', 'CS6270'], ['CS4243', 'CS5237', 'CS3241', 'CS5272', 'CS5343'], ['CS2104', 'CS4216', 'CS6202', 'CS3211', 'CS5271'], ['CS3221', 'CS2040', 'CS5331', 'CS6231', 'CS4257'], ['CS4225', 'CS5425', 'CS5345', 'CS6280', 'CS5478'], ['CS4243', 'CS3243', 'CS5425', 'CS5345', 'CS3244'], ['CS3241', 'CS5422', 'CS3103', 'CS5223', 'CS6205'], ['CS3247', 'CS5237', 'CS5339', 'CS3234', 'CS5271'], ['CS5238', 'CS2220', 'CS6280', 'CS2102', 'CS4221'], ['CS3221', 'CS4239', 'CS6209', 'CS5476', 'CS3233'], ['CS3220', 'CS5223', 'CS4237', 'CS5233', 'CS2281'], ['CS6206', 'CS4243', 'CS3202', 'CS5343', 'CS3218'], ['CS4225', 'CS1010S', 'CS6270', 'CS2107', 'CS2100'], ['CS5422', 'CS3237', 'CS6240', 'CS3103', 'CS5223'], ['CS6270', 'CS5223', 'CS6205', 'CS5233', 'CS4232'], ['CS4226', 'CS5229', 'CS3220', 'CS3205', 'CS3234'], ['CS4243', 'CS6240', 'CS3244', 'CS4237', 'CS5478'], ['CS3221', 'CS3281', 'CS2113T', 'CS3202', 'CS3201'], ['CS4216', 'CS2107', 'CS3281', 'CS4257', 'CS2113T'], ['BT5110', 'CS5340', 'CS6220', 'CS1010', 'CS6207'], ['CS6206', 'CS3247', 'CS3241', 'CS4216', 'CS2107'], ['CS2104', 'CS5218', 'CS5271', 'CS5214', 'CS4241'], ['CS5346', 'CS2107', 'CS4237', 'CS5476', 'CS4257'], ['CS3221', 'CS6209', 'CS5331', 'CS5476', 'CS4238'], ['CS5339', 'CS5249', 'CS3236', 'CS3233', 'CS4238'], ['CS5424', 'CS4226', 'CS3237', 'CS5229', 'CS4344'], ['CS5424', 'CS5232', 'CS4224', 'CS5238', 'CS2220'], ['CS4350', 'CS5331', 'CS6231', 'CS5332', 'CS5271'], ['CS5424', 'CS6270', 'CS5223', 'CS4237', 'CS3211'], ['CS4215', 'CS2104', 'CS4225', 'CS5425', 'CS4216'], ['CS5339', 'CS5271', 'CS3211', 'CS6211', 'CS4257'], ['CS6240', 'CS3281', 'CS3271', 'CS3202', 'CS3201'], ['CS5424', 'CS5237', 'CS3241', 'CS4247', 'CS4350'], ['CS2309', 'CS1010S', 'CS2040', 'CS1010E', 'CS5238'], ['CS4216', 'CS1280', 'CS4347', 'CS3202', 'CS1010S'], ['CS3243', 'CS5425', 'CS5345', 'CS6280', 'CS5478'], ['CS3247', 'CS3241', 'CS4216', 'CS3103', 'CS4224'], ['CS3220', 'CS6270', 'CS5223', 'CS4237', 'CS3211'], ['CS4225', 'CS5237', 'CS5322', 'CS3244', 'CS6280'], ['CS2040', 'CS4344', 'CS3103', 'CS1280', 'CS6205'], ['CS2104', 'CS5238', 'CS4239', 'CS3236', 'CS5271'], ['CS6206', 'CS4245', 'CS5244', 'CS5425', 'CS6240'], ['CS6206', 'CS4243', 'CS3241', 'CS5237', 'CS5240'], ['CS4215', 'CS2104', 'CS4216', 'CS4211', 'CS3283'], ['CS5272', 'CS2030', 'CS1231', 'CS3244', 'CS6208'], ['CS2104', 'CS4216', 'CS5230', 'CS3236', 'CS5219'], ['CS4344', 'CS5223', 'CS6205', 'CS3281', 'CS2100'], ['CS2040', 'CS5339', 'CS1280', 'CS4220', 'CS5344'], ['CS6206', 'CS3241', 'CS4350', 'CS4247', 'CS3240'], ['CS2309', 'CS1010S', 'CS1010FC/X', 'CS2040', 'CS5425'], ['CS4226', 'CS5422', 'CS3220', 'CS5229', 'CS4344'], ['CS4243', 'CS3281', 'CS2281', 'CS4235', 'CS4351'], ['CS2040', 'CS5223', 'CS1101S', 'CS2100', 'CS5332'], ['CS6206', 'CS2104', 'CS4216', 'CS3211', 'CS5219'], ['CS3237', 'CS4216', 'CS3103', 'CS5346', 'CS6270'], ['CS5339', 'CS6270', 'CS5223', 'CS4220', 'CS5340'], ['CS4243', 'CS5237', 'CS3241', 'CS1020E', 'CS4350'], ['CS2104', 'CS4216', 'CS5425', 'CS6202', 'CS5346'], ['CS2113', 'CS5346', 'CS5241', 'CS3284', 'CS3217'], ['CS6206', 'CS3241', 'CS5237', 'CS5339', 'CS3242'], ['CS2104', 'CS4215', 'CS5237', 'CS5240', 'CS1010S'], ['CS4243', 'CS3243', 'CS5345', 'CS5339', 'CS3244'], ['CS3243', 'CS5345', 'CS2113', 'CS6234', 'CS3205'], ['CS4215', 'CS3220', 'CS6270', 'CS4237', 'CS3211'], ['CS5424', 'CS3237', 'CS5223', 'CS4237', 'CS3281'], ['CS3202', 'CS1010FC/X', 'CS1010S', 'CS3219', 'CS2220'], ['CS5424', 'CS5223', 'CS3281', 'CS3282', 'CS6211'], ['CS1010S', 'CS2040', 'CS3219', 'CS3283', 'CS1280'], ['CS5238', 'CS5234', 'CS5230', 'CS3230', 'CS5330'], ['CS2309', 'CS2040', 'CS5232', 'CS1010E', 'CS2113'], ['CS6206', 'CS2309', 'CS5237', 'CS2040', 'CS2030'], ['CS5424', 'CS4226', 'CS5229', 'CS4344', 'CS6270'], ['CS5424', 'CS5322', 'CS3220', 'CS6270', 'CS3205'], ['CS3247', 'CS3220', 'CS3236', 'CS3211', 'CS3281'], ['CS5238', 'CS3103', 'CS1101S', 'CS6234', 'CS3284'], ['CS5237', 'CS5238', 'CS2220', 'CS5230', 'CS3230'], ['CS3220', 'CS5238', 'CS3103', 'CS5234', 'CS6234'], ['CS5237', 'CS4216', 'CS2113', 'CS6202', 'CS2220'], ['CS5424', 'CS4245', 'CS5223', 'CS3283', 'CS5249'], ['CS4215', 'CS3241', 'CS5237', 'CS5238', 'CS2220'], ['CS2309', 'CS3247', 'CS6206', 'CS4216', 'CS6202'], ['CS4216', 'CS6220', 'CS5344', 'CS5228', 'CS5271'], ['CS4243', 'CS5237', 'CS2040', 'CS4247', 'CS3205'], ['CS5346', 'CS1280', 'CS4347', 'CS4221', 'CS1010'], ['CS5422', 'CS3237', 'CS6240', 'CS5232', 'CS3211'], ['CS5229', 'CS6280', 'CS5248', 'CS5233', 'CS2281'], ['CS2104', 'CS6206', 'CS5345', 'CS5346', 'CS6270'], ['CS5424', 'CS3247', 'CS3220', 'CS2220', 'CS3236'], ['CS3247', 'CS3241', 'CS5237', 'CS3221', 'CS5331'], ['CS4215', 'CS3247', 'CS3236', 'CS5230', 'CS3230'], ['CS6206', 'CS3221', 'CS4344', 'CS4224', 'CS5223'], ['CS2309', 'CS1010S', 'CS2040', 'CS5238', 'CS2030'], ['CS4243', 'CS6207', 'CS3244', 'CS4244', 'CS5478'], ['CS3247', 'CS3241', 'CS5237', 'CS4351', 'CS6231'], ['CS5240', 'CS3220', 'CS2030', 'CS5339', 'CS4237'], ['CS3243', 'CS5425', 'CS4214', 'CS3234', 'CS6209'], ['CS6270', 'CS4237', 'CS3211', 'CS5219', 'CS6213'], ['CS6206', 'CS5424', 'CS4226', 'CS3237', 'CS3220'], ['CS3221', 'CS3247', 'CS3241', 'CS5343', 'CS4237'], ['CS4225', 'CS4245', 'CS5346', 'CS6240', 'CS2030'], ['CS5424', 'CS3237', 'CS4344', 'CS3103', 'CS3220'], ['CS6206', 'CS5424', 'CS3237', 'CS5422', 'CS3220'], ['CS5322', 'CS5249', 'CS5476', 'CS2108', 'CS6211'], ['CS4215', 'CS5240', 'CS6202', 'CS5339', 'CS4247'], ['CS5346', 'CS6240', 'CS3103', 'CS5249', 'CS1101S'], ['CS5238', 'CS5234', 'CS4232', 'CS6234', 'CS5344'], ['CS3202', 'CS1010S', 'CS3201', 'CS2113', 'CS5232'], ['CS2040', 'CS5232', 'CS6207', 'CS3219', 'CS3205'], ['CS4226', 'CS3237', 'CS4216', 'CS4344', 'CS6202'], ['CS6206', 'CS5237', 'CS5339', 'CS4350', 'CS4235'], ['CS3221', 'CS2107', 'CS5476', 'CS6211', 'CS4257'], ['CS3201', 'CS4211', 'CS5232', 'CS2113', 'CS3219'], ['CS4243', 'CS3243', 'CS2220', 'CS5230', 'CS3236'], ['CS5223', 'CS5222', 'CS6213', 'CS6211', 'CS3282'], ['CS2040', 'CS2030', 'CS6270', 'CS2220', 'CS1010'], ['CS3241', 'CS5237', 'CS4247', 'CS5343', 'CS6243'], ['CS6206', 'CS3221', 'CS2040', 'CS1101S', 'CS3271'], ['CS3237', 'CS3281', 'CS6231', 'CS6220', 'CS3271'], ['CS6206', 'CS4216', 'CS4220', 'CS6231', 'CS5332'], ['CS2104', 'CS4215', 'CS1010FC/X', 'CS4216', 'CS1020E'], ['CS5237', 'CS5238', 'CS2220', 'CS6234', 'CS5230'], ['CS3243', 'CS5425', 'CS3244', 'CS5228', 'CS4244'], ['CS3237', 'CS5229', 'CS4344', 'CS3220', 'CS6270'], ['CS5424', 'CS4243', 'CS6270', 'CS3244', 'CS5228'], ['CS1010FC/X', 'CS2040', 'CS1010E', 'CS1010S', 'CS2030'], ['CS4243', 'CS5237', 'CS3241', 'CS4216', 'CS6280'], ['CS6206', 'CS4243', 'CS4245', 'CS5345', 'CS5249'], ['CS4215', 'CS5271', 'CS1101S', 'CS6231', 'CS4236'], ['CS2309', 'CS1010S', 'CS1010FC/X', 'CS2030', 'CS1231'], ['CS5425', 'CS5346', 'CS6280', 'CS5228', 'CS3205'], ['CS2104', 'CS4215', 'CS4216', 'CS5345', 'CS6202'], ['CS5346', 'CS2220', 'CS6280', 'CS5343', 'CS2107'], ['CS4215', 'CS4216', 'CS3201', 'CS6202', 'CS1231'], ['CS4215', 'CS4216', 'CS6202', 'CS2220', 'CS3205'], ['CS3247', 'CS3241', 'CS4216', 'CS3281', 'CS4220'], ['CS4243', 'CS3241', 'CS3247', 'CS5244', 'CS3283'], ['CS4224', 'CS6280', 'BT5110', 'CS4220', 'CS3223'], ['CS5237', 'CS5439', 'CS3211', 'CS3281', 'CS3242'], ['CS5331', 'CS4238', 'CS4347', 'CS4257', 'CS4271'], ['CS4215', 'CS4247', 'CS2220', 'CS4351', 'CS4240'], ['CS3243', 'CS5425', 'CS4344', 'CS5229', 'CS5339'], ['CS2106', 'CS3271', 'CS3202', 'CS3201', 'CS3234'], ['CS5237', 'CS5322', 'CS5238', 'CS5234', 'CS6234'], ['CS4225', 'CS5424', 'CS5425', 'CS5346', 'CS4224'], ['CS1010S', 'CS1010FC/X', 'CS1231', 'CS1280', 'CS5223'], ['CS2309', 'CS1010FC/X', 'CS1010S', 'CS1010E', 'CS2040'], ['CS5237', 'CS5339', 'CS5230', 'BT5110', 'CS5478'], ['CS5346', 'CS5233', 'CS4220', 'CS2281', 'CS3281'], ['CS5425', 'CS5346', 'CS4224', 'CS5322', 'CS2220'], ['CS5346', 'CS5345', 'CS4224', 'CS5322', 'CS5228'], ['CS5237', 'CS3220', 'CS5238', 'CS4350', 'CS5234'], ['CS1010FC/X', 'CS2040', 'CS4224', 'CS6280', 'CS4237'], ['CS4215', 'CS3243', 'CS6202', 'CS5223', 'CS5478'], ['CS5339', 'CS6270', 'CS5242', 'CS1010', 'CS4248'], ['CS5237', 'CS6240', 'CS1280', 'CS5249', 'CS6234'], ['CS3247', 'CS3103', 'CS3882', 'CS6280', 'CS5331'], ['CS5237', 'CS5339', 'CS3281', 'CS5340', 'CS4235'], ['CS4344', 'CS4224', 'CS6270', 'CS4350', 'CS4214'], ['CS2113', 'CS5232', 'CS5272', 'CS3219', 'CS4211'], ['CS4215', 'CS3211', 'CS5219', 'CS3234', 'CS5271'], ['CS4215', 'CS4216', 'CS3283', 'CS3236', 'CS3234'], ['CS5238', 'CS2220', 'CS5234', 'CS3236', 'CS5331'], ['CS5424', 'CS4226', 'CS1231', 'CS6234', 'CS5223'], ['CS2309', 'CS5346', 'CS1231', 'CS1280', 'CS6243'], ['CS1010S', 'CS2040', 'CS5346', 'CS6240', 'CS2030'], ['CS3247', 'CS1010FC/X', 'CS5240', 'CS3241', 'CS4247'], ['CS5424', 'CS5425', 'CS5346', 'CS4224', 'CS4220'], ['CS1010FC/X', 'CS1010E', 'CS5345', 'CS1231', 'CS5346'], ['CS3237', 'CS5229', 'CS3103', 'CS3220', 'CS6205'], ['CS5424', 'CS6234', 'CS5223', 'CS3211', 'CS5239'], ['CS6206', 'CS3247', 'CS3241', 'CS5223', 'CS3242'], ['CS5237', 'CS5234', 'CS4232', 'CS1101S', 'CS4235'], ['CS5237', 'CS3241', 'CS3242', 'CS4235', 'CS4351'], ['CS4243', 'CS5424', 'CS5425', 'CS3220', 'CS5238'], ['CS4216', 'CS6240', 'CS3103', 'CS5223', 'CS6205'], ['CS6206', 'CS4216', 'CS3281', 'CS4257', 'CS4214'], ['CS5231', 'CS5345', 'CS4239', 'CS2107', 'CS6209'], ['CS3241', 'CS4224', 'CS2107', 'CS4347', 'CS6231'], ['CS4245', 'CS5238', 'CS3283', 'CS4237', 'CS5223'], ['CS4237', 'CS5222', 'CS3281', 'CS4238', 'CS3282'], ['CS2104', 'CS4215', 'CS5424', 'CS4216', 'CS3234'], ['CS6206', 'CS5345', 'CS6240', 'CS3283', 'CS5249'], ['CS5424', 'CS4225', 'CS5322', 'CS4224', 'CS5346'], ['CS4215', 'CS4216', 'CS5331', 'CS3211', 'CS5219'], ['CS5424', 'CS3221', 'CS3237', 'CS3220', 'CS6270'], ['CS2040', 'CS1280', 'CS3281', 'CS2113T', 'CS3271'], ['CS3202', 'CS4211', 'CS6270', 'CS5223', 'CS3283'], ['CS5424', 'CS4225', 'CS5322', 'CS2220', 'BT5110'], ['CS5237', 'CS5223', 'BT5110', 'CS4232', 'CS2100'], ['CS6206', 'CS4215', 'CS4245', 'CS6240', 'CS3234'], ['CS3221', 'CS3241', 'CS4216', 'CS6280', 'CS6241'], ['CS5238', 'CS2220', 'CS6234', 'CS5228', 'CS3236'], ['CS6206', 'CS2040', 'CS4211', 'CS2030', 'CS3205'], ['CS3103', 'CS6270', 'CS5223', 'CS2100', 'CS4222'], ['CS5346', 'CS4224', 'BT5110', 'CS4220', 'CS6220'], ['CS4225', 'CS4245', 'CS3283', 'CS5228', 'CS5331'], ['CS4225', 'CS5424', 'CS5425', 'CS4211', 'CS4224'], ['CS5237', 'CS2220', 'CS3236', 'CS5230', 'CS3230'], ['CS3221', 'CS6270', 'CS5223', 'CS3234', 'CS6213'], ['CS6243', 'CS6209', 'CS3240', 'CS5476', 'CS4238'], ['CS5238', 'CS5223', 'CS5228', 'CS3283', 'BT5110'], ['CS5346', 'CS4224', 'CS4220', 'CS4221', 'CS6220'], ['CS5346', 'CS5345', 'CS3283', 'CS5228', 'CS4242'], ['CS6206', 'CS3241', 'CS2113', 'CS1231', 'CS3283'], ['CS3220', 'CS5223', 'CS4237', 'CS3211', 'CS5239'], ['CS5237', 'CS1010E', 'CS5238', 'CS2030', 'CS1010'], ['CS3247', 'CS3241', 'CS4350', 'CS2107', 'CS5331'], ['CS4225', 'CS3247', 'CS3241', 'CS4243', 'CS4247'], ['CS3247', 'CS3237', 'CS4247', 'CS5331', 'CS5233'], ['CS5231', 'CS5476', 'CS3226', 'CS6211', 'CS4236'], ['CS6206', 'CS5346', 'CS6207', 'CS3283', 'CS4242'], ['CS5339', 'CS6205', 'CS4220', 'CS5242', 'CS6220'], ['CS3241', 'CS5240', 'CS1010E', 'CS6270', 'CS6241'], ['CS5237', 'CS5238', 'CS5339', 'CS6270', 'BT5110'], ['CS5238', 'CS6270', 'CS5223', 'CS2281', 'CS2113T'], ['CS6206', 'CS4225', 'CS4245', 'CS6280', 'CS3283'], ['CS5237', 'CS4216', 'CS5346', 'CS6202', 'CS1231'], ['CS5237', 'CS5339', 'CS6234', 'CS3236', 'CS5230'], ['CS3221', 'CS5339', 'CS5340', 'CS6220', 'CS5344'], ['CS4226', 'CS5223', 'CS3281', 'CS6211', 'CS4257'], ['CS5339', 'CS5478', 'CS5215', 'CS4220', 'CS6208'], ['CS1010S', 'CS1010FC/X', 'CS1010E', 'CS5238', 'CS1231'], ['CS3247', 'CS5229', 'CS2107', 'CS6241', 'CS5476'], ['CS6270', 'CS3281', 'CS5233', 'CS4226', 'CS5271'], ['CS5237', 'CS3103', 'CS5223', 'CS1280', 'CS6205'], ['CS6206', 'CS5425', 'CS2113', 'CS3205', 'CS5478'], ['CS4225', 'CS5425', 'CS5322', 'CS4224', 'CS5228'], ['CS5345', 'CS3244', 'CS5228', 'CS5478', 'CS4244'], ['CS3221', 'CS5422', 'CS3220', 'CS2220', 'CS3244'], ['CS6206', 'CS5237', 'CS5238', 'CS1280', 'CS4235'], ['CS3221', 'CS5422', 'CS1231', 'CS2220', 'CS3236'], ['CS5237', 'CS5238', 'CS1280', 'CS4232', 'CS3236'], ['CS6206', 'CS4247', 'CS5249', 'CS4242', 'CS3242'], ['CS5237', 'CS2113', 'CS5238', 'CS1231', 'CS2220'], ['CS2309', 'CS5237', 'CS1010E', 'CS1231', 'CS4247'], ['CS3243', 'CS5229', 'CS6270', 'CS2107', 'CS4244'], ['CS2104', 'CS4216', 'CS6202', 'CS3234', 'CS5219'], ['CS3202', 'CS5237', 'CS3241', 'CS2113', 'CS5232'], ['CS5425', 'CS5345', 'CS6280', 'CS5478', 'CS3284'], ['CS2309', 'CS4243', 'CS1010S', 'CS3237', 'CS1010FC/X'], ['CS4225', 'CS4245', 'CS2040', 'CS5228', 'BT5110'], ['CS4344', 'CS5223', 'CS5233', 'CS4220', 'CS3281'], ['CS6206', 'CS5244', 'CS5345', 'CS5346', 'CS4350'], ['CS6206', 'CS1010FC/X', 'CS4245', 'CS5346', 'CS6207'], ['CS5223', 'CS5233', 'CS2281', 'CS4347', 'CS2100'], ['CS2104', 'CS3202', 'CS1010FC/X', 'CS3220', 'CS3211'], ['CS5424', 'CS5425', 'CS5240', 'CS4224', 'CS5346'], ['CS2220', 'CS5230', 'CS5219', 'CS3242', 'CS4234'], ['CS5346', 'CS4224', 'CS4221', 'CS1020E', 'CS2309'], ['CS5223', 'CS5233', 'CS4257', 'CS2100', 'CS2106'], ['CS6206', 'CS4243', 'CS1010FC/X', 'CS1231', 'CS5228'], ['CS2104', 'CS5424', 'CS4225', 'CS5346', 'CS4224'], ['CS2309', 'CS1010S', 'CS1010FC/X', 'CS2040', 'CS1231'], ['CS3221', 'CS5331', 'CS5476', 'CS6231', 'CS4271'], ['CS4245', 'CS5346', 'CS5345', 'CS3283', 'CS3284'], ['CS3247', 'CS5237', 'CS3241', 'CS4243', 'CS4247'], ['CS6206', 'CS4215', 'CS4245', 'CS5346', 'CS6240'], ['CS5424', 'CS2220', 'CS5228', 'CS4244', 'CS5215'], ['CS3202', 'CS3201', 'CS3219', 'CS3226', 'CS3217'], ['CS5346', 'CS5234', 'CS1280', 'CS5230', 'CS3225'], ['CS2104', 'CS3220', 'CS5229', 'CS6202', 'CS5223'], ['CS4245', 'CS3237', 'CS1010E', 'CS6240', 'CS3283'], ['CS4225', 'CS5424', 'CS5425', 'CS5322', 'CS6270'], ['CS6206', 'CS5422', 'CS5345', 'CS6207', 'CS3283'], ['CS4243', 'CS5240', 'CS3244', 'CS5228', 'CS5223'], ['CS6206', 'CS5424', 'CS4245', 'CS3284', 'CS4347'], ['CS3247', 'CS3271', 'CS2113', 'CS5232', 'CS5272'], ['CS3221', 'CS2107', 'CS5331', 'CS6209', 'CS5476'], ['CS4216', 'CS3237', 'CS4344', 'CS5346', 'CS6270'], ['CS3237', 'CS3220', 'CS3103', 'CS5229', 'CS6270'], ['CS2309', 'CS2040', 'CS5229', 'CS6270', 'CS5223'], ['CS6206', 'CS4245', 'CS5346', 'CS6240', 'CS5345'], ['CS5424', 'CS5422', 'CS5223', 'CS4237', 'CS5233'], ['CS6206', 'CS5346', 'CS5238', 'CS6240', 'CS3283'], ['CS3247', 'CS3241', 'CS4216', 'CS5237', 'CS5223'], ['CS4215', 'CS4243', 'CS4216', 'CS6207', 'CS6202'], ['CS5237', 'CS5238', 'CS6270', 'CS5233', 'CS3281'], ['CS5425', 'CS1010E', 'CS5346', 'CS5322', 'CS4224'], ['CS4226', 'CS5422', 'CS4344', 'CS4237', 'CS3211'], ['CS2309', 'CS1010S', 'CS2040', 'CS4344', 'CS3103'], ['CS3202', 'CS3201', 'CS3219', 'CS3205', 'CS3234'], ['CS3247', 'CS4226', 'CS3237', 'CS4344', 'CS5424'], ['CS3221', 'CS5238', 'CS5339', 'CS2107', 'CS4220'], ['CS6206', 'CS4226', 'CS4245', 'CS5345', 'CS5346'], ['CS5345', 'CS3283', 'CS5249', 'CS4347', 'CS5342'], ['CS6206', 'CS4344', 'CS3103', 'CS2107', 'CS6205'], ['CS5424', 'CS4245', 'CS5345', 'CS6240', 'CS4237'], ['CS1010S', 'CS1010FC/X', 'CS4211', 'CS5272', 'CS6280'], ['CS3247', 'CS5346', 'CS4224', 'CS4350', 'CS6280'], ['CS3202', 'CS2113', 'CS4211', 'CS5271', 'CS3284'], ['CS2107', 'CS3281', 'CS5233', 'CS4220', 'CS1101S'], ['CS3221', 'CS3284', 'CS3226', 'CS5476', 'CS5233'], ['CS6206', 'CS5346', 'CS6240', 'CS5249', 'CS4235'], ['CS5339', 'CS5233', 'CS5242', 'CS6220', 'CS6207'], ['CS2104', 'CS1010S', 'CS1010FC/X', 'CS1010E', 'CS1231'], ['CS5237', 'CS5345', 'CS5238', 'CS5343', 'CS3230'], ['CS3220', 'CS5238', 'CS5223', 'CS3211', 'CS5239'], ['CS5424', 'CS5425', 'CS5228', 'CS4244', 'CS3226'], ['CS6206', 'CS3247', 'CS5237', 'CS5240', 'CS4243'], ['CS5237', 'CS6270', 'CS4237', 'CS5230', 'CS3211'], ['CS5229', 'CS5345', 'CS3283', 'CS5246', 'CS4347'], ['CS6206', 'CS5238', 'CS4223', 'CS6211', 'CS5250'], ['CS2309', 'CS4215', 'CS1010FC/X', 'CS3211', 'CS5271'], ['CS4243', 'CS3241', 'CS6207', 'CS4350', 'CS5343'], ['CS5422', 'CS3220', 'CS4344', 'CS2107', 'CS3283'], ['CS3202', 'CS4211', 'CS3205', 'CS3283', 'CS6280']]\n",
            "Ytest:\n",
            " [['CS6211', 'CS3282', 'CS2100', 'CS2105', 'CS5250', 'CS3210'], ['CS3281', 'CS4235', 'CS6207', 'CS3218', 'CS5343', 'CS6241', 'CS6212', 'CS5240', 'CS6243', 'CS3225', 'CS3249', 'CS4240', 'CS5246', 'CS4242'], ['CS3284', 'CS2281', 'CS6213', 'CS2100', 'CS4345', 'CS5250', 'CS3210', 'CS4212'], ['CS5248', 'CS3281', 'CS3282', 'CS4222', 'CS4231', 'CS6220', 'BT5110', 'CS5321', 'CS6204'], ['CS6243', 'CS6241', 'CS5239', 'CS3281', 'CS3249', 'CS3282', 'CS4351', 'CS6213', 'CS3242', 'CS4345', 'CS2106', 'CS5246', 'CS5224'], ['CS2220', 'CS5228', 'BT5110', 'CS4220', 'CS6213', 'CS2102', 'CS3223', 'CS4221', 'CS6220', 'CS5322', 'CS5344'], ['CS5218', 'CS3234', 'CS5271', 'CS5214', 'CS4222', 'CS6215', 'CS5215', 'CS4212', 'CS4214'], ['CS4257', 'CS4214', 'CS1010S', 'CS5271', 'CS3234', 'CS4271', 'CS3235', 'CS2104', 'CS4238', 'CS4239', 'CS4215', 'CS3211', 'CS5246', 'CS5215'], ['CS5271', 'CS6244', 'CS4220', 'CS5242', 'CS3216', 'CS6220', 'CS4278', 'CS5215'], ['CS3211', 'CS5239', 'CS3217', 'CS5233', 'CS6213', 'CS6211', 'CS2281', 'CS2100', 'CS4231', 'CS4345', 'CS2106', 'CS3210', 'CS3271'], ['CS5233', 'CS4257', 'CS2100', 'CS4222', 'CS3236', 'CS5330', 'CS6211', 'CS2105', 'CS3220', 'CS4231', 'CS5229', 'CS6280', 'CS3225', 'CS5248', 'CS4234', 'CS3223'], ['CS6234', 'CS1010', 'CS1010E', 'CS3236', 'CS3233', 'CS5236', 'CS2040C', 'CS2030', 'CS2220', 'CS1281', 'CS5230', 'CS3240', 'CS5234', 'CS1010J'], ['CS5219', 'CS3212', 'CS6215', 'CS5215', 'CS4214'], ['BT5110', 'CS3234', 'CS5242', 'CS5322', 'CS5344'], ['CS2100', 'CS4221', 'CS6220', 'CS6207', 'CS5228', 'CS2102', 'CS6211', 'CS5321', 'CS5424', 'CS4225', 'CS3220', 'CS6213', 'CS2010', 'CS6203'], ['CS6280', 'CS5228', 'CS6209', 'CS2102', 'CS6231', 'CS4221', 'CS6220', 'CS5226', 'CS5344', 'CS5231'], ['CS6211', 'CS4236', 'CS1101S', 'CS2040C', 'CS5322', 'CS1020', 'CS1010J', 'CS2020'], ['CS1010E', 'CS6211', 'CS5424', 'CS5232', 'CS3220', 'CS5272', 'CS5239', 'CS3282', 'CS4231', 'CS1020', 'CS2020', 'CS1010FC/X', 'CS4237', 'CS3211', 'CS6213', 'CS1010J'], ['CS3284', 'CS3217', 'CS3203', 'CS3882', 'CS4211', 'CS2030', 'CS2108', 'CS1281', 'CS3282', 'CS6212', 'CS5241', 'CS2103T', 'CS2010', 'CS3245', 'CS4249'], ['CS6202', 'CS1231', 'CS3234', 'CS3211', 'CS1281', 'CS5214', 'CS2040C', 'CS1010', 'CS3212', 'CS6215', 'CS4212', 'CS5218', 'CS1010J'], ['CS5339', 'CS3211', 'CS4212', 'CS6244', 'CS4220', 'CS6208', 'CS1020', 'CS5242', 'CS4278', 'CS5215', 'CS6207', 'CS5344', 'CS6222'], ['CS4220', 'CS5340', 'CS6211', 'CS4238', 'CS6220', 'CS4248', 'CS6222'], ['CS4244', 'CS3284', 'CS5330', 'CS4220', 'CS4232', 'CS5340', 'CS5242', 'CS3225', 'CS6220', 'BT5110', 'CS6222'], ['CS2281', 'CS2102', 'CS6213', 'CS5226'], ['CS3281', 'CS4222', 'CS2100', 'CS4239', 'CS5231', 'CS5321'], ['CS5340', 'CS4347', 'CS5244', 'CS3245', 'CS4248', 'CS6222'], ['CS6280', 'CS3234', 'CS5239', 'CS2103T', 'CS3203', 'CS2281', 'CS4880', 'CS4231', 'CS5226', 'CS4223', 'CS4345', 'CS3882'], ['CS5231', 'CS3201', 'CS5271', 'CS3234', 'CS6209', 'CS4271', 'CS4345', 'CS6230', 'CS3283', 'CS4880', 'CS4238', 'CS3282', 'CS4239', 'CS3219', 'CS3211', 'CS5218'], ['CS5330', 'CS3233', 'CS4232', 'CS4257', 'CS4231', 'CS6234', 'CS5236'], ['CS5248', 'CS5233', 'CS2105', 'CS4222', 'CS5321'], ['CS5249', 'CS5230', 'CS4347', 'CS4242', 'CS5241'], ['CS2108', 'CS4235', 'CS5342', 'CS4231', 'CS4222', 'CS5344', 'CS5215', 'CS6207', 'CS4248'], ['CS5233', 'CS5332', 'CS6213', 'CS5242', 'CS3210', 'CS4231', 'CS5244', 'CS5250', 'CS5344', 'CS5224'], ['CS4226', 'CS5322', 'CS3236', 'CS6211', 'CS4271', 'CS5439', 'CS6230', 'CS4238', 'CS1281', 'CS4231', 'CS4239', 'CS5230', 'CS4234', 'CS4236', 'CS5234'], ['CS2100', 'CS6220', 'CS4345', 'CS5344'], ['CS3234', 'CS5241', 'CS2103T', 'CS3203', 'CS3217', 'CS5342', 'CS5244', 'CS3882'], ['CS5476', 'CS2108', 'CS2100', 'CS6212', 'CS5342', 'CS6230', 'CS6207', 'CS4248'], ['CS2040C', 'CS5215', 'CS2020'], ['CS2108', 'CS6212', 'CS5244', 'CS5246', 'CS4242', 'CS5241'], ['CS5228', 'CS3234', 'CS5478', 'CS3217', 'CS4220', 'CS3216', 'CS5242', 'CS4271', 'BT5110', 'CS2113T', 'CS4218', 'CS5215', 'CS6207'], ['CS5242', 'CS6220', 'CS4248', 'CS5228', 'CS6208', 'CS3243', 'CS4243', 'CS3244', 'CS6241', 'CS6222', 'CS5240', 'CS4247', 'CS6243', 'CS4240', 'BT5110', 'CS4278', 'CS5215', 'CS4249'], ['CS5424', 'CS4239', 'CS2220', 'CS6280', 'CS5271', 'CS6213', 'CS3223', 'CS6220', 'CS5226', 'CS5322', 'CS6215'], ['CS5249', 'CS2108', 'CS4257', 'CS4271', 'CS5244', 'CS3245', 'CS6230', 'CS5241'], ['CS3281', 'CS4221', 'CS1010', 'CS6234', 'CS1020E', 'CS2309', 'CS1010S', 'CS3201', 'CS5425', 'CS1010E', 'CS3882', 'CS5424', 'CS4225', 'CS4211', 'CS1231', 'CS4239', 'CS1020', 'CS6203'], ['CS5476', 'CS3281', 'CS4351', 'CS4257'], ['CS5223', 'CS1010', 'CS1020E', 'CS1010S', 'CS1010E', 'CS6211', 'CS5321', 'CS4243', 'CS3230', 'CS1281', 'CS4231', 'CS1010FC/X', 'CS5229', 'CS4237', 'CS6243', 'CS3225', 'CS3240', 'CS3249', 'CS6213', 'CS2010', 'CS5246'], ['CS4271', 'CS4236', 'CS5234', 'CS5439'], ['CS6220', 'CS1010', 'CS5344', 'CS2309', 'CS1010S', 'CS5425', 'CS6211', 'CS5321', 'CS6204', 'CS2030', 'CS5272', 'CS3205', 'CS1010FC/X', 'CS2010', 'CS6203'], ['CS4245', 'CS3236', 'CS5330', 'CS5236', 'CS4345', 'CS5424', 'CS5345', 'CS3220', 'CS5343', 'CS3230', 'CS4237', 'CS5230', 'CS3211', 'CS3225', 'CS4234', 'CS3233', 'CS5246', 'CS6203'], ['CS3240', 'CS4351', 'CS4345', 'CS3271', 'CS5218'], ['CS4221', 'CS2106', 'CS5344', 'CS5231', 'CS5222', 'CS5250', 'CS6230', 'CS3218', 'CS4225', 'CS5239', 'CS3211', 'CS5476', 'CS4236', 'CS5246', 'CS5218'], ['CS5233', 'CS6213', 'CS6231', 'CS2100', 'CS2040C', 'CS2105', 'CS5236', 'CS6204'], ['CS3247', 'CS4247', 'CS5223', 'CS6203', 'CS3242', 'CS3281', 'CS4235', 'CS2102', 'CS2100', 'BT5110', 'CS3218', 'CS5321'], ['CS3205', 'CS3234', 'CS5271', 'CS3281', 'CS2010', 'CS4271', 'CS4239', 'CS2113T'], ['CS6231', 'CS4231', 'CS2105', 'CS5439'], ['CS5233', 'CS2100', 'CS4223', 'CS6211', 'CS5321', 'CS6204', 'CS5424', 'CS3220', 'CS3282', 'CS4231', 'CS5229', 'CS4237', 'CS3211', 'CS6213'], ['CS6207', 'CS4248', 'CS5425', 'CS5228', 'CS4244', 'CS4246', 'CS4243', 'CS5345', 'CS5478', 'CS5214', 'CS6222', 'CS6244', 'BT5110', 'CS5215'], ['CS2010', 'CS5214', 'CS6215', 'CS4214'], ['CS5331', 'CS3284', 'CS2108', 'CS4347', 'CS3235', 'CS4236', 'CS6231', 'CS5342', 'CS5244', 'CS3245', 'CS4271', 'CS4248', 'CS5241'], ['CS6234', 'CS3233', 'CS1010J'], ['CS5249', 'CS6243', 'CS3203', 'CS3249', 'CS4235', 'CS4351', 'CS3240', 'CS5342', 'CS5244', 'CS3218', 'CS4249'], ['CS6230', 'CS4246', 'CS4243', 'CS4211', 'CS5345', 'CS5478', 'CS5239', 'CS4239', 'CS6222', 'CS3219', 'CS4247', 'CS3211', 'CS6244', 'CS4240', 'CS4278'], ['CS5343', 'CS6234', 'CS6243', 'CS3249', 'CS4351', 'CS4234', 'CS5236', 'CS5244', 'CS5234', 'CS3218', 'CS6207'], ['CS4240', 'CS6231', 'CS5332', 'CS4249'], ['CS2107', 'CS5331', 'CS6209', 'CS3240', 'CS4351', 'CS6211', 'CS6231', 'CS4239', 'CS3235', 'CS5231', 'CS4249'], ['CS4350', 'CS1010', 'CS3230', 'CS5330', 'CS3240', 'CS3225', 'CS4235', 'CS1281', 'CS5342', 'CS4231', 'CS4241', 'CS4242', 'CS4248'], ['CS4212', 'CS5218', 'CS4214'], ['CS5249', 'CS5478', 'CS4220', 'CS4232', 'CS4271', 'CS6220', 'CS4248', 'CS6204'], ['CS5272', 'CS3219', 'CS6240', 'CS4242', 'CS2281', 'CS6220', 'CS4239', 'CS5250', 'CS2113T', 'CS3271', 'CS4212', 'CS6207', 'CS3882'], ['CS4221', 'CS3223', 'CS5344'], ['CS5222', 'CS5219', 'CS3281', 'CS2281', 'CS6213', 'CS3211', 'CS5214', 'CS4231', 'CS2106', 'CS3210', 'CS6215', 'CS5224'], ['CS3282', 'CS4347', 'CS2100', 'CS4231', 'CS2106', 'CS5250', 'CS3210', 'CS3245', 'CS4248'], ['CS4211', 'CS1280', 'CS4241', 'CS4235', 'CS1101S', 'CS4347', 'CS2040C', 'CS5244', 'CS2113T', 'CS4248', 'CS1010J'], ['CS5271', 'CS5331', 'CS5219', 'CS6244', 'CS4271', 'CS5214', 'CS3235', 'CS6215', 'CS4212', 'CS4214'], ['CS4350', 'CS1280', 'CS3240', 'CS1101S', 'CS2010', 'CS6212', 'CS6220', 'BT5110', 'CS2040C', 'CS4242', 'CS1010J', 'CS2103T', 'CS1020E'], ['CS1010', 'CS5331', 'CS5239', 'CS5332', 'CS6211', 'CS4257', 'CS2010', 'CS4271', 'CS4239', 'CS4236', 'CS1010J', 'CS1020E'], ['CS5239', 'CS5222', 'CS5248', 'CS2281', 'CS5340', 'CS3282', 'CS6220', 'CS4241', 'BT5110', 'CS4246', 'CS4242'], ['CS4238', 'CS6211', 'CS6231', 'CS4231', 'CS4239', 'CS6230', 'CS5231'], ['CS2030', 'CS1280', 'CS2010', 'CS2040C', 'CS1010J', 'CS2020'], ['CS2113T', 'CS6207', 'CS4248', 'CS6209', 'CS6208', 'CS6211', 'CS5236', 'CS2113', 'CS5232', 'CS5272', 'CS3244', 'CS4234', 'CS4236', 'CS3233', 'CS5215'], ['CS4237', 'CS5248', 'CS3281', 'CS6213', 'CS6211', 'CS3282', 'CS2100', 'CS2105', 'CS5321', 'CS6204'], ['CS5343', 'CS6241', 'CS4238', 'CS1101S', 'CS4236', 'CS5246'], ['CS1281', 'CS6211', 'CS3235', 'CS5332', 'CS5322', 'CS5344'], ['CS5478', 'CS1281', 'CS1101S', 'CS5215'], ['CS5476', 'CS4238', 'CS4236', 'CS6231', 'CS5242', 'CS5332', 'CS5322', 'CS4271', 'CS6230', 'CS4212', 'CS5231'], ['CS6213', 'CS4347', 'CS6212', 'CS5224'], ['CS6243', 'CS6241', 'CS3242', 'CS3249', 'CS4235', 'CS3240', 'CS6231', 'CS4257', 'CS4236', 'CS5322', 'CS5246', 'CS5215', 'CS4249'], ['CS3212', 'CS3284', 'CS4347', 'CS3235', 'CS6212', 'CS5332', 'CS3245', 'CS5246', 'CS5218'], ['CS3284', 'CS4271', 'CS3235', 'CS2113', 'CS4880', 'CS4238', 'CS3282', 'CS3216', 'CS4239', 'CS2103T', 'CS3219', 'CS6280', 'CS5322', 'CS5231'], ['CS4220', 'CS6208', 'CS4232', 'CS5242', 'CS5340', 'CS5234'], ['CS6241', 'CS3281', 'CS3249', 'CS4271', 'CS4249'], ['CS6207', 'CS1010S', 'CS1010E', 'CS3236', 'CS4244', 'CS2040C', 'CS4246', 'CS5424', 'CS1231', 'CS2220', 'CS3230', 'CS4231', 'CS4239', 'CS1010FC/X', 'CS5230', 'CS6213', 'CS2010'], ['CS4220', 'CS2100', 'CS4221', 'CS4222', 'CS6234', 'CS4223', 'CS5330', 'CS5236', 'CS5321', 'CS2220', 'CS4231', 'CS5230', 'CS3225', 'CS5248', 'CS6213', 'CS3233'], ['CS4238', 'CS4347', 'CS6211', 'CS4257', 'CS4271', 'CS6230', 'CS4231', 'CS5322', 'CS3235', 'CS5439'], ['CS4241', 'CS4278', 'CS5228', 'CS3245', 'CS4243', 'CS3243', 'CS5345', 'CS6212', 'CS5244', 'CS6222', 'CS6244', 'BT5110', 'CS5246', 'CS5215', 'CS4242'], ['CS5344', 'CS6207', 'CS5322', 'CS6209', 'CS6211', 'CS4271', 'CS3235', 'CS2220', 'CS4238', 'CS4239', 'CS5476', 'CS4236', 'CS3223', 'CS5231'], ['CS5233', 'CS4235', 'CS4351', 'CS2100', 'CS3218', 'CS5343', 'CS6241', 'CS4880', 'CS4231', 'CS6222', 'CS5240', 'CS4247', 'CS5248', 'CS3240', 'CS3249', 'CS5246'], ['CS6280', 'CS6241', 'CS6243', 'CS3242', 'CS3249', 'CS4235', 'CS4351', 'CS5322', 'CS6215', 'CS3218', 'CS4214', 'CS4249'], ['CS4232', 'CS4257', 'CS4214', 'CS3236', 'CS3234', 'CS5219', 'CS5271', 'CS6215', 'CS3230', 'CS5214', 'CS4215', 'CS6202', 'CS5230', 'CS4234', 'CS5215'], ['CS1231', 'CS2030', 'CS1280', 'CS3236', 'CS5330', 'CS1281', 'CS2010', 'CS1101S', 'CS4221', 'CS1010', 'CS2040C', 'CS2020', 'CS1020E'], ['CS3281', 'CS5233', 'CS6213', 'CS4231', 'CS2105', 'CS6203', 'CS5321', 'CS1020E'], ['CS2102', 'CS6211', 'CS5322', 'CS6203'], ['CS5233', 'CS6213', 'CS6211', 'CS5250', 'CS4345', 'CS2106', 'CS4223', 'CS5224'], ['CS2103', 'CS4880', 'CS6220', 'CS4239'], ['CS6212', 'CS4241', 'CS3245', 'CS5246', 'CS4248', 'CS5241'], ['CS5223', 'CS3236', 'CS3230', 'CS5248', 'CS3284', 'CS4232', 'CS4234', 'CS5236', 'CS3235'], ['CS5476', 'CS5332', 'CS6211', 'CS4257', 'CS4271', 'CS6231', 'CS4239', 'CS6230', 'CS5439', 'CS5231'], ['CS5476', 'CS4220', 'CS2102', 'CS4236', 'CS4271', 'CS4221', 'CS3210', 'BT5110', 'CS3235', 'CS5439', 'CS6203', 'CS6220', 'CS5344'], ['CS2100', 'CS4223', 'CS4248'], ['CS5331', 'CS5332', 'CS4238', 'CS4235', 'CS4234', 'CS4236', 'CS3240', 'CS6212', 'CS4239', 'CS3233', 'CS3235', 'CS6230', 'CS4240'], ['CS5322', 'CS5228', 'CS5271', 'CS3203', 'CS3217', 'CS4345', 'CS5250', 'CS2104', 'CS4225', 'CS5272', 'CS3283', 'CS3205', 'CS4239', 'CS3223', 'CS2103T', 'CS6280', 'CS3211', 'CS6213', 'BT5110'], ['CS6213', 'CS2281', 'CS6211', 'CS2100', 'CS4231', 'CS2106', 'CS4223', 'CS3212', 'CS5224', 'CS4345'], ['CS4221', 'CS6220', 'CS5322', 'CS5228', 'CS5236', 'CS4225', 'CS5424', 'CS3230', 'CS4231', 'CS5230', 'CS6213', 'CS4234', 'CS5234', 'CS6203'], ['CS5330', 'CS4232', 'CS4234', 'CS4257', 'CS2100', 'CS5236', 'CS6234', 'CS5234', 'CS4231', 'CS5215'], ['CS3203', 'CS5342', 'CS3235', 'CS6207', 'CS4248'], ['CS3201', 'CS5271', 'CS5222', 'CS2040C', 'CS5224', 'CS1231', 'CS1281', 'CS4239', 'CS1020', 'CS1010FC/X', 'CS3211', 'CS6213', 'CS2010', 'CS1010J'], ['CS5271', 'CS3284', 'CS3226', 'CS4271', 'CS3235', 'CS5439', 'CS4218', 'CS4211', 'CS5232', 'CS5272', 'CS5343', 'CS3283', 'CS3216', 'CS6212', 'CS2103T', 'CS5476', 'CS4236', 'CS5322'], ['CS1280', 'CS6241', 'CS1281', 'CS1101S', 'CS2010', 'CS2100', 'CS1010', 'CS5250', 'CS5344', 'CS1010J', 'CS1020E'], ['CS1281', 'CS2010', 'CS6211', 'CS3282', 'CS2040C', 'CS4214', 'CS3245', 'CS4222', 'CS2020'], ['CS3230', 'CS3233', 'CS6213', 'CS4257', 'CS2100', 'CS5226', 'CS4231', 'CS5234', 'CS4222', 'CS6203', 'CS5321'], ['CS5222', 'BT5110', 'CS5344', 'CS3218', 'CS4246'], ['CS3211', 'CS5330', 'CS5233', 'CS3281', 'CS3282', 'CS2281', 'CS6211', 'CS6213', 'CS4231', 'CS4345', 'CS5250'], ['CS4238', 'CS5332', 'CS6211', 'CS4257', 'CS6231', 'CS4236', 'CS4239', 'CS5322', 'CS3235', 'CS6230', 'CS5231'], ['BT5110', 'CS5215', 'CS1010J', 'CS1020E'], ['CS5340', 'CS4235', 'CS4241', 'CS4248', 'CS4245', 'CS3284', 'CS2040C', 'CS2220', 'CS6212', 'CS5244', 'CS1020', 'CS1010FC/X', 'CS6244', 'CS3245'], ['CS3211', 'CS5239', 'CS3225', 'CS5330', 'CS2281', 'CS5233', 'CS4232', 'CS3281', 'CS4231', 'CS2106', 'CS5224'], ['CS3211', 'CS4880', 'CS3281', 'CS3282', 'CS6211', 'CS3217', 'CS3234', 'CS3284', 'CS6215', 'CS4214'], ['CS4235', 'CS6211', 'CS4240', 'CS4271', 'CS6231', 'CS5332', 'CS4236', 'CS2113T', 'CS6230', 'CS3218', 'CS5231', 'CS4345', 'CS2020'], ['CS3882', 'CS5230', 'CS5271', 'CS3284', 'CS4232', 'CS3216', 'CS2100', 'CS4218', 'CS2103T'], ['CS5228', 'CS4242', 'CS3249', 'CS6220', 'CS6212', 'CS3245', 'CS5246', 'CS4248', 'CS4249'], ['CS6270', 'CS5234', 'CS5223', 'CS4237', 'CS4232', 'CS2010', 'CS6213', 'CS1281', 'CS4231', 'CS5250', 'CS1020', 'CS4248', 'CS1020E'], ['CS6280', 'CS3283', 'CS5271', 'CS3234', 'CS5219', 'CS2103', 'CS3203', 'CS3211', 'CS3282', 'CS6220', 'CS4218', 'CS5218'], ['CS1101S', 'CS4246', 'CS1020', 'CS1010J', 'CS1020E'], ['CS5330', 'CS3225', 'CS3282', 'CS4234', 'CS4257', 'CS4232', 'CS4231', 'CS3233'], ['CS4214', 'CS5219', 'CS5236', 'CS6215', 'CS2104', 'CS4243', 'CS5343', 'CS4212', 'CS4215', 'CS4247', 'CS3211', 'CS6243', 'CS3249', 'CS3212', 'CS5215', 'CS1010J', 'CS4249'], ['CS5230', 'CS5271', 'CS3225', 'CS3281', 'CS5233', 'CS3282', 'CS4222', 'CS4271', 'CS6234', 'CS5321'], ['CS4239', 'CS5439', 'CS4345'], ['CS3271', 'CS4248', 'CS4214', 'CS3234', 'CS3203', 'CS5232', 'CS5272', 'CS3205', 'CS3282', 'CS4231', 'CS5229', 'CS5246', 'CS3212', 'CS6203', 'CS4242'], ['CS5249', 'CS4232', 'CS4241', 'CS4248', 'CS3236', 'CS5236', 'CS6204', 'CS5424', 'CS3220', 'CS2220', 'CS3283', 'CS6212', 'CS5244', 'CS5248', 'CS6213', 'CS3245'], ['CS3284', 'CS6212', 'CS4345', 'CS3245', 'CS4242', 'CS5241'], ['CS4347', 'CS2100', 'CS6220', 'CS4241', 'CS4345', 'CS3283', 'CS2108', 'CS3282', 'CS5214', 'CS5342', 'CS4239', 'CS5241', 'CS4247', 'CS5248', 'CS6213', 'CS3245', 'CS4242', 'CS4249'], ['CS5478', 'CS5239', 'CS3217', 'BT5110', 'CS2103T', 'CS1020E'], ['CS1280', 'CS3282', 'CS6213', 'CS2100', 'CS2040C', 'CS2105', 'CS1010J', 'CS5321', 'CS6204'], ['CS3211', 'CS5271', 'CS5214', 'CS5226', 'CS5344', 'CS4212'], ['CS4245', 'CS4226', 'CS3234', 'CS6211', 'CS2108', 'CS1281', 'CS5342', 'CS6212', 'CS4239', 'CS5241', 'CS1010FC/X', 'CS5229', 'CS5248', 'CS4242'], ['CS4237', 'CS3211', 'CS1101S', 'CS5214', 'CS2040C', 'CS3212', 'CS6215', 'CS5215', 'CS1020', 'CS1010J'], ['CS5219', 'CS5271', 'CS5215', 'CS2020', 'CS5214', 'CS3212', 'CS6215', 'CS4212', 'CS5218', 'CS4214'], ['CS3281', 'CS4880', 'CS2100', 'CS4231', 'CS4223', 'CS3271', 'CS4218', 'CS2103T'], ['CS4238', 'CS2010', 'CS6231', 'CS4271', 'CS2040C', 'CS4246', 'CS2020'], ['CS3249', 'CS6213', 'CS4257', 'CS3218', 'CS4249'], ['CS1010', 'CS1020E', 'CS2309', 'CS1010S', 'CS1010E', 'CS2102', 'CS1231', 'CS2030', 'CS3205', 'CS1020', 'CS4212', 'CS2020', 'CS2010', 'CS5322', 'CS5215'], ['CS5233', 'CS6231', 'CS3271', 'CS6211', 'CS5224', 'CS3220', 'CS5343', 'CS5214', 'CS4239', 'CS4212', 'CS4215', 'CS3211', 'CS4240', 'CS3210', 'CS5215', 'CS5218', 'CS4249'], ['CS4350', 'CS5271', 'CS6241', 'CS3242', 'CS3249', 'CS4235', 'CS4234', 'CS4351', 'CS4240', 'CS4232', 'CS4239', 'CS5246', 'CS3218'], ['CS1280', 'CS4235', 'CS2010', 'CS2040C', 'CS1010', 'CS5236', 'CS1010J', 'CS1020E'], ['CS5478', 'CS4220', 'CS6208', 'CS5242', 'CS4239', 'CS5344', 'CS3218', 'CS4248', 'CS6222'], ['CS5238', 'CS2103', 'CS3281', 'CS4232', 'CS6234', 'CS3271'], ['CS5219', 'CS2103', 'CS5214', 'CS3212', 'CS6215', 'CS1020', 'CS4214'], ['CS3234', 'CS5219', 'CS5248', 'CS5233', 'CS4220', 'CS5214', 'CS5226', 'CS4231', 'CS3223', 'CS2105', 'CS2100', 'CS5218', 'CS5344'], ['CS4232', 'CS5242', 'CS6234', 'CS1020', 'CS2020'], ['CS3211', 'CS3282', 'CS6213', 'CS6211', 'CS5214', 'CS2100', 'CS5250', 'CS2106', 'CS3212', 'CS6215', 'CS4212'], ['CS4214', 'CS6211', 'CS2105', 'CS6215', 'CS6204', 'CS5424', 'CS3220', 'CS2220', 'CS3282', 'CS4231', 'CS5229', 'CS6280', 'CS4237', 'CS5248', 'CS6213'], ['CS5344', 'CS6207', 'CS5228', 'CS2102', 'CS6204', 'CS5424', 'CS3220', 'CS3223', 'CS6280', 'CS6244', 'CS6213', 'CS5226', 'CS5322', 'CS6203'], ['CS1010E', 'CS1231', 'CS4350', 'CS3240', 'CS4235', 'CS4234', 'CS5236', 'CS1010', 'CS5234', 'CS5246', 'CS1010J', 'CS2020'], ['CS3282', 'CS6213', 'CS4271', 'CS4231', 'CS6220', 'CS6230', 'CS4246'], ['CS4278', 'CS5215', 'CS5218', 'CS4214'], ['CS4237', 'CS5228', 'CS4220', 'CS6213', 'CS4221', 'CS4345', 'CS5344'], ['CS5332', 'CS4347', 'CS6231', 'CS4257', 'CS6212', 'CS4241', 'CS3245', 'CS5439', 'CS4242', 'CS5241'], ['CS4220', 'CS5344', 'CS5228', 'CS2102', 'CS2105', 'CS6204', 'CS5342', 'CS4231', 'CS3223', 'CS5241', 'CS6280', 'CS6213', 'CS5226', 'CS5322', 'CS6203'], ['CS1010E', 'CS5228', 'CS3234', 'CS2040C', 'CS6215', 'CS5345', 'CS2108', 'CS5244', 'CS4212', 'CS5241', 'CS6202', 'CS3211', 'CS2010', 'CS3212', 'CS5215', 'CS5218'], ['CS5340', 'CS2281', 'CS4221', 'CS5322', 'CS6222'], ['CS5271', 'CS5219', 'CS3212', 'CS2103', 'CS3281', 'CS4238', 'CS5214', 'CS2113T', 'CS5439', 'CS5215', 'CS5218'], ['CS2030', 'CS1280', 'CS5331', 'CS3230', 'CS3225', 'CS3284', 'CS4347', 'CS4232', 'CS1281', 'CS2040C', 'CS5236', 'CS1010J', 'CS1020E'], ['CS5241', 'CS3226', 'CS2108', 'CS4347', 'CS5342', 'CS5244', 'CS5246', 'CS4242', 'CS3882'], ['CS5322', 'CS2220', 'CS4220', 'CS2102', 'CS1101S', 'CS3223', 'CS5214', 'CS4221', 'CS6220', 'BT5110', 'CS3212', 'CS6203'], ['CS4350', 'CS2220', 'CS4220', 'CS2102', 'CS4240', 'CS4231', 'CS3223', 'CS5344', 'CS5224', 'CS4249'], ['CS4248', 'CS5425', 'CS5228', 'CS3236', 'CS3234', 'CS5271', 'CS4271', 'CS5439', 'CS4246', 'CS4218', 'CS3243', 'CS2220', 'CS3230', 'CS4880', 'CS3282', 'CS6244', 'CS3223', 'CS5215'], ['CS6280', 'CS3283', 'CS5331', 'CS3234', 'CS3284', 'CS4880', 'CS3203', 'CS2103', 'CS3281', 'CS6231', 'CS4271', 'CS4239', 'CS2103T'], ['CS2108', 'CS4257', 'CS6231', 'CS4271', 'CS4236', 'CS3235', 'CS5439', 'CS4246'], ['CS4235', 'CS4257', 'CS5425', 'CS5236', 'CS5343', 'CS2220', 'CS6241', 'CS4231', 'CS5240', 'CS3240', 'CS3249', 'CS4234', 'CS4240', 'CS4249'], ['CS5238', 'CS5230', 'CS5271', 'CS3230', 'CS5219', 'CS4232', 'CS6208', 'CS5242', 'CS4234', 'CS4231', 'CS6234', 'CS5215', 'CS4212'], ['CS3234', 'CS3212', 'CS3211', 'CS4220', 'CS4232', 'CS4234', 'CS5236', 'CS5322', 'CS5344', 'CS6215', 'CS6203', 'CS5218', 'CS4214'], ['CS1231', 'CS1101S', 'CS5342', 'CS5226', 'CS1010', 'CS5246', 'CS1020', 'CS2020', 'CS1020E'], ['CS6244', 'CS4234', 'CS6211', 'CS4231', 'CS5250', 'CS3233', 'CS4246', 'CS4248', 'CS6222'], ['CS6280', 'CS5331', 'CS5271', 'CS3203', 'CS5476', 'CS3282', 'CS3216', 'CS4236', 'CS4240', 'CS6231', 'CS6215', 'CS3218'], ['CS5233', 'CS2281', 'CS3282', 'CS6211', 'CS3281', 'CS2106', 'CS5250', 'CS4223', 'CS5224'], ['CS5223', 'CS5239', 'CS3281', 'CS5233', 'CS2281', 'CS6211', 'CS2010', 'CS2106', 'CS6213', 'CS1010', 'CS5250', 'CS5224'], ['CS5343', 'CS4244', 'CS5215', 'CS3242', 'CS3240', 'CS3282', 'CS6213', 'CS2105', 'CS5224', 'CS4345'], ['CS5223', 'CS4237', 'CS4241', 'CS6205', 'CS5233', 'CS4238', 'CS5342', 'CS2105', 'CS4212'], ['CS5228', 'CS3234', 'CS5248', 'CS6244', 'CS2103', 'CS3282', 'CS6212', 'CS4278', 'CS4246', 'CS4218'], ['CS4347', 'CS2106', 'CS4223', 'CS4248', 'CS5228', 'CS3284', 'CS3220', 'CS5239', 'CS3230', 'CS4231', 'CS5244', 'CS6212', 'CS5229', 'CS6213', 'CS5246'], ['CS5228', 'CS4244', 'CS6244', 'CS2103', 'CS5242', 'CS2040C', 'CS1020', 'CS6222'], ['CS5228', 'CS6280', 'CS5476', 'CS4220', 'CS1281', 'CS1101S', 'CS2010', 'CS2040C', 'CS1010', 'CS4221', 'CS1020', 'CS1010J', 'CS2020'], ['CS4220', 'CS4221', 'CS5344', 'CS6215', 'CS3218', 'CS5424', 'CS4243', 'CS3211', 'CS4234', 'CS4240', 'CS5322', 'CS3212', 'CS5215', 'CS5218', 'CS4249'], ['CS3282', 'CS6211', 'CS4239', 'CS3218', 'CS2103T'], ['CS3202', 'CS3236', 'CS3234', 'CS5330', 'CS6215', 'CS4218', 'CS4211', 'CS1231', 'CS2220', 'CS5214', 'CS4215', 'CS2103', 'CS4234', 'CS3233', 'CS5218'], ['CS5238', 'CS3281', 'CS4234', 'CS4257', 'CS6211', 'CS5236', 'CS4222', 'CS5439', 'CS6204'], ['CS3242', 'CS2281', 'CS4235', 'CS4351', 'CS4245', 'CS3284', 'CS3283', 'CS6241', 'CS5342', 'CS6212', 'CS5240', 'CS4247', 'CS3211', 'CS5246'], ['CS2010', 'CS6211', 'CS5342', 'CS5242', 'CS5332', 'CS3245'], ['CS3230', 'CS3225', 'CS5330', 'CS3233', 'CS4234', 'CS4257', 'CS5236', 'CS6234', 'CS5234', 'CS4231'], ['CS3234', 'CS4212', 'CS5271', 'CS5330', 'CS5219', 'CS3211', 'CS5214', 'CS4231', 'CS6234', 'CS5234', 'CS5215', 'CS5218', 'CS4214'], ['CS5322', 'CS5222', 'CS4243', 'CS5424', 'CS2030', 'CS2220', 'CS6241', 'CS3210', 'CS4247', 'CS6243', 'CS3240', 'CS3249', 'BT5110', 'CS5246'], ['CS5332', 'CS4238', 'CS6211', 'CS3235', 'CS4271', 'CS4257', 'CS4239', 'CS6231', 'CS2113T', 'CS5439', 'CS6230', 'CS5231'], ['CS3284', 'CS4235', 'CS4241'], ['CS5271', 'CS5244', 'CS3245', 'CS5246', 'CS5215', 'CS5218', 'CS4248', 'CS1020E'], ['CS3234', 'CS3212', 'CS5322', 'CS5344', 'CS6215', 'CS5215', 'CS4212', 'CS4214'], ['CS3234', 'CS3284', 'CS4211', 'CS5232', 'CS5272', 'CS3205', 'CS3283', 'CS3282', 'CS3216', 'CS4239', 'CS4212', 'CS2103T', 'CS3219', 'CS6280', 'CS3240', 'CS3212', 'CS5218'], ['CS6234', 'CS3236', 'CS3230', 'CS5330', 'CS4232', 'CS4234', 'CS5242', 'CS4257', 'CS4231', 'CS5236', 'CS3233', 'CS4248', 'CS1020E'], ['CS6202', 'CS1231', 'CS6270', 'CS5271', 'CS3234', 'CS5219', 'CS5248', 'CS2010', 'CS5214', 'CS1010', 'CS1020E'], ['CS1280', 'CS3234', 'CS5246', 'CS4212', 'CS4220', 'CS2102', 'CS2040C', 'CS3212', 'CS5215', 'CS1020', 'CS5344'], ['CS6213', 'CS4220', 'CS6211', 'CS2100', 'CS6220', 'CS5250', 'CS3210', 'CS4248'], ['CS4235', 'CS6220', 'CS4221', 'CS5344', 'CS5425', 'CS2102', 'CS2104', 'CS4225', 'CS2220', 'CS3283', 'CS3230', 'CS5214', 'CS4239', 'CS4212', 'CS6280', 'CS6213', 'CS3223', 'CS3212'], ['CS6244', 'CS4220', 'CS6211', 'CS5344', 'CS5215', 'CS4248'], ['CS6213', 'CS4222', 'CS2105', 'CS6204'], ['CS3234', 'CS5219', 'CS4238', 'CS4235', 'CS4234', 'CS5332', 'CS5234', 'CS3218', 'CS4212'], ['CS3283', 'CS5249', 'CS3284', 'CS3281', 'CS3242', 'CS5215', 'CS4351', 'CS4240', 'CS5214', 'CS2113T', 'CS3271', 'CS3218', 'CS4218'], ['CS6231', 'CS4257', 'CS6211', 'CS4271', 'CS3235', 'CS6230', 'CS4243', 'CS5345', 'CS5232', 'CS4238', 'CS4239', 'CS5240', 'CS4240', 'CS5322', 'CS5231', 'CS4249'], ['CS4235', 'CS4234', 'CS6231', 'CS4236', 'CS6211', 'CS5231'], ['CS3236', 'CS3284', 'CS3225', 'CS4232', 'CS6211', 'CS4257', 'CS6212', 'CS5244', 'CS4248', 'CS5241'], ['CS4257', 'CS2100', 'CS6234', 'CS5330', 'CS5236', 'CS5321', 'CS6204', 'CS4243', 'CS3220', 'CS1231', 'CS5343', 'CS2220', 'CS4231', 'CS5240', 'CS5229', 'CS4237', 'CS5248', 'CS3249', 'CS4234', 'CS4240', 'CS5234'], ['CS6205', 'CS5331', 'CS4242', 'CS1101S', 'CS4241', 'CS3245', 'CS3235', 'CS6207', 'CS1010J'], ['CS5228', 'CS5331', 'CS4238', 'CS4220', 'CS6211', 'CS4257', 'CS3223', 'CS6220', 'CS5226', 'CS5322'], ['CS6230', 'CS4271', 'CS4257', 'CS4239', 'CS5322', 'CS3235', 'CS5439', 'CS4236', 'CS5231'], ['CS6209', 'CS5331', 'CS5476', 'CS4238', 'CS6211', 'CS6231', 'CS2105', 'CS4257', 'CS5332', 'CS5322', 'CS4222', 'CS6230', 'CS5231'], ['CS5249', 'CS4242', 'CS3284', 'CS5332', 'CS2108', 'CS4235', 'CS6212', 'CS5244', 'CS3245', 'CS4248', 'CS5241'], ['CS6220', 'CS4221', 'CS5344', 'CS5425', 'CS2102', 'CS4271', 'CS5424', 'CS4225', 'CS3223', 'CS5476', 'CS6213', 'CS5226', 'CS5322', 'CS6203', 'CS5231'], ['CS3281', 'CS3203', 'CS6213', 'CS6211', 'CS5233', 'CS4271', 'CS6212', 'CS4222', 'CS2113T', 'CS4218', 'CS4248'], ['CS5340', 'CS6213', 'CS4239', 'BT5110', 'CS3212', 'CS6215', 'CS5215', 'CS3245'], ['CS2103', 'CS4220', 'CS6220', 'CS3271', 'CS3882'], ['CS2102', 'CS4257', 'CS6220', 'CS4223', 'CS6203'], ['CS1101S', 'CS4351', 'CS5214', 'CS2040C', 'CS2020', 'CS5215', 'CS1020', 'CS4214', 'CS1020E'], ['CS3103', 'CS4344', 'CS6270', 'CS5223', 'CS3249', 'CS3282', 'CS6213', 'CS6211', 'CS2100', 'CS4231', 'BT5110', 'CS4249'], ['CS6202', 'CS5228', 'CS3234', 'CS6213', 'CS5214', 'CS5226', 'CS3223', 'CS6215', 'CS4212'], ['CS2108', 'CS4234', 'CS4257', 'CS4271', 'CS4231', 'CS5234', 'CS3235'], ['CS4221', 'CS6234', 'CS5226', 'CS6203', 'CS4214'], ['CS5271', 'CS3284', 'CS4880', 'CS4238', 'CS3281', 'CS2040C', 'CS1010', 'CS6230', 'CS5231', 'CS3882'], ['CS3234', 'CS5219', 'CS3226', 'CS6208', 'CS6215', 'CS2104', 'CS4211', 'CS5272', 'CS3205', 'CS3212', 'CS5214', 'CS6202', 'CS6280', 'CS3211', 'CS4278', 'CS5215', 'CS5218'], ['CS6220', 'CS6207', 'CS6211', 'CS4271', 'CS3235', 'CS6230', 'CS5439', 'CS5345', 'CS6241', 'CS5478', 'CS6222', 'CS6243', 'CS5476', 'CS3249', 'CS5231'], ['CS2103', 'CS3203', 'CS4880', 'CS3282', 'CS5248', 'CS4257', 'CS4271', 'CS4246', 'CS3882', 'CS6204'], ['CS1280', 'CS1281', 'CS2010', 'CS1101S', 'CS1010', 'CS1010J'], ['CS3230', 'CS5230', 'CS3225', 'CS5330', 'CS4232', 'CS4257', 'CS6220', 'CS6234', 'CS3233', 'CS4231'], ['CS4221', 'CS3201', 'CS5228', 'CS5271', 'CS3234', 'CS6209', 'CS3284', 'CS6208', 'CS6204', 'CS3243', 'CS3282', 'CS3216', 'CS4239', 'CS6244', 'CS3223'], ['CS5330', 'CS3225', 'CS4232', 'CS1281', 'CS4257', 'CS4234', 'CS3233'], ['CS1010', 'CS1020E', 'CS1010S', 'CS1010E', 'CS3234', 'CS2040C', 'CS5236', 'CS6215', 'CS1231', 'CS1281', 'CS4231', 'CS1020', 'CS2020', 'CS1010FC/X', 'BT5110'], ['CS2100', 'CS4221', 'CS5332', 'CS4222', 'CS5344', 'CS4223', 'CS5228', 'CS5424', 'CS3223', 'CS5229', 'CS6213', 'CS5322', 'CS3210', 'CS5231'], ['CS5222', 'CS4238', 'CS1281', 'CS2010', 'CS4257', 'CS5236', 'CS1010', 'CS2113T', 'CS1020', 'CS1010J'], ['CS3211', 'CS5476', 'CS3282', 'CS6211', 'CS6231', 'CS4345', 'CS3882'], ['CS3249', 'CS3240', 'CS6211', 'CS4271', 'CS4246'], ['CS5228', 'CS5478', 'CS6244', 'CS5340', 'CS6208', 'CS5242', 'CS6212', 'CS3245', 'CS6215', 'CS4246', 'CS4248', 'CS6222'], ['CS6220', 'CS5344', 'CS5322', 'CS5222', 'CS2040C', 'CS4345', 'CS5439', 'CS5424', 'CS3220', 'CS2020', 'CS6244', 'CS6213', 'BT5110', 'CS6203'], ['CS4237', 'CS5239', 'CS5222', 'CS3281', 'CS6213', 'CS2100', 'CS3210', 'CS5224', 'CS1010J', 'CS2020'], ['CS5345', 'CS3211', 'CS5246', 'CS2103', 'CS3284', 'CS4347', 'CS5244', 'CS2113T', 'CS4242'], ['CS5330', 'CS3234', 'CS4257', 'CS5214', 'CS6215', 'CS5215', 'CS4214'], ['CS5476', 'CS2102', 'CS4347', 'CS6212', 'CS6234'], ['CS3211', 'CS5222', 'CS3281', 'CS2281', 'CS6213', 'CS6211', 'CS3282', 'CS2100', 'CS2010', 'CS5233', 'CS2106', 'CS5224', 'CS4345'], ['CS2100', 'CS5250', 'CS4231', 'CS5234'], ['CS6280', 'CS5228', 'CS4237', 'BT5110', 'CS6213', 'CS6211', 'CS2102', 'CS4221', 'CS5226', 'CS5322', 'CS5344', 'CS6203'], ['CS6207', 'CS1010S', 'CS5228', 'CS4244', 'CS2040C', 'CS5345', 'CS3244', 'CS5478', 'CS1020', 'CS6203', 'CS2010', 'CS4278', 'CS5215', 'CS1010J'], ['CS5214', 'CS4221', 'CS4239', 'CS5215', 'CS4212', 'CS3882'], ['CS3235', 'CS6231', 'CS6211', 'CS5332', 'BT5110', 'CS5344', 'CS5439', 'CS5231', 'CS6222'], ['CS5476', 'CS6211', 'CS6231', 'CS4271', 'CS4239', 'CS5322', 'CS3235', 'CS6230', 'CS5231'], ['CS5322', 'CS3211', 'CS5219', 'CS3281', 'CS3233', 'CS2102', 'CS3223', 'CS4257', 'CS1010', 'BT5110'], ['CS6209', 'CS5476', 'CS2108', 'CS5332', 'CS6211', 'CS4257', 'CS4271', 'CS4238', 'CS4241', 'CS5322', 'CS3235', 'CS6230', 'CS4242'], ['CS3271', 'CS4226', 'CS5271', 'CS3234', 'CS3284', 'CS3203', 'CS6211', 'CS4271', 'CS6204', 'CS3282', 'CS3216', 'CS4239', 'CS6280', 'CS5248'], ['CS5249', 'CS3284', 'CS4347', 'CS6212', 'CS5246', 'CS4248', 'CS5241'], ['CS6280', 'CS5228', 'CS3234', 'CS5271', 'CS6241', 'CS3217', 'CS3226', 'CS4212'], ['CS5478', 'CS5340', 'CS6220', 'CS5344', 'CS4248'], ['CS4212', 'CS5214', 'CS3212', 'CS5215', 'CS5218', 'CS4214'], ['CS4271', 'CS5439', 'CS4218', 'CS4211', 'CS5272', 'CS3205', 'CS6241', 'CS3216', 'CS4239', 'CS2103T', 'CS4247', 'CS6280', 'CS2103', 'CS5322'], ['CS6205', 'CS3282', 'CS5321'], ['CS6241', 'CS5222', 'CS3281', 'CS4220', 'CS2281', 'CS5233', 'CS2100', 'CS4221', 'CS3210', 'CS4249'], ['CS4257', 'CS6220', 'CS4223', 'CS5228', 'CS5330', 'CS3233', 'CS5236', 'CS2220', 'CS4231', 'CS5230', 'CS4234', 'CS5226', 'CS5234', 'CS3210'], ['CS3217', 'CS3226', 'CS3281', 'CS4880', 'CS3282', 'CS4239', 'CS3271', 'CS1010J', 'CS5321'], ['CS5222', 'CS3225', 'CS3282', 'CS4232', 'CS6211', 'CS5236', 'CS2105'], ['CS5230', 'CS5222', 'CS5330', 'CS4232', 'CS4234', 'CS4231', 'CS6234', 'CS5234', 'CS5344', 'CS5231'], ['CS5219', 'CS3234', 'CS3203', 'CS5246', 'CS3882'], ['CS5271', 'CS6209', 'CS3284', 'CS3226', 'CS6211', 'CS4271', 'CS6204', 'CS5424', 'CS4211', 'CS1231', 'CS3282', 'CS1281', 'CS3216', 'CS4231', 'CS2103T', 'CS5229', 'CS2103'], ['CS6222', 'CS4244', 'BT5110', 'CS6244', 'CS4238', 'CS2102', 'CS1101S', 'CS5242', 'CS4239', 'CS5322', 'CS1020', 'CS1020E'], ['CS5214', 'CS6220', 'BT5110', 'CS3212', 'CS4214'], ['CS3242', 'CS1010', 'CS4214', 'CS5425', 'CS1010E', 'CS5228', 'CS3234', 'CS2104', 'CS5214', 'CS4212', 'CS4215', 'CS6202', 'CS4240', 'CS3212', 'CS6203', 'CS5218', 'CS4249'], ['CS4237', 'CS5233', 'CS1281', 'CS6211', 'CS6213', 'CS2105', 'CS5332', 'CS5322', 'CS3235'], ['CS5249', 'CS5246', 'CS2108', 'CS6211', 'CS5244', 'CS5250', 'CS3210', 'CS4248', 'CS5241'], ['CS6209', 'CS3284', 'CS3203', 'CS6213', 'CS4235', 'CS3235', 'CS5342', 'CS4236', 'CS4241', 'CS2113T', 'CS4218', 'CS6207'], ['CS4237', 'CS3281', 'CS5233', 'CS6213', 'CS1101S', 'CS4222', 'CS4231', 'CS2105', 'CS6220', 'CS6204'], ['CS4236', 'CS4257', 'CS4271', 'CS5332', 'CS5322', 'CS6230', 'CS5231', 'CS6204'], ['CS5424', 'CS4350', 'CS5223', 'CS3240', 'CS3249', 'CS6213', 'CS6211', 'CS3281', 'CS2100', 'CS4231', 'CS5233', 'CS2105', 'CS3282'], ['CS1010E', 'CS5271', 'CS3234', 'CS5330', 'CS3217', 'CS6211', 'CS3235', 'CS3882', 'CS4211', 'CS3283', 'CS4238', 'CS3216', 'CS4239', 'CS3211', 'CS4234', 'CS3212', 'CS5218'], ['CS5239', 'CS5233', 'CS4220', 'CS2108', 'CS6211', 'CS5342', 'CS6220', 'CS4345', 'CS5215', 'CS4242', 'CS4246'], ['CS4221', 'CS2309', 'CS1010S', 'CS1010E', 'CS5228', 'CS2040C', 'CS2030', 'CS2108', 'CS1281', 'CS6212', 'CS2020', 'CS6222', 'CS1010FC/X', 'CS6280', 'CS2010'], ['CS5228', 'CS4244', 'CS5215', 'CS6213', 'CS2102', 'CS3223', 'CS6220', 'CS5226', 'BT5110', 'CS5344', 'CS6203'], ['CS6211', 'CS4257', 'CS4271', 'CS6231', 'CS5332', 'CS4236', 'CS6230', 'CS4242'], ['CS3234', 'CS1281', 'CS2010', 'CS1020', 'CS2040C', 'CS1010', 'CS5218', 'CS2020'], ['CS5345', 'CS5322', 'CS5249', 'CS4220', 'CS4235', 'CS3245'], ['CS3219', 'CS5271', 'CS3282', 'CS3216', 'CS4240', 'CS4271', 'CS2113T', 'CS3271', 'CS4218', 'CS3882'], ['CS3284', 'CS3203', 'CS3226', 'CS4271', 'CS3235', 'CS5439', 'CS3882', 'CS5272', 'CS4238', 'CS3216', 'CS4239', 'CS3219', 'CS5322', 'CS5215'], ['CS4242', 'CS5219', 'CS5271', 'CS3211', 'BT5110', 'CS6213', 'CS4351', 'CS5342', 'CS4221', 'CS5214', 'CS3223', 'CS5218'], ['CS6280', 'CS5228', 'BT5110', 'CS3225', 'CS6213', 'CS5236', 'CS6220', 'CS3223', 'CS1020E'], ['CS3282', 'CS3242', 'CS4257', 'CS4236', 'CS6212', 'CS5332', 'CS3235', 'CS5246', 'CS6230'], ['CS4241', 'CS4223', 'CS6207', 'CS6211', 'CS5224', 'CS3245', 'CS5424', 'CS3283', 'CS5342', 'CS5240', 'CS4237', 'CS3211', 'CS6213', 'CS3223', 'CS4242'], ['CS3202', 'CS1010S', 'CS3284', 'CS3217', 'CS4271', 'CS2040C', 'CS5232', 'CS2030', 'CS1231', 'CS3216', 'CS2020', 'CS6280', 'CS2010', 'CS1010J'], ['CS3234', 'CS2010', 'CS5214', 'CS5215', 'CS1020', 'CS1010J', 'CS1020E'], ['CS3234', 'CS5222', 'CS3284', 'CS3226', 'CS4271', 'CS5424', 'CS4211', 'CS5272', 'CS3283', 'CS3282', 'CS5342', 'CS6280', 'CS4237', 'CS2103', 'CS6213'], ['CS2030', 'CS1280', 'CS1281', 'CS2040C', 'CS1010', 'CS1020', 'CS1010J', 'CS2020', 'CS1020E'], ['CS5228', 'CS5222', 'CS3226', 'CS4220', 'CS1281', 'CS3217', 'CS2040C', 'CS3223'], ['CS5272', 'CS3219', 'CS3283', 'CS4237', 'CS6243', 'CS3216', 'CS4239', 'CS3271', 'CS3882', 'CS1020E'], ['CS5476', 'CS3281', 'CS4235', 'CS6211', 'CS4257', 'CS4232', 'CS4238', 'CS6234', 'CS3233'], ['CS3225', 'CS5330', 'CS3233', 'CS4232', 'CS4257', 'CS4236', 'CS6234', 'CS5234'], ['CS5232', 'CS5322', 'CS2107', 'CS5476', 'CS4238', 'CS4257', 'CS4271', 'CS6220', 'CS4239', 'CS4236', 'CS5231', 'CS4248'], ['CS4248', 'CS5330', 'CS4246', 'CS5345', 'CS2220', 'CS3244', 'CS3230', 'CS4231', 'CS4237', 'CS5248', 'CS6244', 'BT5110', 'CS4278', 'CS5215'], ['CS2106', 'CS3202', 'CS6209', 'CS3284', 'CS3226', 'CS4345', 'CS5250', 'CS5224', 'CS5232', 'CS5345', 'CS3283', 'CS5239', 'CS3282', 'CS5244', 'CS4239', 'CS2103', 'CS3210'], ['CS6280', 'CS3284', 'CS3217', 'CS3281', 'CS3282', 'CS5233', 'CS2103', 'CS4239', 'CS2113T'], ['CS2102', 'CS5342', 'CS6220', 'CS5244', 'CS3223', 'CS5344', 'CS4231', 'CS3245'], ['CS5222', 'CS3281', 'CS2281', 'CS3282', 'CS6213', 'CS4240', 'CS6211', 'CS3249', 'CS4345', 'CS5250', 'CS5246', 'CS5224'], ['CS5425', 'CS5322', 'CS3234', 'CS5250', 'CS4218', 'CS5424', 'CS3220', 'CS4211', 'CS2030', 'CS2220', 'CS3283', 'CS4239', 'CS4215', 'CS6280', 'CS2103', 'CS3223'], ['CS4220', 'CS2106', 'CS5231', 'CS6222'], ['CS3284', 'CS3282', 'CS5342', 'CS6212', 'CS5244', 'CS5246', 'CS5224', 'CS6207'], ['CS4241', 'CS6209', 'CS5331', 'CS4347', 'CS4234', 'CS6231', 'CS2100', 'CS6212', 'CS4222', 'CS3245', 'CS5246', 'CS4257', 'CS5231'], ['CS3283', 'CS6205', 'CS3284', 'CS3226', 'CS2108', 'CS3282', 'CS6213', 'CS6211', 'CS2103', 'CS5248', 'CS3281', 'CS3245', 'CS2103T'], ['CS6243', 'CS6241', 'CS3242', 'CS3249', 'CS3281', 'CS2281', 'CS4240', 'CS4235', 'CS6211', 'CS3218', 'CS4249'], ['CS3225', 'CS3242', 'CS4232', 'CS4351', 'CS5236', 'CS4231', 'CS3233'], ['CS5271', 'CS3234', 'CS3226', 'CS3203', 'CS3218', 'CS4218', 'CS5272', 'CS3205', 'CS3283', 'CS2103T', 'CS3219', 'CS6280', 'CS2103', 'CS5246'], ['CS4221', 'CS4241', 'CS6220', 'CS5344', 'CS5425', 'CS3217', 'CS2102', 'CS5424', 'CS6212', 'CS5244', 'CS3223', 'CS5226', 'CS3245', 'CS6203', 'CS4242'], ['CS6280', 'CS3284', 'CS2103', 'CS6208', 'CS3282', 'CS3216', 'BT5110', 'CS3271', 'CS5215', 'CS4246', 'CS2103T'], ['CS4271', 'CS2010', 'CS5322', 'CS3235'], ['CS3103', 'CS4237', 'CS6205', 'CS6241', 'CS5219', 'CS6213', 'CS2105', 'CS5214', 'CS4222', 'CS5322', 'CS5215'], ['CS5343', 'CS4247', 'CS4278', 'CS3281', 'CS3249', 'CS4235', 'CS5246', 'CS3218', 'CS4249'], ['CS1010E', 'CS3234', 'CS6211', 'CS2040C', 'CS2030', 'CS1231', 'CS3283', 'CS1281', 'CS1020', 'CS2020', 'CS4215', 'CS1010FC/X', 'CS3211', 'CS3245', 'CS5215'], ['CS4224', 'CS5345', 'CS6280', 'CS5228', 'CS3283', 'CS6244', 'CS4220', 'CS6213', 'CS4231', 'CS6212', 'CS3223', 'CS4248'], ['CS4347', 'CS5244', 'CS3245', 'CS6215', 'CS4248', 'CS5241'], ['CS3203', 'CS6208', 'CS4271', 'CS6220', 'CS4278', 'CS4246', 'CS4248', 'CS2103T'], ['CS3212', 'CS6215', 'CS5218', 'CS4214'], ['CS3230', 'CS5330', 'CS3225', 'CS3233', 'CS4232', 'CS6211', 'CS4234', 'CS6234', 'CS4223'], ['CS5248', 'CS3281', 'CS4220', 'CS3282', 'CS3249', 'CS5214', 'CS4231', 'CS4239', 'CS5321'], ['CS5233', 'CS4235', 'CS6231', 'CS4222', 'CS4223', 'CS3202', 'CS3284', 'CS2105', 'CS5321', 'CS5424', 'CS5345', 'CS3220', 'CS3282', 'CS4237', 'CS6213'], ['CS1010', 'CS2106', 'CS4223', 'CS1020E', 'CS4245', 'CS1010S', 'CS4226', 'CS1010E', 'CS5224', 'CS5321', 'CS2030', 'CS1281', 'CS3282', 'CS2020', 'CS1010FC/X', 'CS4237', 'CS2010'], ['CS5249', 'CS4242', 'CS3284', 'CS5342', 'CS5244', 'CS3245', 'CS4248', 'CS5241'], ['CS5228', 'CS3236', 'CS5230', 'BT5110', 'CS4220', 'CS6213', 'CS4234', 'CS4271', 'CS5226', 'CS3223', 'CS6203'], ['CS5330', 'CS3233', 'CS4232', 'CS2010', 'CS4257', 'CS5236', 'CS5234'], ['CS1281', 'CS4235', 'CS2010', 'CS4236', 'CS2040C', 'CS1010', 'CS4351', 'CS1020', 'CS1010J', 'CS1020E'], ['CS3282', 'CS2040C', 'CS5226', 'CS6212', 'CS5224', 'CS1020'], ['CS4351', 'CS2100', 'CS5344', 'CS5425', 'CS3233', 'CS2102', 'CS2105', 'CS3220', 'CS3223', 'CS5229', 'CS6280', 'CS6243', 'CS3240', 'BT5110', 'CS6203'], ['CS6234', 'CS6280', 'CS3218', 'CS5228', 'CS4350', 'CS6213', 'CS4257', 'CS4221', 'CS6220', 'CS5322', 'CS4231', 'CS6203', 'CS5344'], ['CS4235', 'CS4248', 'CS4226', 'CS5425', 'CS5322', 'CS4244', 'CS2105', 'CS4243', 'CS5424', 'CS5343', 'CS3244', 'CS6243', 'CS6213', 'CS5226', 'CS3223', 'CS6203', 'CS4249'], ['CS4247', 'CS5343', 'CS5271', 'CS3240', 'CS4235', 'CS4351', 'CS6215', 'CS3218', 'CS4212', 'CS4249'], ['CS6213', 'CS6211', 'CS2106', 'CS4231', 'CS5250', 'CS4223', 'CS3210', 'CS1010J'], ['CS3225', 'CS5219', 'CS4220', 'CS4232', 'CS4234', 'CS4257', 'CS5330', 'CS5236', 'CS6203', 'CS2103T'], ['CS6205', 'CS6231', 'CS5332', 'CS1020E', 'CS6209', 'CS4271', 'CS6230', 'CS5439', 'CS6204', 'CS3220', 'CS6280', 'CS5476', 'CS4236', 'CS1010J'], ['CS5219', 'CS4212', 'CS5214', 'CS4239', 'CS3212', 'CS5215', 'CS5218'], ['CS5233', 'CS6220', 'CS4223', 'CS1010E', 'CS5228', 'CS5219', 'CS5222', 'CS2102', 'CS6211', 'CS5250', 'CS6204', 'CS5424', 'CS6213', 'CS5226', 'CS5322', 'CS5218', 'CS1010J'], ['CS5331', 'CS6241', 'CS3242', 'CS6211', 'CS6231', 'CS4257', 'CS1020', 'CS1010', 'CS6215', 'CS4212', 'CS5231', 'CS4214'], ['CS3203', 'CS3217', 'CS4271', 'CS4218', 'CS4211', 'CS5232', 'CS5272', 'CS2113', 'CS3205', 'CS4880', 'CS3282', 'CS3219', 'CS2103', 'CS3240'], ['CS6241', 'CS3242', 'CS3249', 'CS3240', 'CS4351', 'CS5332', 'CS5246'], ['CS2030', 'CS1281', 'CS2010', 'CS1101S', 'CS2040C', 'CS1010', 'CS1020', 'CS1010J', 'CS2020'], ['CS5332', 'CS5322', 'CS5330', 'CS4271', 'CS5236', 'CS5439', 'CS2220', 'CS4238', 'CS4231', 'CS4239', 'CS3225', 'CS5476', 'CS4234', 'CS4240', 'CS3233', 'CS5246'], ['CS5230', 'CS5330', 'CS5332', 'CS4238', 'CS4235', 'CS6244', 'CS4257', 'CS3225', 'CS5236', 'CS4239', 'CS4242', 'CS4248'], ['CS5271', 'CS6244', 'CS4220', 'CS6220', 'CS3212', 'CS5215', 'CS4212', 'CS4214'], ['CS4257', 'CS6231', 'CS5236', 'CS5332', 'CS6220', 'CS5439', 'CS6203', 'CS5231'], ['CS5331', 'CS6209', 'CS5248', 'CS6213', 'CS4351', 'CS6231', 'CS4236', 'CS4271', 'CS4239', 'CS5322', 'CS6211'], ['CS5238', 'CS4350', 'CS6243', 'CS3225', 'CS4880', 'CS3284', 'CS4235', 'CS4347', 'CS4351', 'CS4239', 'CS5246', 'CS3218'], ['CS5228', 'CS6244', 'CS5215', 'CS5340', 'CS6208', 'CS5242', 'CS6220', 'CS4246', 'CS4248'], ['CS5249', 'CS3282', 'CS4235', 'CS2105', 'CS4345', 'CS5246'], ['CS4237', 'BT5110', 'CS4220', 'CS2102', 'CS6213', 'CS2100', 'CS5226', 'CS3223', 'CS5344', 'CS6203'], ['CS4351', 'CS5340', 'CS4248', 'CS5425', 'CS4278', 'CS4244', 'CS5345', 'CS5343', 'CS5478', 'CS5244', 'CS6222', 'CS4247', 'CS6243', 'CS6244', 'BT5110', 'CS5246', 'CS5215', 'CS5231', 'CS4249'], ['CS5228', 'CS4244', 'CS6244', 'CS4220', 'CS6213', 'CS2102', 'CS5242', 'CS6220', 'CS4221', 'CS5322', 'CS4248', 'CS6222'], ['CS1101S', 'CS4351', 'CS1010', 'CS4248', 'CS1020E', 'CS1010S', 'CS1010E', 'CS2040C', 'CS1231', 'CS3283', 'CS2108', 'CS1281', 'CS5244', 'CS2020', 'CS1010FC/X', 'CS3245'], ['CS1020E', 'CS5330', 'CS3233', 'CS5236', 'CS1231', 'CS2030', 'CS2220', 'CS3230', 'CS4231', 'CS2103T', 'CS5230', 'CS3225', 'CS3240', 'CS5234', 'CS4249'], ['CS4257', 'CS6231', 'CS4231', 'CS5332', 'CS2106', 'CS3235', 'CS6230', 'CS5224', 'CS5231'], ['CS1010E', 'CS1010FC/X', 'CS3211', 'CS5271', 'CS3281', 'CS3282', 'CS4222', 'CS5214', 'CS4231', 'CS2105', 'CS5218', 'CS2020'], ['CS6244', 'CS5340', 'CS4220', 'CS5214', 'CS6220', 'CS6215', 'CS4248'], ['CS4347', 'CS2100', 'CS4241', 'CS6207', 'CS2105', 'CS5321', 'CS5424', 'CS5214', 'CS5244', 'CS4237', 'CS5248', 'CS3245', 'CS5246', 'CS4242'], ['CS3244', 'CS5228', 'CS4278', 'CS4244', 'CS6244', 'CS4220', 'CS5242', 'BT5110', 'CS5344', 'CS5215', 'CS6207', 'CS4246'], ['CS5424', 'CS3244', 'CS4244', 'CS5219', 'CS6244', 'CS5242', 'CS6220'], ['CS4237', 'CS4244', 'CS5248', 'CS4231', 'CS2105'], ['CS5242', 'CS6220', 'CS6207', 'CS4248', 'CS4278', 'CS6211', 'CS5345', 'CS3283', 'CS6212', 'CS5244', 'CS6244', 'CS3245', 'CS5246', 'CS5215', 'CS4242'], ['CS3281', 'CS4235', 'CS1101S', 'CS4257', 'CS5332', 'CS2309', 'CS3236', 'CS6230', 'CS5439', 'CS5321', 'CS4243', 'CS3282', 'CS4239', 'CS4247', 'CS3240'], ['CS1020E', 'CS1010S', 'CS1010E', 'CS5228', 'CS3234', 'CS4244', 'CS3203', 'CS6208', 'CS2102', 'CS3205', 'CS1281', 'CS1020', 'CS2020', 'CS1010FC/X', 'BT5110', 'CS1010J'], ['CS1010S', 'CS5330', 'CS5236', 'CS6204', 'CS5272', 'CS2220', 'CS3230', 'CS1281', 'CS5230', 'CS3211', 'CS3225', 'CS6213', 'CS4234', 'CS3233', 'CS1010J'], ['CS1281', 'CS2010', 'CS4232', 'CS1020', 'CS1010J', 'CS2020'], ['CS4220', 'CS3242', 'CS4222', 'CS4248', 'CS6207', 'CS5425', 'CS5228', 'CS5271', 'CS2102', 'CS5321', 'CS6204', 'CS5424', 'CS4231', 'CS5229', 'CS5248', 'CS6244', 'CS6203', 'CS5322', 'CS5215'], ['CS1010', 'CS1020E', 'CS2309', 'CS5219', 'CS3284', 'CS2104', 'CS6241', 'CS5214', 'CS4231', 'CS2020', 'CS5240', 'CS4234', 'CS5246', 'CS1010J'], ['CS3230', 'CS4232', 'CS4234', 'CS4231', 'CS5236', 'CS3233', 'CS4345'], ['CS6270', 'CS2220', 'BT5110', 'CS2102', 'CS6220', 'CS5226', 'CS5322', 'CS5344', 'CS4221'], ['CS5242', 'CS5236', 'CS6220', 'BT5110', 'CS5246', 'CS5215', 'CS6207', 'CS4248', 'CS6222'], ['CS5344', 'CS5228', 'CS3236', 'CS6209', 'CS5439', 'CS3243', 'CS4243', 'CS3283', 'CS6241', 'CS5478', 'CS2108', 'CS4239', 'CS5240', 'CS4247', 'CS5476', 'CS3249', 'CS5322', 'CS5246', 'CS4242'], ['CS6220', 'CS5344', 'CS4248', 'CS5425', 'CS5228', 'CS4271', 'CS5439', 'CS4243', 'CS3220', 'CS5345', 'CS3244', 'CS6241', 'CS3282', 'BT5110'], ['CS1020E', 'CS1010S', 'CS5228', 'CS5222', 'CS2102', 'CS6211', 'CS5250', 'CS5224', 'CS4246', 'CS6213', 'CS3223', 'CS5246', 'CS6203', 'CS1010J'], ['CS5330', 'CS6208', 'CS6211', 'CS5439', 'CS6230', 'CS5345', 'CS3244', 'CS5478', 'CS6212', 'CS4231', 'CS5229', 'CS4234', 'CS4236', 'BT5110'], ['CS4237', 'CS6205', 'CS3281', 'CS3282', 'CS6213', 'CS2105', 'CS4222', 'CS5321'], ['CS1281', 'CS2040C', 'CS1010J'], ['CS4214', 'CS5425', 'CS5228', 'CS6209', 'CS6211', 'CS4271', 'CS5439', 'CS6230', 'CS4225', 'CS4238', 'CS6280', 'CS4236', 'CS5226', 'BT5110'], ['CS5228', 'CS5340', 'CS6208', 'CS6211', 'CS6220', 'CS5344', 'CS4248'], ['CS5425', 'CS5228', 'CS2040C', 'CS4246', 'CS1231', 'CS2030', 'CS3244', 'CS3212', 'CS5214', 'CS4215', 'CS6202', 'CS3211', 'CS4278', 'CS5215', 'CS5218', 'CS1010J'], ['CS5222', 'CS6230', 'CS3245', 'CS4225', 'CS2220', 'CS3283', 'CS4238', 'CS5342', 'CS6212', 'CS5244', 'CS5241', 'CS4236', 'BT5110', 'CS5246'], ['CS6220', 'CS4221', 'CS5425', 'CS2102', 'CS3218', 'CS3245', 'CS2220', 'CS3223', 'CS5240', 'CS6280', 'CS6243', 'CS3249', 'CS5322', 'CS5246', 'CS6203'], ['CS4257', 'CS2100', 'CS1010', 'CS4226', 'CS1010E', 'CS2040C', 'CS5236', 'CS5424', 'CS3220', 'CS5343', 'CS6241', 'CS3282', 'CS4231', 'CS2020', 'CS2010', 'CS1010J', 'CS4249'], ['CS4220', 'CS6213', 'CS2102', 'CS4221', 'CS6220', 'CS3223', 'CS5226', 'CS6203', 'CS5344'], ['CS3281', 'CS4220', 'CS6213', 'CS4236', 'CS5242', 'BT5110', 'CS3212', 'CS4212', 'CS5321'], ['CS4235', 'CS4240', 'CS6207'], ['CS6220', 'CS4248', 'CS1020E', 'CS3203', 'CS3226', 'CS2040C', 'CS5424', 'CS2030', 'CS2220', 'CS1281', 'CS2020', 'CS6280', 'CS6213', 'CS5322'], ['CS4247', 'CS5343', 'CS4350', 'CS6241', 'CS6243', 'CS3242', 'CS3249', 'CS3240', 'CS4351', 'CS4240', 'CS5246', 'CS3218', 'CS4249'], ['CS5222', 'CS3284', 'CS3281', 'CS4220', 'CS3223', 'CS4271', 'CS6220', 'CS4231', 'BT5110'], ['CS5233', 'CS3282', 'CS5214', 'CS5332', 'CS5250', 'CS4223', 'CS5218'], ['CS3242', 'CS2108', 'CS3281', 'CS5476', 'CS6230', 'CS5332', 'CS5250', 'CS6215', 'CS5218'], ['CS2106', 'CS4223', 'CS4244', 'CS5236', 'CS5250', 'CS3243', 'CS5424', 'CS5345', 'CS5478', 'CS3230', 'CS5230', 'CS6213', 'CS4234', 'BT5110'], ['CS2220', 'CS6280', 'CS5228', 'CS4237', 'BT5110', 'CS4220', 'CS6220', 'CS4223', 'CS5344', 'CS6207', 'CS4248'], ['CS3284', 'CS3203', 'CS5340', 'CS4220', 'CS3226', 'CS5215', 'CS5236', 'CS5344', 'CS4246', 'CS4248', 'CS6222'], ['CS6220', 'CS5234', 'CS5344', 'CS5215', 'CS3882'], ['CS5271', 'CS2103T', 'CS2103', 'CS3281', 'CS3217', 'CS3282', 'CS4271', 'CS2113T', 'CS3271', 'CS3882'], ['CS3225', 'CS4232', 'CS4234', 'CS4351', 'CS4257', 'CS5236', 'CS6234', 'CS4231'], ['CS3247', 'CS5272', 'CS4247', 'CS4350', 'CS5343', 'CS6241', 'CS3240', 'CS4235', 'CS4351', 'CS4240', 'CS5246', 'CS2103T'], ['CS2010', 'CS1010', 'CS1020', 'CS1010J', 'CS2020', 'CS1020E'], ['CS4238', 'CS6208', 'CS5340', 'CS6231', 'CS6211', 'CS5332', 'CS3235', 'CS5439', 'CS6207'], ['CS6207', 'CS5343', 'CS3283', 'CS5249', 'CS6241', 'CS3284', 'CS2108', 'CS4241', 'CS6215', 'CS4242', 'CS4249'], ['CS4880', 'CS3217', 'CS6213', 'CS4347', 'CS2102', 'CS3223', 'CS2113T', 'CS6203', 'CS3245'], ['CS4248', 'CS5228', 'CS4244', 'CS3243', 'CS5424', 'CS5345', 'CS3283', 'CS5478', 'CS4239', 'CS2103T', 'CS6203', 'CS6213', 'BT5110', 'CS4278', 'CS5215'], ['CS5271', 'CS2103', 'CS2010', 'CS4271', 'CS1020', 'CS1010J'], ['CS5232', 'CS5223', 'CS5248', 'CS3281', 'CS3242', 'CS6211', 'CS4234', 'CS2100', 'CS2105', 'CS4222', 'CS3233'], ['CS1280', 'CS2010', 'CS1101S', 'CS2040C', 'CS1010J'], ['CS3205', 'CS3283', 'CS2103T', 'CS3281', 'CS3217', 'CS3226', 'CS3216', 'CS2100', 'CS5250', 'CS3235', 'CS3882'], ['CS3234', 'CS5219', 'CS3211', 'CS5214', 'CS3212', 'CS5215', 'CS4212'], ['CS5222', 'CS5248', 'CS3281', 'CS2281', 'CS3282', 'CS1101S', 'CS2040C', 'CS1010', 'CS2106', 'CS1010J', 'CS2020'], ['CS5332', 'CS4238', 'CS6211', 'CS6231', 'CS4257', 'CS4271', 'CS4239', 'CS6212', 'CS3235', 'CS6230', 'CS5231'], ['CS5214', 'BT5110', 'CS3212', 'CS6230'], ['CS5219', 'CS5271', 'CS2105', 'CS6215', 'CS4218', 'CS2113', 'CS4211', 'CS5272', 'CS3282', 'CS5214', 'CS4239', 'CS4212', 'CS2103T', 'CS6280', 'CS3211', 'CS5218'], ['CS4223', 'CS1010E', 'CS5222', 'CS5250', 'CS4218', 'CS3882', 'CS4211', 'CS3282', 'CS4231', 'CS4237', 'CS6243', 'CS2103', 'CS6213', 'CS2010'], ['CS3283', 'CS5271', 'BT5110', 'CS2102', 'CS6213', 'CS3216', 'CS5226', 'CS4239', 'CS3223', 'CS2113T', 'CS5439', 'CS5231', 'CS3882'], ['CS2100', 'CS2106', 'CS6207', 'CS4226', 'CS4245', 'CS5222', 'CS6208', 'CS6211', 'CS3243', 'CS5424', 'CS3220', 'CS5239', 'CS4237', 'CS5215'], ['CS5425', 'CS5228', 'CS6211', 'CS4271', 'CS4345', 'CS3882', 'CS4243', 'CS4211', 'CS5272', 'CS2220', 'CS5214', 'CS4231', 'CS4215', 'CS3211', 'CS6213', 'BT5110', 'CS3210', 'CS6203'], ['CS4241', 'CS4248', 'CS5228', 'CS5330', 'CS5236', 'CS3245', 'CS5345', 'CS3244', 'CS5478', 'CS3230', 'CS5342', 'CS4231', 'CS5244', 'CS5241', 'CS5230', 'CS3225', 'CS4234', 'CS3233', 'CS4242'], ['CS3281', 'CS6220', 'CS4221', 'BT5110', 'CS4249'], ['CS3212', 'CS5332', 'CS3249', 'CS4240', 'CS4271', 'CS4236', 'CS4239', 'CS5322', 'CS3235', 'CS6230', 'CS3218', 'CS4345', 'CS4249'], ['CS3225', 'CS5330', 'CS4220', 'CS4232', 'CS5226', 'CS4221', 'CS3233', 'CS6215', 'CS5218'], ['BT5110', 'CS2102', 'CS6208', 'CS5214', 'CS4231', 'CS2106', 'CS5250', 'CS3212', 'CS6220', 'CS5215', 'CS5218', 'CS5344', 'CS4214'], ['CS3201', 'CS5425', 'CS5228', 'CS4244', 'CS3284', 'CS3226', 'CS3203', 'CS4246', 'CS3882', 'CS4211', 'CS3205', 'CS4880', 'CS3282', 'CS6280', 'CS2103'], ['CS2220', 'CS5228', 'CS6209', 'CS6213', 'CS6220', 'BT5110', 'CS6203'], ['CS4238', 'CS5322', 'CS5344', 'CS5439', 'CS6207'], ['CS4234', 'CS4231', 'CS6234', 'CS5246', 'CS6207'], ['CS3234', 'CS5271', 'CS5219', 'CS5342', 'CS5214', 'CS2106', 'CS3210', 'CS5215', 'CS5218', 'CS4214'], ['CS5233', 'CS6209', 'CS4271', 'CS3235', 'CS5439', 'CS5424', 'CS4238', 'CS3282', 'CS4239', 'CS5229', 'CS4237', 'CS5248', 'CS4236', 'CS5322'], ['CS4271', 'CS5344', 'CS6215', 'CS6203', 'CS5231', 'CS4249'], ['CS4237', 'CS4242', 'CS2108', 'CS4347', 'CS5342', 'CS6212', 'CS5244', 'CS6215', 'CS5215', 'CS4212', 'CS4248'], ['CS2103T', 'CS5219', 'CS2103', 'CS3217', 'CS4271', 'CS2105', 'CS3223', 'CS3271', 'CS3882'], ['CS6243', 'CS2103', 'CS4880', 'CS5340', 'CS4220', 'CS4239', 'CS3271', 'CS3218', 'CS4248', 'CS3882'], ['CS6244', 'CS4238', 'CS6208', 'CS6211', 'CS6231', 'CS4257', 'CS5242', 'CS4239', 'BT5110', 'CS6220', 'CS4236', 'CS6207'], ['CS3230', 'CS3225', 'CS4232', 'CS4257', 'CS4231', 'CS5236', 'CS3233', 'CS4249'], ['CS4244', 'CS3281', 'CS2281', 'CS6213', 'CS5340', 'CS5214', 'CS5250', 'CS4345', 'CS4223', 'CS3212', 'CS6215', 'CS5215', 'CS5344'], ['CS5219', 'CS3211', 'CS5214', 'CS3212', 'CS6215', 'CS5215', 'CS5218', 'CS4214'], ['CS6280', 'CS4220', 'CS4240', 'CS6220', 'BT5110', 'CS5344'], ['CS5249', 'CS3281', 'CS4347', 'CS4248', 'CS6209', 'CS3284', 'CS5439', 'CS5224', 'CS5424', 'CS5239', 'CS4238', 'CS2108', 'CS5342', 'CS6212', 'CS5244', 'CS6213', 'CS5246'], ['CS4224', 'CS1010FC/X', 'CS2281', 'CS3282', 'CS1101S', 'CS4220', 'CS4221', 'CS4223', 'CS5344', 'CS2020'], ['CS4248', 'CS5425', 'CS1010E', 'CS5228', 'CS5330', 'CS3233', 'CS6208', 'CS4345', 'CS4246', 'CS4243', 'CS5345', 'CS5239', 'CS2108', 'CS6244', 'BT5110', 'CS4278'], ['CS4350', 'CS3211', 'CS3234', 'CS6243', 'CS3212', 'CS4351', 'CS4240', 'CS5246', 'CS6215', 'CS4212', 'CS4214'], ['CS4344', 'CS5272', 'CS5223', 'CS6205', 'CS6209', 'CS5248', 'CS5233', 'CS3281', 'CS3282', 'CS6213', 'CS6211', 'CS4271'], ['CS4240', 'CS5246', 'CS6203', 'CS4249'], ['CS3201', 'CS5219', 'CS3226', 'CS3217', 'CS2105', 'CS3882', 'CS6204', 'CS2104', 'CS3220', 'CS4211', 'CS2113', 'CS4239', 'CS6280', 'CS6213'], ['CS5230', 'CS3211', 'CS5271', 'CS4244', 'CS3282', 'CS4234', 'CS4345', 'CS4278', 'CS5218', 'CS6222'], ['CS4237', 'CS5239', 'CS5233', 'CS4235', 'CS4347', 'CS6211', 'CS2100', 'CS3210', 'CS4241', 'CS2106', 'CS5246', 'CS3218', 'CS4345'], ['CS6231', 'CS4239', 'CS3235', 'CS5439', 'CS1010J', 'CS1020E'], ['CS5228', 'CS5230', 'CS4241', 'CS4235', 'CS6212', 'CS5244', 'CS4231', 'CS4242', 'CS1010J'], ['CS2030', 'CS5230', 'CS3211', 'CS5330', 'CS4347', 'CS4234', 'CS2010', 'CS4235', 'CS5236', 'CS5234', 'CS5241'], ['CS5340', 'CS4257', 'CS6231', 'CS6207', 'CS5228', 'CS4244', 'CS6209', 'CS6211', 'CS2105', 'CS4246', 'CS5424', 'CS3244', 'CS2108', 'CS3282', 'CS5342', 'CS4239', 'CS6222', 'CS4237', 'BT5110'], ['CS3226', 'CS3217', 'CS4218', 'CS3882', 'CS5232', 'CS5272', 'CS3283', 'CS4880', 'CS4238', 'CS3282', 'CS3216', 'CS4239', 'CS2103T', 'CS3219', 'CS6280'], ['CS5331', 'CS2108', 'CS4235', 'CS5342', 'CS5244', 'CS5439', 'CS4242'], ['CS3283', 'CS5249', 'CS3284', 'CS6208', 'CS4347', 'CS5342', 'CS4241', 'CS4248', 'CS6222'], ['CS3284', 'CS2108', 'CS6211', 'CS5342', 'CS3210', 'CS4345', 'CS5250', 'CS4223', 'CS6212', 'CS4242'], ['CS3201', 'CS5222', 'CS3203', 'CS5224', 'CS3882', 'CS3220', 'CS4211', 'CS5239', 'CS4880', 'CS3282', 'CS2103T', 'CS6280', 'CS3211', 'CS3210'], ['CS4235', 'CS5242', 'CS4271', 'CS6220', 'CS4239', 'CS3233', 'CS3235', 'CS6207'], ['CS3234', 'CS3281', 'CS3226', 'CS6213', 'CS3282', 'CS3240', 'CS2100', 'CS4271', 'CS6204'], ['CS2309', 'CS1010E', 'CS4244', 'CS6208', 'CS3235', 'CS6230', 'CS1231', 'CS2030', 'CS3244', 'CS5478', 'CS2020', 'CS6222', 'CS5476', 'CS4278'], ['CS5340', 'CS6208', 'CS6220', 'CS4278', 'CS4246', 'CS4248', 'CS6222'], ['CS6208', 'CS4222', 'CS2105', 'CS6207'], ['CS6280', 'CS5228', 'CS6244', 'CS4220', 'CS5340', 'CS2102', 'CS5242', 'CS4231', 'CS5226', 'CS3245', 'CS6220', 'CS5215', 'CS6207'], ['CS2220', 'CS6209', 'CS4240', 'CS6231', 'CS6220', 'CS3235', 'CS5344', 'CS6203'], ['CS6207', 'CS5339', 'CS6280', 'CS3283', 'CS4242', 'CS3284', 'CS2108', 'CS4347', 'CS6212', 'CS4241', 'CS5246', 'CS4248', 'CS5241'], ['CS3283', 'CS3236', 'CS3211', 'CS5249', 'CS5330', 'CS4235', 'CS4347', 'CS5342', 'CS6212', 'CS2113T', 'CS5224', 'CS5241'], ['CS6203', 'CS2102', 'CS5226', 'CS5332', 'BT5110', 'CS3218'], ['CS5249', 'CS5250', 'CS3210', 'CS5224', 'CS6207', 'CS5241', 'CS4223'], ['CS6234', 'CS4248', 'CS3236', 'CS6209', 'CS3284', 'CS3233', 'CS6211', 'CS4271', 'CS3235', 'CS2220', 'CS3283', 'CS2108', 'CS4231', 'CS5230', 'CS4234', 'CS5322'], ['CS2103', 'CS3281', 'CS3282', 'CS2100', 'CS4231', 'CS2105', 'CS4345'], ['CS5343', 'CS4247', 'CS5228', 'CS5478', 'CS5246', 'CS6243', 'CS3242', 'CS5242', 'CS4240', 'CS4239', 'CS4278', 'CS3218'], ['CS6280', 'CS3234', 'CS2103', 'CS4880', 'CS3203', 'CS3281', 'CS4239', 'CS4218', 'CS4212', 'CS2103T'], ['CS3205', 'CS6280', 'CS3234', 'CS5271', 'CS2103', 'CS3203', 'CS3282', 'CS3216', 'CS4271', 'CS4239', 'CS6230', 'CS3882'], ['CS3230', 'CS4234', 'CS4257', 'CS3233'], ['CS4235', 'CS4239', 'CS3245', 'CS4242'], ['CS2220', 'CS6280', 'CS5228', 'BT5110', 'CS3217', 'CS4220', 'CS2281', 'CS6220', 'CS5226', 'CS3223', 'CS5344', 'CS5215'], ['CS3217', 'CS3281', 'CS1010', 'CS2113T', 'CS1020', 'CS1010J', 'CS2020', 'CS1020E'], ['CS5233', 'CS4220', 'CS6213', 'CS5226', 'CS4345', 'CS5322', 'CS3210', 'CS5250', 'CS5224'], ['CS4221', 'CS4248', 'CS5425', 'CS2102', 'CS6208', 'CS3243', 'CS3244', 'CS3223', 'CS1020', 'CS2020', 'CS6280', 'CS5226', 'BT5110', 'CS4278', 'CS4242'], ['CS5233', 'CS2100', 'CS4221', 'CS4226', 'CS1010E', 'CS6211', 'CS3235', 'CS5439', 'CS6230', 'CS5321', 'CS5424', 'CS4238', 'CS4231', 'CS1010FC/X', 'CS4237', 'CS5248', 'CS5476', 'CS5231'], ['CS5228', 'CS6244', 'CS4347', 'CS4235', 'CS6212', 'CS3223', 'CS4278', 'CS5215', 'CS6222'], ['CS4238', 'CS5476', 'CS6211', 'CS4236', 'CS3223', 'CS4271', 'CS4239', 'CS5322', 'CS3235', 'CS5439', 'CS6231', 'CS5231'], ['CS6213', 'CS4232', 'CS2102', 'CS4257', 'CS5226', 'CS6220', 'CS5234', 'CS5236'], ['CS2040C', 'CS5244', 'CS6212', 'CS5246', 'CS4248', 'CS1010J'], ['CS4220', 'CS6208', 'CS6211', 'CS2100', 'CS4345', 'CS5215', 'CS6222'], ['CS4244', 'CS6203', 'CS5226', 'CS3223', 'CS4246', 'CS6204'], ['CS5233', 'CS5476', 'CS3282', 'CS6211', 'CS4238', 'CS2106', 'CS5250', 'CS4345', 'CS4223', 'CS2100', 'CS5224'], ['CS4235', 'CS4347', 'CS4248', 'CS3284', 'CS6204', 'CS5424', 'CS3220', 'CS3283', 'CS3282', 'CS4231', 'CS5244', 'CS5241', 'CS4237', 'CS6213', 'CS6203'], ['CS6231', 'CS4271', 'CS5332', 'CS3223', 'CS5344', 'CS5439', 'CS5231'], ['CS5239', 'CS1101S', 'CS4239', 'CS5322', 'CS3212', 'CS6203'], ['CS5330', 'CS3225', 'CS4232', 'CS4234', 'CS4257', 'CS5236', 'CS4231', 'CS3233'], ['CS6241', 'CS3230', 'CS3225', 'CS5233', 'CS4235', 'CS4232', 'CS4257', 'CS4234', 'CS4231', 'CS6234', 'CS6204'], ['CS5240', 'CS2220', 'CS3236', 'CS5230', 'CS3230', 'CS3240', 'CS4351', 'CS5236'], ['CS6211', 'CS2100', 'CS4221', 'CS4248'], ['CS5223', 'CS5271', 'CS3211', 'CS5219', 'CS3234', 'CS5233', 'CS2281', 'CS3281', 'CS3282', 'CS6212', 'CS6215', 'CS4212'], ['CS5343', 'CS6243', 'CS5271', 'CS5233', 'CS3240', 'CS4235', 'CS4351', 'CS4240', 'CS4249'], ['CS3234', 'CS3211', 'CS3240', 'CS3242', 'CS4235', 'CS2010', 'CS5214', 'CS3212', 'CS5215', 'CS4212'], ['CS5229', 'CS4344', 'CS3103', 'CS5223', 'CS5271', 'CS3234', 'CS6211', 'CS5242', 'CS5214', 'CS2100', 'CS3212', 'CS5344'], ['CS2102', 'CS1101S', 'CS1020', 'CS5224', 'CS5226', 'CS1010', 'CS6220', 'CS5344', 'CS4271', 'CS6203', 'CS4248', 'CS4221'], ['CS5222', 'CS6211', 'CS4257', 'CS3210', 'CS6231', 'CS3235', 'CS5322', 'CS4223', 'CS5224'], ['CS5239', 'CS5222', 'CS3211', 'CS5219', 'CS2100', 'CS4231', 'CS3210', 'CS2106', 'CS3212', 'CS6215', 'CS5224', 'CS5218'], ['CS1280', 'CS3234', 'CS3211', 'CS5214', 'CS2040C', 'CS5215', 'CS5218', 'CS2020'], ['CS5271', 'CS3234', 'CS5219', 'CS4271', 'CS5439', 'CS6215', 'CS2104', 'CS5214', 'CS4212', 'CS4215', 'CS6202', 'CS3211', 'CS3212', 'CS5215', 'CS5218'], ['CS5346', 'CS5230', 'CS3230', 'CS3284', 'CS3225', 'CS4345', 'CS3233', 'CS6230', 'CS4248'], ['CS1280', 'CS3283', 'CS6241', 'CS5239', 'CS2108', 'CS3249', 'CS5342', 'CS6212', 'CS4241', 'CS4242', 'CS5241'], ['CS6241', 'CS3225', 'CS3281', 'CS3217', 'CS4232', 'CS4234', 'CS4257', 'CS5330', 'CS4231', 'CS6234', 'CS5236', 'CS3271', 'CS4218'], ['CS5330', 'CS3284', 'CS4234', 'CS5342', 'CS5236', 'CS3245', 'CS4242', 'CS5241'], ['CS3241', 'CS4247', 'CS6241', 'CS3242', 'CS3249', 'CS4351', 'CS4240', 'CS5246', 'CS4249'], ['CS3234', 'CS3284', 'CS3226', 'CS3283', 'CS3282', 'CS3216', 'CS5342', 'CS6212', 'CS5244', 'CS4239', 'CS5241', 'CS2103', 'CS3245', 'CS5246', 'CS4242'], ['CS6270', 'CS5271', 'CS5219', 'CS3234', 'CS5233', 'CS5214', 'CS3212', 'CS6215', 'CS5215', 'CS5218', 'CS4214'], ['CS6244', 'CS5233', 'CS4231', 'CS4278', 'CS4248'], ['CS6211', 'CS4257', 'CS6231', 'CS4236', 'CS5332', 'CS6230', 'CS5231'], ['CS5219', 'CS3211', 'CS5330', 'CS5271', 'CS6215', 'CS5215', 'CS4212', 'CS4214'], ['CS4220', 'CS2102', 'CS6213', 'CS3223', 'CS5226', 'CS6220', 'CS5322', 'CS5344', 'CS6203'], ['CS3202', 'CS5236', 'CS4218', 'CS3882', 'CS4211', 'CS5232', 'CS2113', 'CS3205', 'CS3230', 'CS4880', 'CS3282', 'CS3216', 'CS2103T', 'CS3219', 'CS5230', 'CS3225', 'CS2103', 'CS3233', 'CS4242'], ['CS1101S', 'CS1020E', 'CS2309', 'CS5425', 'CS1010E', 'CS2102', 'CS3218', 'CS4243', 'CS6241', 'CS5240', 'CS3249', 'CS5226', 'CS5246', 'CS6203', 'CS4249'], ['CS4235', 'CS4351', 'CS4236', 'CS4239', 'BT5110', 'CS3218', 'CS5231', 'CS4246'], ['CS5219', 'CS3217', 'CS3282', 'CS5214', 'CS6215'], ['CS3284', 'CS4235', 'CS6212', 'CS4248'], ['CS1101S', 'CS2010', 'CS4235', 'CS5250', 'CS3235'], ['CS4235', 'CS4347', 'CS6212', 'CS4248', 'CS5241'], ['CS3230', 'CS4220', 'CS4239', 'BT5110', 'CS6203'], ['CS6280', 'CS5228', 'CS5223', 'CS5219', 'CS4220', 'CS6213', 'CS2102', 'CS1101S', 'CS2100', 'CS6220', 'CS5234', 'CS6203', 'CS4214'], ['CS5223', 'CS6205', 'CS3281', 'CS4220', 'CS3282', 'CS4231', 'CS6204'], ['CS4237', 'CS5248', 'CS5233', 'CS6213', 'CS6211', 'CS3282', 'CS2105', 'CS2100', 'CS4222', 'CS5321', 'CS6204'], ['CS4237', 'CS5271', 'CS3234', 'CS3211', 'CS6244', 'CS2103T', 'CS4271', 'CS5214', 'CS2113T', 'CS6215', 'CS4212', 'CS4214'], ['CS6234', 'CS3236', 'CS5330', 'CS3233', 'CS4271', 'CS5236', 'CS2220', 'CS4238', 'CS4231', 'CS5230', 'CS5234', 'CS5246', 'CS5231', 'CS4249'], ['CS6244', 'CS5476', 'CS5248', 'CS4257', 'CS2100', 'CS6220', 'CS4231', 'BT5110', 'CS5231', 'CS1010J', 'CS6222'], ['CS5215', 'CS4220', 'CS6208', 'CS5340', 'CS6220', 'BT5110', 'CS4278', 'CS4246', 'CS5344', 'CS6222'], ['CS6215', 'CS4212', 'CS4214'], ['CS6220', 'CS4223', 'CS6203', 'CS5231'], ['CS2107', 'CS4238', 'CS1010', 'CS1020'], ['CS5332', 'CS2309', 'CS6211', 'CS4271', 'CS2040C', 'CS3235', 'CS5439', 'CS6230', 'CS5424', 'CS1281', 'CS1020', 'CS5229', 'CS5476', 'CS6213', 'CS4236', 'CS5231'], ['CS4239', 'CS5322', 'CS3235', 'CS6230'], ['CS3211', 'CS3234', 'CS4235', 'CS3282', 'CS6215', 'CS5218', 'CS4214'], ['CS5271', 'CS3230', 'CS5330', 'CS4232', 'CS5236'], ['CS5478', 'CS3211', 'CS5239', 'CS5233', 'CS5340', 'CS3282', 'CS2281', 'CS2100', 'CS4231', 'CS5250', 'CS6207', 'CS6222'], ['CS5233', 'CS6213', 'CS6211', 'CS2100', 'CS4231', 'CS4345', 'CS2106', 'CS4223', 'CS3210', 'CS5224'], ['CS2100', 'CS4248', 'CS4226', 'CS6211', 'CS3218', 'CS6204', 'CS4243', 'CS3220', 'CS2108', 'CS5240', 'CS5248', 'CS3240', 'CS6213', 'CS5246', 'CS4249'], ['CS4257', 'CS4271', 'CS6231', 'CS5332', 'CS4236', 'CS3235', 'CS6230', 'CS5231'], ['CS4222', 'CS4226', 'CS3234', 'CS3284', 'CS3203', 'CS2105', 'CS3882', 'CS5232', 'CS5272', 'CS3205', 'CS4880', 'CS3216', 'CS4239', 'CS2103T', 'CS2103'], ['CS3234', 'CS2103', 'CS3226', 'CS3284', 'CS3281', 'CS3282', 'CS3216', 'CS2113T', 'CS2103T', 'CS6222'], ['CS4220', 'CS1101S', 'CS2100', 'CS5344', 'CS6207', 'CS1020E', 'CS6209', 'CS6208', 'CS2105', 'CS6204', 'CS5424', 'CS3282', 'CS4237', 'CS5248', 'CS6213', 'BT5110'], ['CS2281', 'CS1281', 'CS6213', 'CS1101S', 'CS4231', 'CS5224', 'CS1020', 'CS1020E'], ['CS5476', 'CS6211', 'CS6231', 'CS4271', 'CS4257', 'CS5332', 'CS5322', 'CS3235', 'CS6230'], ['CS5214', 'BT5110', 'CS5246', 'CS5215', 'CS4248', 'CS4246', 'CS4214'], ['CS3226', 'CS3203', 'CS4221', 'CS6220', 'CS5322', 'CS2113T', 'CS5439', 'CS5215', 'CS4218', 'CS3882'], ['CS5236', 'CS4218', 'CS2104', 'CS2113', 'CS1231', 'CS2030', 'CS3283', 'CS3230', 'CS1281', 'CS4231', 'CS4239', 'CS2103T', 'CS5230', 'CS3225', 'CS2103', 'CS5215'], ['CS6213', 'CS4257', 'CS4236', 'CS4239', 'CS5322', 'CS3235', 'CS5439', 'CS6203', 'CS5231', 'CS5344'], ['CS4224', 'CS3244', 'CS4220', 'BT5110', 'CS4278', 'CS6230', 'CS5215', 'CS4248', 'CS4246'], ['CS6205', 'CS3281', 'CS5233', 'CS4241', 'CS1010', 'CS6207', 'CS4248', 'CS6211', 'CS3283', 'CS3282', 'CS4212', 'CS4215', 'CS5229', 'CS6202', 'CS5248', 'CS5246', 'CS4249'], ['CS4257', 'CS2100', 'CS6234', 'CS5271', 'CS5219', 'CS5222', 'CS5330', 'CS5224', 'CS5214', 'CS4212', 'CS4237', 'CS3225', 'CS6213', 'CS3233', 'CS3212'], ['CS4880', 'CS3203', 'CS2010'], ['CS2106', 'CS5224', 'CS4246'], ['CS5330', 'CS3282', 'CS4345', 'CS3218'], ['CS1231', 'CS1280', 'CS1281', 'CS3282', 'CS1101S', 'CS2040C', 'CS1010', 'CS5250', 'CS1020', 'CS1010J', 'CS2020', 'CS1020E'], ['CS5222', 'CS6213', 'CS6211', 'CS2106', 'CS4231', 'CS4222', 'CS4223', 'CS5246', 'CS5224', 'CS4345', 'CS5241'], ['CS3217', 'CS3281', 'CS4271', 'CS5214', 'CS4231', 'BT5110', 'CS4212', 'CS5218', 'CS3882'], ['CS6211', 'CS4236', 'CS4257', 'CS4271', 'CS5332', 'CS5322', 'CS6230'], ['CS4220', 'CS5233', 'CS2100', 'CS6220', 'CS5344', 'CS6207', 'CS4226', 'CS6208', 'CS4246', 'CS4243', 'CS3244', 'CS4231', 'CS4237', 'CS6244', 'CS4278', 'CS5215'], ['CS3211', 'CS5239', 'CS5233', 'CS4238', 'CS3282', 'CS6211', 'CS6213', 'CS2281', 'CS5250', 'CS4231', 'CS4223', 'CS3242', 'CS5224'], ['CS4235', 'CS5236', 'CS3245', 'CS6207', 'CS5241'], ['CS3103', 'CS6280', 'CS2220', 'CS4237', 'CS2103', 'CS3281', 'CS4271', 'CS6220', 'BT5110', 'CS2113T', 'CS6203', 'CS2103T'], ['CS5219', 'CS3212', 'CS5233', 'CS3235', 'CS5332', 'CS2106', 'CS5344', 'CS6215', 'CS5215', 'CS6222'], ['CS5248', 'CS5233', 'CS6211', 'CS4231', 'CS2105', 'CS5215', 'CS4214', 'CS6204'], ['CS3211', 'CS5239', 'BT5110', 'CS4220', 'CS4351', 'CS5242', 'CS4271', 'CS6220', 'CS4223', 'CS2113T', 'CS3271', 'CS2103T'], ['CS4257', 'CS2100', 'CS6234', 'CS5250', 'CS5224', 'CS4345', 'CS2103T'], ['CS3234', 'CS3203', 'CS3217', 'CS2113T', 'CS6215', 'CS2103T'], ['CS6209', 'CS6244', 'CS3281', 'CS6208', 'CS5215', 'CS4248', 'CS5321'], ['CS5233', 'CS3281', 'CS6213', 'CS6211', 'CS4345', 'CS2106', 'CS3210', 'CS5224', 'CS4223'], ['CS6213', 'CS2281', 'CS2100', 'CS4231', 'CS2106', 'CS5224'], ['CS2107', 'CS3281', 'CS4235', 'CS6231', 'CS3271', 'CS5231', 'CS4249'], ['CS5219', 'CS6203', 'CS3226', 'CS3282', 'CS5214', 'CS6220', 'CS4239', 'CS5322', 'CS3212', 'CS5215', 'CS5218'], ['CS4238', 'CS2108', 'CS4234', 'CS4257', 'CS4236', 'CS5236', 'CS5332', 'CS3233', 'CS3235', 'CS5439', 'CS6211', 'CS6207'], ['CS4238', 'CS4232', 'CS4257', 'CS6234', 'CS5234', 'CS6230', 'CS5231'], ['CS5222', 'CS3281', 'CS4232', 'CS6211', 'CS2100', 'CS4231', 'CS5250'], ['CS3284', 'CS4880', 'CS2103', 'CS3282', 'CS3281', 'CS6211', 'CS3271'], ['CS4220', 'CS4257', 'CS6207', 'CS4244', 'CS5439', 'CS3218', 'CS4246', 'CS3243', 'CS6241', 'CS1281', 'CS4247', 'CS5230', 'CS3240', 'CS4240', 'CS3233', 'CS4278', 'CS5215'], ['CS2281', 'CS4241', 'CS3245', 'CS3210', 'CS1010J'], ['CS6211', 'CS4271', 'CS6230', 'CS3218', 'CS4238', 'CS4231', 'CS4239', 'CS4212', 'CS4215', 'CS6202', 'CS5248', 'CS5476', 'CS5322', 'CS5246', 'CS5231'], ['CS5344', 'CS5215', 'CS6207', 'CS4246'], ['CS6220', 'CS6234', 'CS4223', 'CS3236', 'CS3284', 'CS5330', 'CS3233', 'CS5345', 'CS3230', 'CS4231', 'CS6222', 'CS4234', 'CS5234', 'CS3210', 'CS5215'], ['CS3226', 'CS4271', 'CS3235', 'CS5439', 'CS3882', 'CS2113', 'CS4880', 'CS4238', 'CS4239', 'CS1020', 'CS6243', 'CS5476', 'CS4236', 'CS5322', 'CS5231'], ['CS3219', 'CS3236', 'CS3234', 'CS3211', 'CS3281', 'CS4239', 'CS6215', 'CS4212', 'CS5218'], ['CS3211', 'CS5233', 'CS2281', 'CS3281', 'CS6211', 'CS4232', 'CS2100', 'CS5236', 'CS4223', 'CS5224'], ['CS6243', 'CS3240', 'CS1101S', 'CS4240', 'CS2010', 'CS1020', 'CS2020'], ['CS1101S', 'CS1010', 'CS5344', 'CS1020', 'CS4248', 'CS2020', 'CS1020E'], ['CS3282', 'CS6211', 'CS3210', 'CS5250', 'CS4223', 'CS5224'], ['CS5219', 'CS1101S', 'CS5214', 'CS2040C', 'CS1010', 'CS5246', 'CS5215', 'CS4242', 'CS5241'], ['CS6209', 'CS5330', 'CS3281', 'CS4257', 'CS4231', 'CS6234', 'CS3233', 'CS5236', 'CS5439'], ['CS5343', 'CS3226', 'CS6208', 'CS5242', 'CS6220', 'CS5246'], ['CS4220', 'CS2102', 'CS6220', 'CS5236', 'BT5110', 'CS5344', 'CS5226'], ['CS4235', 'CS4248', 'CS2309', 'CS4245', 'CS3284', 'CS2030', 'CS3283', 'CS6241', 'CS5342', 'CS6212', 'CS5244', 'CS5241', 'CS4247', 'CS6243', 'CS3249', 'CS3245'], ['CS6220', 'CS4223', 'CS5344', 'CS6211', 'CS5250', 'CS3235', 'CS5224', 'CS4218', 'CS5424', 'CS4225', 'CS4211', 'CS3223', 'CS5476', 'CS5226', 'CS5322', 'CS6203', 'CS5231'], ['CS3226', 'CS2102', 'CS2010', 'CS3216', 'CS1101S', 'CS4221', 'CS5234', 'CS4218', 'CS1010J', 'CS2020'], ['CS4220', 'CS6213', 'CS2102', 'CS3223', 'CS5322', 'CS5344', 'CS6203', 'CS5231'], ['CS3237', 'CS5223', 'CS6205', 'CS3282', 'CS6211', 'CS4231', 'CS2105', 'CS5321', 'CS6204'], ['CS5219', 'CS2103', 'CS1281', 'CS6230', 'CS4271', 'CS1010', 'CS3271', 'CS4218'], ['CS4347', 'CS3282', 'CS4234', 'CS5342', 'CS5236', 'CS5244', 'CS3245', 'CS5246', 'CS3271', 'CS4248', 'CS5241'], ['CS5345', 'CS3283', 'CS3284', 'CS2108', 'CS6213', 'CS6211', 'CS5342', 'CS2100', 'CS4242'], ['CS3240', 'CS2281', 'CS2106', 'CS2100', 'CS4222', 'CS5250'], ['CS4278', 'CS4244', 'CS5478', 'CS6244', 'CS5340', 'CS6208', 'CS4220', 'CS5242', 'CS5344', 'CS6230', 'CS5215', 'CS6207', 'CS4246'], ['CS5230', 'CS6205', 'CS3281', 'CS4234', 'CS4257', 'CS2100', 'CS2105', 'CS6234'], ['CS5271', 'CS2103', 'CS3203', 'CS3226', 'CS3282', 'CS3284', 'CS4271', 'CS4239', 'CS3271'], ['CS5340', 'CS5242', 'CS4248', 'CS4231', 'CS4240', 'CS5344', 'CS3218', 'CS6207', 'CS4246'], ['CS5228', 'CS5249', 'CS4242', 'CS5478', 'CS2108', 'CS4235', 'CS6212', 'CS4241', 'CS3245', 'CS5246', 'CS6207', 'CS4248', 'CS6222'], ['CS3211', 'CS4234', 'CS4221', 'CS6215', 'CS5215', 'CS5218'], ['CS5478', 'CS5340', 'CS3282', 'CS4236', 'CS5242', 'CS4231', 'CS4248', 'CS6222'], ['CS5246', 'CS2108', 'CS4347', 'CS5342', 'CS4241', 'CS3245', 'CS4278', 'CS5241'], ['CS6211', 'CS4257', 'CS4234', 'CS5236', 'CS5244', 'CS3235', 'CS6222'], ['CS1010E', 'CS1280', 'CS6211', 'CS4257', 'CS2040C', 'CS5332', 'CS6207', 'CS2020'], ['CS2102', 'CS6220', 'CS3223', 'CS6207'], ['CS6215', 'CS5218', 'CS1010J', 'CS2020'], ['CS3233', 'CS5330', 'CS4232', 'CS6208', 'CS5242', 'CS4220', 'CS6220', 'CS5234', 'CS5344', 'CS5215', 'CS4248'], ['CS1280', 'CS4241', 'CS3284', 'CS2108', 'CS4347', 'CS5342', 'CS5244', 'CS3245', 'CS5246', 'CS4242', 'CS4248'], ['CS2102', 'CS3223', 'CS4221', 'CS6220', 'BT5110', 'CS6203', 'CS4218', 'CS2103T'], ['CS3235', 'CS4257', 'CS4271', 'CS4239', 'CS5246', 'CS6203', 'CS4248', 'CS5241'], ['CS6211', 'CS5322', 'CS3235', 'CS5231', 'CS2020', 'CS4249'], ['CS4220', 'CS6211', 'CS3223', 'CS2100', 'CS6220', 'CS5322', 'CS6203'], ['CS2040C', 'CS5236', 'CS1020'], ['CS2103', 'CS3284', 'CS4880', 'CS3282', 'CS3217', 'CS3226', 'CS4271', 'CS2106'], ['CS3203', 'CS3282', 'CS4271', 'CS3271'], ['CS3230', 'CS4232', 'CS4257', 'CS4231', 'CS5234'], ['CS3244', 'CS5239', 'CS3281', 'CS5340', 'CS3282', 'CS4231', 'CS5332', 'CS3235', 'CS4248', 'CS4345'], ['CS3236', 'CS5249', 'CS3230', 'CS3225', 'CS4234', 'CS5342', 'CS4231', 'CS5246', 'CS1010J', 'CS5241', 'CS1020E'], ['CS6209', 'CS3225', 'CS5330', 'CS4238', 'CS6211', 'CS4236', 'CS4271', 'CS4231', 'CS5332', 'CS5234', 'CS4234', 'CS6230', 'CS3235'], ['CS2103', 'BT5110', 'CS5344', 'CS5215', 'CS4246'], ['CS5332', 'CS3235'], ['CS3236', 'CS5271', 'CS3211', 'CS5330', 'CS4232', 'CS4231', 'CS3233', 'CS6230', 'CS5215', 'CS5218'], ['CS4214', 'CS3236', 'CS3234', 'CS5236', 'CS6215', 'CS5439', 'CS2104', 'CS2220', 'CS3230', 'CS5214', 'CS4231', 'CS4215', 'CS4237', 'CS4236', 'CS5234', 'CS3212'], ['CS6270', 'CS2030', 'CS1280', 'CS4237', 'CS6205', 'CS1101S', 'CS2010', 'CS2040C', 'CS4345', 'CS1020'], ['CS3230', 'CS6213', 'CS4257', 'CS4221', 'CS4231', 'CS5322', 'CS6220', 'CS6203'], ['CS6205', 'CS3230', 'CS5330', 'CS3225', 'CS3282', 'CS4347', 'CS4257', 'CS4231', 'CS6234', 'CS6212', 'CS5246', 'CS5236', 'CS4214'], ['CS5331', 'CS6220', 'CS4221', 'BT5110'], ['CS2100', 'CS4214', 'CS3236', 'CS3234', 'CS6215', 'CS5424', 'CS2030', 'CS1281', 'CS5214', 'CS4231', 'CS4212', 'CS6202', 'CS2010', 'CS3212'], ['CS6209', 'CS5340', 'CS4220', 'CS6220', 'CS4278'], ['CS2103', 'CS4238', 'CS6208', 'CS3216', 'CS5242', 'CS4236', 'CS4271', 'BT5110', 'CS4278', 'CS3271', 'CS4218'], ['CS6243', 'CS3242', 'CS2281', 'CS6213', 'CS1281'], ['CS3234', 'CS3226', 'CS6213', 'CS3223', 'CS6231', 'CS6220', 'CS4221', 'CS5322', 'CS3235', 'CS4257', 'CS5226', 'CS5231', 'CS5344'], ['CS4351', 'CS3201', 'CS5219', 'CS3226', 'CS3218', 'CS4218', 'CS5224', 'CS4243', 'CS5343', 'CS6241', 'CS5240', 'CS6243', 'CS4240', 'CS5218', 'CS4249'], ['CS5271', 'CS5214', 'CS6215', 'CS4212', 'CS5218', 'CS4246', 'CS4214'], ['CS3236', 'CS5330', 'CS4232', 'CS4257', 'CS4271'], ['CS4234', 'CS4257', 'CS4236', 'CS5236', 'CS6234', 'CS5234', 'CS4278'], ['CS2103T', 'CS3217', 'CS4235', 'CS4347', 'CS5342', 'CS6212', 'CS3271', 'CS4218', 'CS3882'], ['CS5249', 'CS3225', 'CS5330', 'CS4232', 'CS4234', 'CS4257', 'CS4231', 'CS5236', 'CS5234', 'CS6207'], ['CS1280', 'CS2100', 'CS6207', 'CS5425', 'CS5228', 'CS4244', 'CS6211', 'CS2105', 'CS6204', 'CS1231', 'CS5478', 'CS1281', 'CS1020', 'CS6222', 'CS1010FC/X', 'CS4237', 'CS5248'], ['CS3245', 'CS5232', 'CS2113', 'CS3283', 'CS3282', 'CS2103T', 'CS3219', 'CS6243', 'CS2103', 'CS5248', 'CS3249', 'CS3225', 'CS4234', 'CS3233', 'CS3212', 'CS4249'], ['CS6280', 'CS3284', 'CS4232', 'CS1101S', 'CS1020', 'CS3882'], ['CS6209', 'CS3282', 'CS6213', 'CS6231', 'CS4271', 'CS5226', 'CS4257', 'BT5110', 'CS3235', 'CS6230'], ['CS3284', 'CS4220', 'CS4347', 'CS5342', 'CS3245', 'CS5246', 'CS4242', 'CS4248', 'CS5241', 'CS4249'], ['CS3282', 'CS6211', 'CS4236', 'CS4222', 'CS5439', 'CS6204'], ['CS4232', 'CS6207', 'CS4245', 'CS3236', 'CS3284', 'CS5345', 'CS3283', 'CS2108', 'CS5342', 'CS5241', 'CS3225', 'CS3245', 'CS5246', 'CS4242'], ['CS6213', 'CS4220', 'CS6231', 'CS4271', 'CS4231', 'CS4239', 'CS6230', 'CS5224', 'CS4212'], ['CS2220', 'CS3236', 'CS5230', 'CS3230', 'CS5330', 'CS3225', 'CS4231', 'CS6234', 'CS3233', 'CS5439', 'CS4214'], ['CS2309', 'CS5425', 'CS5228', 'CS2102', 'CS2040C', 'CS4225', 'CS3243', 'CS5424', 'CS5345', 'CS3244', 'CS3223', 'CS6280', 'CS5226', 'BT5110'], ['CS6234', 'CS3230', 'CS3225', 'CS5233', 'CS3281', 'CS3282', 'CS4232', 'CS5330', 'CS5248', 'CS5236', 'CS6212', 'CS3235'], ['CS4241', 'CS5322', 'CS5246', 'CS3218', 'CS4242', 'CS4248'], ['CS1020', 'CS4257', 'CS4231', 'CS6234', 'CS5234', 'CS3212', 'CS6215', 'CS5215', 'CS4212', 'CS1010J', 'CS4214', 'CS1020E'], ['CS5271', 'CS2104', 'CS1231', 'CS1281', 'CS5214', 'CS4231', 'CS1020', 'CS4212', 'CS1010FC/X', 'CS6202', 'CS3211', 'CS2010', 'CS4236', 'CS5218', 'CS1010J'], ['CS4247', 'CS2220', 'CS5239', 'CS3242', 'CS2102', 'CS6213', 'CS2100', 'CS3210', 'CS4345', 'CS4221', 'CS5246', 'CS6207', 'CS4249'], ['CS5271', 'CS3217', 'CS4271', 'CS6230', 'CS4218', 'CS4211', 'CS2220', 'CS3283', 'CS6241', 'CS4239', 'CS2103T', 'CS3219', 'CS6280', 'CS5476', 'CS6213', 'CS4240', 'CS3233'], ['CS1281', 'CS1101S', 'CS1010', 'CS5439', 'CS5231', 'CS1010J', 'CS2020'], ['CS4238', 'CS1281', 'CS2010', 'CS4236', 'CS1101S', 'CS2040C', 'CS5332', 'CS2020', 'CS2113T', 'CS5231', 'CS1010J', 'CS3882', 'CS1020E'], ['CS4236', 'CS4257', 'CS4239', 'CS5439', 'CS5231'], ['CS3283', 'CS2107', 'CS4242', 'CS4241', 'CS1101S', 'CS4231', 'CS5332', 'CS6207', 'CS1010J', 'CS5241'], ['CS4350', 'CS3211', 'CS5271', 'CS3242', 'CS5246', 'CS5215', 'CS4212', 'CS4214'], ['CS5236', 'CS4231', 'CS3233'], ['CS3281', 'CS4241', 'CS4223', 'CS4245', 'CS5222', 'CS6211', 'CS4271', 'CS6230', 'CS3283', 'CS3282', 'CS5244', 'CS5241', 'CS3211', 'CS4242', 'CS4249'], ['CS4257', 'CS1010S', 'CS5228', 'CS6209', 'CS4271', 'CS5439', 'CS5321', 'CS3220', 'CS4238', 'CS3282', 'CS4239', 'CS2020', 'CS1010FC/X', 'CS5476', 'CS4236', 'CS3223'], ['CS6202', 'CS6270', 'CS5343', 'CS5223', 'CS5271', 'CS5219', 'CS3234', 'CS5233', 'CS3282', 'CS5214', 'CS4214', 'CS4212', 'CS5321'], ['CS4220', 'CS4235', 'CS4257', 'CS4245', 'CS5425', 'CS3234', 'CS3284', 'CS6211', 'CS5439', 'CS5345', 'CS3283', 'CS4238', 'CS6212', 'CS4239', 'CS2020', 'CS5241', 'CS4236', 'CS5322'], ['CS2220', 'CS5330', 'CS1101S', 'CS4231', 'CS5215'], ['CS4351', 'CS3236', 'CS5271', 'CS5330', 'CS3233', 'CS5236', 'CS4231', 'CS5230', 'CS3225', 'CS3240', 'CS3249', 'CS4234', 'CS5322', 'CS5246'], ['CS5215', 'CS5340', 'CS6208', 'CS4220', 'CS5242', 'CS6220', 'BT5110', 'CS4278', 'CS4218', 'CS4246', 'CS6207', 'CS5344', 'CS6222'], ['CS4220', 'CS3271', 'CS6209', 'CS3217', 'CS3203', 'CS3235', 'CS5439', 'CS4218', 'CS3882', 'CS4211', 'CS5343', 'CS4238', 'CS4239', 'CS6222', 'CS3219', 'CS4240', 'CS5226', 'CS5322', 'CS5246'], ['CS5346', 'CS6280', 'CS3284', 'CS3223', 'CS4271', 'CS4221', 'CS5226', 'CS5322', 'CS5344', 'CS5214', 'CS2103T'], ['CS5242', 'CS6220', 'CS6207', 'CS5425', 'CS5228', 'CS6215', 'CS4246', 'CS3218', 'CS3243', 'CS5345', 'CS5478', 'CS6222', 'CS6243', 'CS3240', 'BT5110', 'CS4278'], ['CS3242', 'CS4351', 'CS2100', 'CS2106', 'CS4226', 'CS5224', 'CS3218', 'CS3220', 'CS5343', 'CS5239', 'CS2020', 'CS4237', 'CS3249', 'CS5246'], ['CS3205', 'CS3283', 'CS5271', 'CS3230', 'CS3234', 'CS3217', 'CS4880', 'CS4257', 'CS4271', 'CS5234', 'CS2113T', 'CS2103T'], ['CS2103T', 'CS4235', 'CS3282', 'CS3216', 'CS2100', 'CS4223', 'CS2113T', 'CS6215', 'CS5215', 'CS5218', 'CS4214'], ['CS5340', 'CS5242', 'CS2040C', 'CS4278', 'CS5215', 'CS6207', 'CS4248', 'CS6222'], ['CS1010S', 'CS1280', 'CS2108', 'CS4235', 'CS4220', 'CS4221', 'CS5244', 'CS5344', 'CS6203', 'CS1010J', 'CS2020'], ['CS6280', 'CS3234', 'CS5271', 'CS2103', 'CS4880', 'CS3217', 'CS3282', 'CS4271', 'CS4239', 'CS2113T', 'CS3271', 'CS6207'], ['CS5271', 'CS3234', 'CS6208', 'CS4271', 'CS3235', 'CS6215', 'CS5439', 'CS6230', 'CS4246', 'CS2104', 'CS4212', 'CS6222', 'CS6202', 'CS5218', 'CS3211', 'CS3233', 'CS5215', 'CS5231'], ['CS4237', 'CS3234', 'CS5219', 'CS6205', 'CS5271', 'CS5233', 'CS4351', 'CS4240', 'CS4222', 'CS3212', 'CS6215', 'CS5218', 'CS6204'], ['CS4224', 'CS5424', 'CS5228', 'CS5249', 'CS4235', 'CS6213', 'CS2102', 'CS5226', 'CS4221', 'CS3223', 'CS5344', 'CS6203'], ['CS5233', 'CS3282', 'CS6220', 'CS4231', 'CS5250', 'CS5344', 'CS4246', 'CS6222'], ['CS6280', 'CS3240', 'CS3249', 'CS2102', 'CS4351', 'CS3223', 'CS4249'], ['CS3234', 'CS5219', 'CS5214', 'BT5110', 'CS3212', 'CS6215', 'CS5218'], ['CS1010', 'CS5332', 'CS2040C', 'CS3235', 'CS5439', 'CS6230', 'CS2030', 'CS4238', 'CS1281', 'CS1020', 'CS4215', 'CS5476', 'CS2010', 'CS5231'], ['CS6244', 'CS2102', 'CS5242', 'CS4246', 'CS6207'], ['CS5478', 'CS6244', 'CS5215', 'CS5340', 'CS4220', 'CS4240', 'CS5242', 'CS6220', 'CS3218', 'CS6207', 'CS4248'], ['CS5233', 'CS2281', 'CS4235', 'CS2106', 'CS4223', 'CS6211', 'CS2105', 'CS6204', 'CS4243', 'CS3282', 'CS4231', 'CS4215', 'CS4237', 'CS5248', 'CS6213'], ['CS5219', 'CS6215', 'CS5439', 'CS3218', 'CS4243', 'CS5343', 'CS5478', 'CS3212', 'CS5214', 'CS6202', 'CS3211', 'CS6243', 'CS3249', 'CS5246'], ['CS6234', 'CS5344', 'CS6203'], ['CS2102', 'CS4238', 'CS6231', 'CS6230', 'CS4257', 'CS5332', 'CS5322', 'CS3235', 'CS5439', 'CS6203', 'CS5226', 'CS4271'], ['CS6211', 'CS2100', 'CS2106', 'CS4345', 'CS5250', 'CS3210', 'CS4223'], ['CS5228', 'CS3234', 'CS6243', 'CS6244', 'CS3249', 'CS6208', 'CS5242', 'CS6220', 'CS5246', 'CS4246', 'CS6222'], ['CS4231', 'CS5226', 'CS2106', 'CS6212', 'CS3210'], ['CS5249', 'CS5233', 'CS3281', 'CS4235', 'CS1101S', 'CS2100', 'CS4222', 'CS1010S', 'CS3284', 'CS2105', 'CS5321', 'CS3220', 'CS5345', 'CS1231', 'CS3282', 'CS6213', 'CS3245'], ['CS4257', 'CS2113T', 'CS3271', 'CS3202', 'CS2105', 'CS3882', 'CS3220', 'CS4211', 'CS2113', 'CS3283', 'CS4880', 'CS5229', 'CS4237', 'CS6213', 'CS3233'], ['CS5248', 'CS4880', 'CS3217', 'CS5233', 'CS4257', 'CS4221', 'CS5332', 'CS4231', 'CS5344', 'CS6203'], ['CS5271', 'CS6209', 'CS6211', 'BT5110', 'CS4246', 'CS4248'], ['CS5271', 'CS3226', 'CS3217', 'CS3203', 'CS4218', 'CS3882', 'CS4211', 'CS5272', 'CS3205', 'CS4238', 'CS3216', 'CS4239', 'CS2103T', 'CS2103'], ['CS3271', 'CS3284', 'CS3226', 'CS4271', 'CS3235', 'CS3218', 'CS4218', 'CS2104', 'CS5232', 'CS3283', 'CS4880', 'CS4238', 'CS3219', 'CS2103', 'CS5231'], ['CS4248', 'CS4214', 'CS5425', 'CS6215', 'CS3218', 'CS4225', 'CS4243', 'CS5345', 'CS3244', 'CS5478', 'CS1010FC/X', 'CS5246', 'CS6244', 'CS3240', 'CS6213', 'CS3223', 'CS4278', 'CS5215', 'CS5218'], ['CS4235', 'CS4351', 'CS5332', 'CS5231', 'CS6209', 'CS4271', 'CS3235', 'CS6230', 'CS4243', 'CS4239', 'CS5240', 'CS5476', 'CS5322', 'CS5246', 'CS5218', 'CS4249'], ['CS5215', 'CS4212'], ['CS4271', 'CS2100', 'CS4239', 'CS5439'], ['CS1281', 'CS2010', 'CS6231', 'CS6211', 'CS6220', 'CS4236', 'CS4271', 'CS3235', 'CS1010J', 'CS2020'], ['CS2108', 'CS6211', 'CS4257', 'CS5242', 'CS4220', 'CS3245', 'CS4278', 'CS4246', 'CS5218'], ['CS3103', 'CS6205', 'CS5248', 'CS5233', 'CS3281', 'CS3282', 'CS6213', 'CS2100', 'CS4231', 'CS2105'], ['CS5234', 'CS3236', 'CS5330', 'CS3226', 'CS3233', 'CS4232', 'CS4257', 'CS5236', 'CS6234', 'BT5110', 'CS5344', 'CS4231'], ['CS3234', 'CS5219', 'CS6209', 'CS3203', 'CS3284', 'CS6215', 'CS4211', 'CS5232', 'CS4239', 'CS4212', 'CS4215', 'CS6202', 'CS5230', 'CS3211', 'CS3212', 'CS5218'], ['CS5222', 'CS5248', 'CS5233', 'CS6213', 'CS6211', 'CS2100', 'CS4231', 'CS5214', 'CS5224', 'CS5321'], ['CS6202', 'CS4224', 'CS5226', 'CS5322', 'CS5246', 'CS6215', 'CS5215', 'CS4214'], ['CS4236', 'CS6231', 'CS5332', 'BT5110', 'CS3212', 'CS5215', 'CS5218'], ['CS3234', 'CS3284', 'CS3203', 'CS4246', 'CS3882', 'CS4225', 'CS5345', 'CS5232', 'CS2113', 'CS5272', 'CS4211', 'CS3205', 'CS3282', 'CS4239', 'CS2103'], ['CS3240', 'CS3249', 'CS4235', 'CS2102', 'CS6213', 'CS2100', 'CS4221', 'CS4345', 'CS4223', 'CS3282', 'CS3223'], ['CS2030', 'CS1231', 'CS3242', 'CS1101S', 'CS4231', 'CS1020', 'CS1010J', 'CS1020E'], ['CS3201', 'CS5271', 'CS3234', 'CS4271', 'CS2040C', 'CS3882', 'CS5345', 'CS5232', 'CS2113', 'CS3205', 'CS2108', 'CS2103T', 'CS1010FC/X', 'CS6280'], ['CS5215', 'CS5340', 'BT5110', 'CS4278', 'CS4246', 'CS6207', 'CS5344'], ['CS3281', 'CS5233', 'CS2100', 'CS5219', 'CS5222', 'CS6211', 'CS6215', 'CS6204', 'CS2104', 'CS3282', 'CS4231', 'CS6202', 'CS4237', 'CS6243', 'CS3249', 'CS6213'], ['CS5222', 'CS3282', 'CS6213', 'CS2100', 'CS5250', 'CS4345', 'CS4223', 'CS3210', 'CS5224'], ['CS4244', 'CS3230', 'CS4232', 'CS4231', 'CS4221', 'BT5110', 'CS6220', 'CS4246', 'CS6222'], ['CS2100', 'CS1020E', 'CS2309', 'CS1010S', 'CS1010E', 'CS2040C', 'CS1231', 'CS1020', 'CS2020', 'CS1010FC/X', 'CS5248', 'CS2010', 'CS5226', 'BT5110'], ['CS3212', 'CS3225', 'CS3226', 'CS5330', 'CS4232', 'CS3235', 'CS6211', 'CS6234', 'CS3210', 'CS3271', 'CS5224', 'CS4212', 'CS4214'], ['CS3245', 'CS5228', 'CS4242', 'CS3284', 'CS4220', 'CS2108', 'CS5340', 'CS6208', 'CS5342', 'CS6220', 'CS4241', 'BT5110', 'CS4248'], ['CS3247', 'CS4247', 'CS5343', 'CS2107', 'CS6243', 'CS6241', 'CS3242', 'CS4240', 'CS4239', 'CS3218', 'CS4249'], ['CS6280', 'CS3211', 'CS5219', 'CS3281', 'CS3203', 'CS3212', 'CS5215', 'CS4212', 'CS4214'], ['CS5242', 'BT5110', 'CS5344', 'CS5215', 'CS4212', 'CS4246'], ['CS5214', 'CS3212', 'CS6215', 'CS5215', 'CS4212', 'CS4214'], ['CS4222', 'CS2113T', 'CS3202', 'CS4226', 'CS3201', 'CS3284', 'CS3203', 'CS6204', 'CS3220', 'CS2113', 'CS3205', 'CS3282', 'CS3216', 'CS4231', 'CS3219', 'CS5230', 'CS5248'], ['CS1020E', 'CS1010S', 'CS5425', 'CS5228', 'CS3236', 'CS4244', 'CS2040C', 'CS3243', 'CS4239', 'CS1020', 'CS2020', 'CS6222', 'CS6244', 'BT5110', 'CS4278', 'CS1010J'], ['CS3242', 'CS4235', 'CS4351', 'CS4240'], ['CS5339', 'CS2030', 'CS1231', 'CS1010E', 'CS6208', 'CS1101S', 'CS5242', 'CS1010', 'BT5110', 'CS5215'], ['CS4239', 'CS3205', 'CS6205', 'CS5248', 'CS5233', 'CS5476', 'CS3282', 'CS6211', 'CS4232', 'CS4271', 'CS2100', 'CS2105', 'CS5439'], ['CS3282', 'CS2100', 'CS5233', 'CS4249'], ['CS1010S', 'CS1010E', 'CS3284', 'CS3203', 'CS6211', 'CS5224', 'CS3882', 'CS5272', 'CS1231', 'CS4880', 'CS1281', 'CS3282', 'CS1010FC/X', 'CS6280'], ['CS5214', 'CS3212', 'CS5215', 'CS5218'], ['CS4222', 'CS6207', 'CS4214', 'CS5271', 'CS3234', 'CS6211', 'CS2105', 'CS6215', 'CS5321', 'CS5214', 'CS5342', 'CS6202', 'CS5218', 'CS3211', 'CS5248', 'CS4242'], ['CS2100', 'CS6220', 'CS4223', 'CS5344', 'CS6207', 'CS5228', 'CS5330', 'CS5224', 'CS4246', 'CS3220', 'CS5239', 'CS4231', 'CS6222', 'CS6244', 'CS6213'], ['CS1010', 'CS5343', 'CS6241', 'CS3242', 'CS3249', 'CS4235', 'CS2010', 'CS4351', 'CS4345', 'CS5246', 'CS1020', 'CS4249'], ['CS1231', 'CS5218', 'CS6243', 'CS3211', 'CS5219', 'CS5271', 'CS5236', 'CS6215', 'CS4212', 'CS4214'], ['CS3282', 'CS6211', 'CS6213', 'CS5250', 'CS4218', 'CS2103T'], ['CS5340', 'CS5242', 'CS4278', 'CS5271', 'CS6208', 'CS6211', 'CS6230', 'CS4243', 'CS5343', 'CS5478', 'CS5240', 'CS4247', 'CS3240', 'CS6213', 'CS5246'], ['CS4350', 'CS3234', 'CS5271', 'CS3211', 'CS5215', 'CS3249', 'CS4235', 'CS3212', 'CS3218', 'CS5218'], ['CS4278', 'CS5478', 'CS5340', 'CS6208', 'CS4220', 'CS5242', 'CS5344', 'CS5215', 'CS5218', 'CS4248'], ['CS3236', 'CS4244', 'CS3230', 'CS5330', 'CS2108', 'CS5340', 'CS4234', 'CS6220', 'CS5236', 'CS6222'], ['CS5271', 'CS3281', 'CS2281', 'CS6211', 'CS4231', 'CS5236', 'CS5250', 'CS6215', 'CS4345'], ['CS5233', 'CS6211', 'CS2100', 'CS4222'], ['CS3211', 'CS3226', 'CS2281', 'CS3281', 'CS5476', 'CS3203', 'CS4234', 'CS2106', 'CS3233'], ['CS6213', 'CS2106', 'CS4231', 'CS4345', 'CS4223', 'CS3210', 'CS2100', 'CS5224'], ['CS1101S', 'CS2040C'], ['CS3225', 'CS4232', 'CS4234', 'CS4257', 'CS4231', 'CS3233'], ['CS3219', 'CS1010', 'CS3205', 'CS5271', 'CS3217', 'CS4880', 'CS3282', 'CS4239'], ['CS4350', 'CS1280', 'CS3236', 'CS5330', 'CS3240', 'CS4235', 'CS1101S', 'CS4240', 'CS4257', 'CS2010', 'CS5234', 'CS1010J', 'CS2020'], ['CS4237', 'CS5239', 'CS3281', 'CS2281', 'CS3282', 'CS6213', 'CS6211', 'CS5233', 'CS4231', 'CS4345', 'CS5250', 'CS4223'], ['CS4237', 'BT5110', 'CS3281', 'CS2281', 'CS6213', 'CS6211', 'CS4271', 'CS4221', 'CS2100', 'CS4223', 'CS5344', 'CS5224'], ['CS2281', 'CS3282', 'CS4231', 'CS6234', 'CS4223', 'CS3210', 'CS5224'], ['CS3203', 'CS5236', 'CS6204', 'CS2113', 'CS1231', 'CS2220', 'CS3205', 'CS3230', 'CS4231', 'CS4239', 'CS4237', 'CS3225', 'CS4234', 'CS3233', 'CS5215', 'CS1010J'], ['CS5330', 'CS4232', 'CS4234', 'CS5236', 'CS6234', 'CS3233', 'CS4231'], ['CS5230', 'CS3230', 'CS4232', 'CS4234', 'CS4257', 'CS5236', 'CS4231', 'CS3233', 'CS6204'], ['CS5234', 'CS3236', 'CS5271', 'CS4232', 'CS4234', 'CS4257', 'CS4231', 'CS5236', 'CS3233', 'CS3212', 'CS6215', 'CS5215'], ['CS5222', 'CS2281', 'CS4347', 'CS6213', 'CS6211', 'CS4241', 'CS4223', 'CS6203', 'CS6207'], ['CS5230', 'CS3236', 'CS3230', 'CS6203', 'CS4220', 'CS2102', 'CS4234', 'CS4231', 'CS5236', 'BT5110', 'CS5246', 'CS5215', 'CS4248'], ['CS1280', 'CS6243', 'CS3242', 'CS1101S', 'CS6215'], ['CS3234', 'CS2102', 'CS6215', 'CS2104', 'CS5424', 'CS5214', 'CS3223', 'CS4215', 'CS6280', 'CS3211', 'CS6213', 'CS5226', 'BT5110', 'CS5215'], ['CS3211', 'CS5219', 'CS3212', 'CS5331', 'CS4220', 'CS3249', 'CS4221', 'CS6220', 'CS5246', 'CS5218'], ['CS4241', 'CS2113T', 'CS6207', 'CS4248', 'CS2309', 'CS3284', 'CS2040C', 'CS4211', 'CS2030', 'CS2220', 'CS4880', 'CS3282', 'CS6212', 'CS3223', 'CS1010FC/X', 'CS3245', 'CS6203', 'CS1010J'], ['CS6244', 'CS3217', 'CS4880', 'CS3249', 'CS5215', 'CS4249'], ['CS3281', 'CS6211', 'CS6220', 'CS4214', 'CS4223', 'CS4248', 'CS5321'], ['CS5223', 'CS3283', 'CS4237', 'CS2108', 'CS2102', 'CS2100', 'CS6212', 'CS4241', 'CS5342', 'CS5246', 'CS4242', 'CS4248', 'CS5241'], ['CS5239', 'CS5233', 'CS6213', 'CS6211', 'CS5250', 'CS4231', 'CS2106', 'CS3210', 'CS5215', 'CS4223'], ['CS3242', 'CS4235', 'CS6231', 'CS5344', 'CS4271', 'CS6230', 'CS3218', 'CS4243', 'CS5343', 'CS4247', 'CS6243', 'CS3249', 'CS4240', 'CS5246', 'CS5231'], ['CS3234', 'CS5330', 'CS3211', 'CS4232', 'CS4231', 'CS6234', 'CS5234', 'CS3212', 'CS5236', 'CS3218'], ['BT5110', 'CS3281', 'CS3242', 'CS5425', 'CS6209', 'CS6211', 'CS2105', 'CS5224', 'CS4238', 'CS6280', 'CS4237', 'CS6243', 'CS5248', 'CS3240', 'CS3223'], ['CS1231', 'CS6234', 'CS5249', 'CS5230', 'CS1101S', 'CS4249', 'CS5342', 'CS1010', 'CS5218', 'CS1010J', 'CS2020', 'CS1020E'], ['CS6244', 'CS5340', 'CS4220', 'CS5242', 'CS6220', 'CS4345', 'BT5110', 'CS5344', 'CS4246', 'CS4248', 'CS6222'], ['CS6207', 'CS5231', 'CS4245', 'CS3236', 'CS6209', 'CS4271', 'CS6230', 'CS5439', 'CS5345', 'CS2220', 'CS3230', 'CS4238', 'CS5342', 'CS1020', 'CS5240', 'CS5230', 'CS6243', 'CS3225', 'CS5322', 'CS4242'], ['CS3234', 'CS3281', 'CS3282', 'CS6213', 'CS4235', 'CS3210', 'CS4246', 'CS6207', 'CS4248', 'CS6222'], ['CS4238', 'CS6211', 'CS4236', 'CS4239', 'BT5110', 'CS5241'], ['CS4257', 'CS4345', 'CS5322', 'CS3210'], ['CS5229', 'CS6270', 'CS5223', 'CS6205', 'CS3282', 'CS6211', 'CS2100', 'CS4231', 'CS2105', 'CS5321', 'CS6204'], ['CS3284', 'CS3281', 'CS3249', 'CS3217', 'CS4351', 'CS4257', 'CS5236', 'CS4231', 'CS2106', 'CS4223', 'CS5224', 'CS4345'], ['CS1280', 'CS3230', 'CS2108', 'CS4347', 'CS6203', 'CS4248', 'CS5241'], ['CS6270', 'CS5422', 'CS5229', 'CS5233', 'CS3281', 'CS2100', 'CS4231', 'CS4222'], ['CS6240', 'CS6270', 'CS5223', 'CS6205', 'CS3284', 'CS5233', 'CS5248', 'CS3282', 'CS6212', 'CS6207', 'CS5321', 'CS6204'], ['CS4271', 'CS5342', 'CS6212', 'CS3245', 'CS5246', 'CS6207'], ['CS6280', 'CS5228', 'CS3211', 'CS4244', 'CS5271', 'CS3234', 'CS4220', 'CS5242', 'CS5214', 'CS5246', 'CS6215', 'CS4214'], ['CS2100', 'CS1020E', 'CS4244', 'CS2040C', 'CS5224', 'CS5424', 'CS3283', 'CS1281', 'CS4231', 'CS1020', 'CS6244', 'CS5476', 'CS3245', 'CS5231', 'CS1010J'], ['CS4248', 'CS3236', 'CS4244', 'CS5222', 'CS5330', 'CS4243', 'CS3244', 'CS3230', 'CS6222', 'CS3211', 'CS6244', 'CS3225', 'CS3240', 'CS4234', 'BT5110'], ['CS5272', 'CS3219', 'CS3882', 'CS6280', 'CS3226', 'CS3281', 'CS4880', 'CS4271', 'CS4239', 'CS3271', 'CS2103T', 'CS1020E'], ['CS6280', 'CS5228', 'CS5331', 'CS4880', 'CS3281', 'CS6213', 'CS2010', 'CS3223', 'CS6215', 'CS4218', 'CS1020E'], ['CS5223', 'CS4237', 'CS2103', 'CS5248', 'CS6211', 'CS2100', 'CS4231', 'CS5214', 'CS5215', 'CS6204'], ['CS4351', 'CS5242', 'CS6220', 'CS6207', 'CS3201', 'CS4244', 'CS3203', 'CS4243', 'CS3283', 'CS6241', 'CS4247', 'CS6243', 'CS6244', 'CS3240', 'CS4240', 'CS5246', 'CS5215', 'CS4249'], ['CS4239', 'CS5322', 'CS5439'], ['CS3283', 'CS2103T', 'CS3284', 'CS3203', 'CS3217', 'CS3282', 'CS3281', 'CS3216', 'CS6220', 'CS4239', 'CS4218', 'CS3882', 'CS6222'], ['CS3230', 'CS6244', 'CS4232', 'CS4234', 'CS4231', 'CS5234', 'CS3235', 'CS4248'], ['CS2100', 'CS4231', 'CS4223', 'CS3210'], ['CS5228', 'CS5230', 'CS3236', 'CS6234', 'CS6213', 'CS4234', 'CS2010', 'CS5236', 'CS4221', 'CS3233', 'CS1020', 'CS2020', 'CS1020E'], ['CS6241', 'CS5222', 'CS3211', 'CS3242', 'CS4235', 'CS6213', 'CS4240', 'CS4257', 'CS4345', 'CS5246', 'CS3218'], ['CS1020E', 'CS1010S', 'CS3201', 'CS1010E', 'CS3203', 'CS3226', 'CS2040C', 'CS4218', 'CS3220', 'CS2113', 'CS2030', 'CS3205', 'CS3282', 'CS1020', 'CS2020', 'CS2103T', 'CS4237', 'CS2103', 'BT5110', 'CS1010J'], ['CS3202', 'CS3234', 'CS3217', 'CS3226', 'CS2102', 'CS4271', 'CS4218', 'CS3882', 'CS2113', 'CS3205', 'CS4238', 'CS4239', 'CS2103T', 'CS3219', 'CS6280', 'CS2103'], ['CS5344', 'CS4214', 'CS5271', 'CS3235', 'CS4243', 'CS3243', 'CS3212', 'CS4239', 'CS6202', 'CS3211', 'CS5476', 'CS3240', 'CS4240', 'CS4236', 'CS5322', 'CS5246'], ['CS6202', 'CS1231', 'CS3211', 'CS3212', 'CS5271', 'CS6208', 'CS5214', 'CS5344', 'CS6215', 'CS6207', 'CS1010J', 'CS4214', 'CS6222'], ['CS3236', 'CS3230', 'CS3225', 'CS4232', 'CS4234', 'CS4257', 'CS4231', 'CS4222', 'CS3233', 'CS5236'], ['CS5215', 'CS6208', 'CS5242', 'BT5110', 'CS4278', 'CS4246', 'CS6207'], ['CS6205', 'CS5248', 'CS3281', 'CS4257', 'CS2040C'], ['CS4237', 'CS5239', 'CS6244', 'CS5233', 'CS3249', 'CS5242', 'CS2100', 'CS4231', 'CS4345', 'CS5224'], ['CS6208', 'CS2010', 'CS2040C', 'CS1020E'], ['CS5271', 'CS3234', 'CS5246', 'CS3249', 'CS5344', 'CS3218'], ['CS3284', 'CS2108', 'CS4235', 'CS6213', 'CS5342', 'CS6212', 'CS4248', 'CS5241'], ['CS5214', 'CS4214', 'CS6230', 'CS5218', 'CS2020'], ['CS1101S', 'CS2010', 'CS1010', 'CS5344', 'CS1020E'], ['CS6213', 'CS4221', 'CS5322', 'CS5344'], ['CS5218', 'CS3234', 'CS5219', 'CS5340', 'CS3212', 'CS5215', 'CS4212', 'CS4214'], ['CS6209', 'CS6241', 'CS5331', 'CS6243', 'CS4220', 'CS2108', 'CS6213', 'CS6211', 'CS5226', 'CS5231'], ['CS3283', 'CS5271', 'CS3217', 'CS5214', 'CS4271', 'CS4239', 'CS3212', 'CS6215'], ['CS5223', 'CS2103', 'CS4220', 'CS5214', 'CS4221', 'CS2113T', 'CS3271', 'CS5218'], ['CS4235', 'CS4351', 'CS2113T', 'CS3271', 'CS5219', 'CS3218', 'CS2113', 'CS5343', 'CS6241', 'CS4212', 'CS4215', 'CS3219', 'CS3211', 'CS3249', 'CS2010', 'CS5246'], ['CS4237', 'CS6241', 'CS6243', 'CS3240', 'CS3242', 'CS4351', 'CS5342', 'CS4241', 'CS4249'], ['CS6220', 'CS4221', 'CS5322', 'CS6203'], ['CS4238', 'CS6231', 'CS4236', 'CS6230', 'CS5231'], ['CS5332', 'CS5439', 'CS4249'], ['CS5342', 'CS3245', 'CS5215'], ['CS6270', 'CS3244', 'CS6243', 'CS6244', 'CS4220', 'CS6213', 'CS3223', 'CS5226', 'BT5110', 'CS4248', 'CS5321', 'CS6204'], ['CS5222', 'CS6211', 'CS3882', 'CS5232', 'CS3220', 'CS5272', 'CS3283', 'CS4880', 'CS3282', 'CS2103T', 'CS3211', 'CS2103', 'CS3210', 'CS4249'], ['CS3236', 'CS5230', 'CS3211', 'CS3230', 'CS3249', 'CS4232', 'CS6211', 'CS4234', 'CS4257', 'CS4231', 'CS4345', 'CS5236', 'CS2106'], ['CS5228', 'CS2102', 'CS6213', 'CS5226', 'CS6220', 'CS4221', 'CS5344'], ['CS3211', 'CS2281', 'CS6211', 'CS4231', 'CS5246', 'CS1020', 'CS2020'], ['CS2030', 'CS1280', 'CS5330', 'CS2010', 'CS1101S', 'CS2040C', 'CS1010', 'CS5234', 'CS2020'], ['CS5330', 'CS3233', 'CS5340', 'CS4232', 'CS4234', 'CS4257', 'CS3225', 'CS5236', 'CS4231', 'CS5234', 'CS4278', 'CS5215'], ['CS4347', 'CS2100', 'CS6220', 'CS4241', 'CS4235', 'CS5344', 'CS4245', 'CS5425', 'CS3284', 'CS2102', 'CS4345', 'CS6280', 'CS6213', 'CS5322', 'CS3210'], ['CS4220', 'CS2102', 'CS5226', 'CS3223', 'CS5344', 'CS6203'], ['CS5478', 'CS3284', 'CS4220', 'CS2108', 'CS3210', 'CS6212', 'CS4241', 'BT5110', 'CS5344', 'CS6203', 'CS4248'], ['CS2220', 'CS3236', 'CS5239', 'CS3225', 'CS3233', 'CS4232', 'CS6211', 'CS4351', 'CS4221', 'CS4345', 'CS5250', 'CS4231'], ['CS5223', 'CS3211', 'CS6203', 'CS6211', 'CS2010', 'CS1101S', 'CS4231', 'CS2106', 'CS5215', 'CS4246'], ['CS3211', 'CS5215', 'CS6213', 'CS4232', 'CS4347', 'CS5214', 'CS5242', 'CS6234', 'CS5250', 'CS3212', 'CS4212', 'CS5218', 'CS4214'], ['CS1010S', 'CS5425', 'CS1010E', 'CS5228', 'CS5330', 'CS6208', 'CS2040C', 'CS5236', 'CS4345', 'CS5345', 'CS1231', 'CS5478', 'CS1281', 'CS6222', 'CS3233', 'CS1010J'], ['CS1020E', 'CS3233', 'CS5236', 'CS3245', 'CS1231', 'CS2220', 'CS5342', 'CS4231', 'CS4247', 'CS5230', 'CS3225', 'CS4234', 'CS5234', 'CS5246', 'CS4242'], ['CS5219', 'CS3234', 'CS3281', 'CS5476', 'CS6211', 'CS4240', 'CS4271', 'CS3216', 'CS4239', 'CS4257', 'CS3212', 'CS5231', 'CS2103T'], ['CS5242', 'CS6220', 'CS3201', 'CS3284', 'CS3203', 'CS4271', 'CS3882', 'CS3243', 'CS4239', 'CS2103T', 'CS6222', 'CS4247', 'CS6280', 'CS6243'], ['CS5271', 'CS5219', 'CS3218', 'CS5321', 'CS4225', 'CS5424', 'CS5345', 'CS3283', 'CS3282', 'CS5214', 'CS6212', 'CS4212', 'CS6202', 'CS5248', 'CS5246', 'CS6203'], ['CS3205', 'CS3284', 'CS4880', 'CS3281', 'CS3282', 'CS5234', 'CS2113T', 'CS3271', 'CS4218', 'CS3882'], ['CS5344', 'CS6215', 'CS5215', 'CS5218', 'CS4214'], ['CS5219', 'CS5271', 'CS3225', 'CS5236', 'CS6234', 'CS3212', 'CS6215'], ['CS3284', 'CS3225', 'CS4238', 'CS4232', 'CS6208', 'CS6211', 'CS5236', 'CS6234', 'CS3233', 'CS6230'], ['CS4237', 'CS3236', 'CS5230', 'CS5330', 'CS3281', 'CS3282', 'CS4234', 'CS4257', 'CS6213', 'CS4231', 'CS4241', 'CS5321', 'CS6204'], ['CS4242', 'CS5222', 'BT5110', 'CS5233', 'CS4220', 'CS1281', 'CS4351', 'CS5226', 'CS2040C', 'CS5322', 'CS3210', 'CS6207'], ['CS3882', 'CS1280', 'CS1281', 'CS2040C', 'CS1010', 'CS1020', 'CS2020', 'CS1020E'], ['CS6241', 'CS6243', 'CS3242', 'CS3249', 'CS3240', 'CS5246', 'CS4249'], ['CS2102', 'CS5322', 'CS6203'], ['CS5228', 'CS4220', 'CS1281', 'CS2102', 'CS2010', 'CS6220', 'CS1010', 'CS5322', 'CS5344', 'CS6203', 'CS1010J', 'CS2020'], ['CS5248', 'CS3281', 'CS6213', 'CS4231', 'CS2105', 'CS5321', 'CS6204'], ['CS5222', 'CS5233', 'CS2281', 'CS6213', 'CS3282', 'CS3281', 'CS4231', 'CS4345', 'CS2106', 'CS3210', 'CS5224', 'CS4223'], ['CS4235', 'CS4351', 'CS2106', 'CS4248', 'CS5425', 'CS3218', 'CS4243', 'CS5345', 'CS6241', 'CS3210', 'CS5240', 'CS6243', 'CS3249', 'CS4240', 'CS4278', 'CS4249'], ['CS6234', 'CS3234', 'CS3217', 'CS5236', 'CS2113', 'CS2220', 'CS1281', 'CS3216', 'CS4231', 'CS5230', 'CS3225', 'CS2103', 'CS2010', 'CS3233'], ['CS4257', 'CS6234', 'CS3236', 'CS5330', 'CS6211', 'CS5236', 'CS3235', 'CS2220', 'CS6243', 'CS3225', 'CS3240', 'CS3249', 'CS4240', 'CS5234', 'CS5246', 'CS4249'], ['CS5345', 'CS6207', 'CS4245', 'CS3283', 'CS5249', 'CS5478', 'CS3282', 'CS4235', 'CS2100', 'CS5244', 'CS5246', 'CS5224', 'CS4248'], ['CS4347', 'CS4222', 'CS4226', 'CS4245', 'CS3234', 'CS5321', 'CS6204', 'CS5424', 'CS3220', 'CS5345', 'CS3282', 'CS5214', 'CS4231', 'CS5241', 'CS4237', 'CS6213', 'CS3212'], ['CS1020E', 'CS2309', 'CS5228', 'CS3236', 'CS6208', 'CS5236', 'CS5345', 'CS3244', 'CS3230', 'CS1020', 'CS4215', 'CS5229', 'CS3225', 'CS4234', 'CS4240', 'CS3233'], ['CS5331', 'CS4242', 'CS3284', 'CS4235', 'CS4347', 'CS4271', 'CS6212', 'CS5244', 'CS3245', 'CS3235', 'CS5439', 'CS4248'], ['CS5344', 'CS4248', 'CS5228', 'CS6209', 'CS3284', 'CS3235', 'CS5439', 'CS5424', 'CS4211', 'CS2220', 'CS3205', 'CS5244', 'CS4239', 'CS5241', 'CS6280', 'CS4240', 'CS5226', 'CS3223'], ['CS5246', 'CS5330', 'CS3225', 'CS6213', 'CS4234', 'CS5342', 'CS6212', 'CS5234', 'CS3210', 'CS5224', 'CS4242', 'CS4248', 'CS5241'], ['CS6211', 'CS6213', 'CS2106', 'CS4231', 'CS4345', 'CS4223', 'CS3235', 'CS5224'], ['CS5219', 'CS5222', 'CS5214', 'CS2106', 'CS3212', 'CS5215', 'CS5218'], ['CS4242', 'CS4235', 'CS5342', 'CS4241', 'CS3245', 'CS5246', 'CS6207', 'CS6222'], ['CS2220', 'BT5110', 'CS4220', 'CS2102', 'CS6213', 'CS6220', 'CS4221', 'CS3223', 'CS5344'], ['CS3234', 'CS5332', 'CS3212', 'CS6215'], ['CS5223', 'CS4237', 'CS4244', 'CS6209', 'CS5248', 'CS5476', 'CS3281', 'CS6213', 'CS4236', 'CS4271', 'CS4222', 'CS5231', 'CS3882'], ['CS2309', 'CS3201', 'CS1010E', 'CS3217', 'CS3226', 'CS3203', 'CS2040C', 'CS3882', 'CS4211', 'CS5272', 'CS3205', 'CS6241', 'CS3282', 'CS4239', 'CS1010FC/X', 'CS3219', 'CS6280', 'CS3211', 'CS2103'], ['CS3212', 'CS3284', 'CS5233', 'CS2113T', 'CS3882'], ['CS3225', 'CS4232', 'CS4221', 'CS6220', 'CS3223', 'CS5344', 'CS6203', 'CS5321'], ['CS6220', 'CS2106', 'CS6207', 'CS5425', 'CS4244', 'CS5330', 'CS5236', 'CS4243', 'CS3244', 'CS5240', 'CS3225', 'CS6244', 'CS6213', 'CS5234'], ['CS3281', 'CS5332', 'CS1281', 'CS4239', 'CS6230', 'CS5231'], ['CS5248', 'CS3284', 'CS2103', 'CS4257', 'CS4271', 'CS4231', 'CS4239', 'CS4212'], ['CS3230', 'CS5330', 'CS4232', 'CS4257', 'CS4231', 'CS5236', 'CS5234', 'CS4248'], ['CS3203', 'CS3281', 'CS3217', 'CS1101S', 'CS3240', 'CS4271', 'CS1010', 'CS5246', 'CS1010J', 'CS2020'], ['CS5222', 'CS6211', 'CS4345', 'CS6204', 'CS5424', 'CS3220', 'CS5239', 'CS3282', 'CS5214', 'CS4231', 'CS5244', 'CS4237', 'CS6213', 'CS3210'], ['CS5344', 'CS5425', 'CS5228', 'CS2102', 'CS5424', 'CS4225', 'CS2220', 'CS3223', 'CS4215', 'CS6280', 'CS6213', 'CS5226', 'CS5322', 'CS6203'], ['CS4220', 'CS4347', 'CS6213', 'CS6231', 'CS4221', 'CS5344', 'CS6230'], ['CS4344', 'CS2220', 'CS6280', 'CS3205', 'CS5228', 'CS3234', 'CS3226', 'CS4880', 'CS6213', 'CS4271', 'CS4221', 'CS4218'], ['CS3284', 'CS5330', 'CS3282', 'CS4232', 'CS4257', 'CS4231', 'CS6234', 'CS3233', 'CS5236'], ['CS6211', 'CS4236', 'CS4231', 'CS5332', 'CS2106', 'CS6215', 'CS5231'], ['CS4236', 'CS4257', 'CS5342', 'CS5332', 'CS4271', 'CS3235', 'CS5439', 'CS3218'], ['CS4232', 'CS2102', 'CS3223', 'CS4231', 'CS6234', 'CS5236', 'CS2103T', 'CS6204'], ['CS5344', 'CS2309', 'CS1010E', 'CS6215', 'CS2220', 'CS6241', 'CS5239', 'CS1281', 'CS4239', 'CS3223', 'CS2020', 'CS6243', 'CS2010', 'CS4234', 'CS5322', 'CS6203', 'CS1010J'], ['CS2108', 'CS6208', 'CS5342', 'CS4241', 'CS4278', 'CS5215', 'CS6207', 'CS4248', 'CS5241', 'CS6222'], ['CS6243', 'CS3249', 'CS5246', 'CS3271', 'CS3218', 'CS4218'], ['CS3281', 'CS6213', 'CS2100', 'CS2106', 'CS4223', 'CS5224'], ['CS2220', 'CS3236', 'CS5249', 'CS5230', 'CS3225', 'CS5330', 'CS4234', 'CS6234', 'CS3233', 'CS1020', 'CS1010J', 'CS2020'], ['CS4257', 'CS5222', 'CS6211', 'CS4271', 'CS5439', 'CS6230', 'CS3218', 'CS4238', 'CS4239', 'CS4247', 'CS6243', 'CS5476', 'CS3249', 'CS5246', 'CS5231'], ['CS6270', 'CS4237', 'CS3240', 'CS6213', 'CS4231', 'CS5226', 'CS5250', 'CS3210', 'CS5344', 'CS4249'], ['CS5476', 'CS6211', 'CS6231', 'CS4271', 'CS5332', 'CS3235', 'CS4249'], ['CS2100', 'CS4231', 'CS4239', 'CS5322', 'CS4212', 'CS4218'], ['CS3211', 'CS4235', 'CS4271', 'CS5244', 'CS3212', 'CS6215', 'CS4212', 'CS4248'], ['CS6207', 'CS4248', 'CS5425', 'CS5228', 'CS3234', 'CS4244', 'CS6211', 'CS3243', 'CS3244', 'CS5478', 'CS3216', 'CS3223', 'CS5215', 'CS5218'], ['CS6213', 'CS1281', 'CS1101S', 'CS2010', 'CS2040C', 'CS3210', 'CS5218', 'CS1010J', 'CS6204'], ['CS5233', 'CS5340', 'CS4232', 'CS4257', 'CS2100', 'CS5344', 'CS3233', 'CS5250', 'CS4225', 'CS5424', 'CS2220', 'CS5478', 'CS3282', 'CS5234', 'CS4278'], ['CS5271', 'CS3234', 'CS5219', 'CS3217', 'CS4271', 'CS6215', 'CS4218', 'CS2113', 'CS2220', 'CS3205', 'CS3282', 'CS2103T', 'CS4215', 'CS6280', 'CS6213'], ['CS5249', 'CS5331', 'CS3225', 'CS2281', 'CS6211', 'CS4236', 'CS6231', 'CS5226', 'CS4231', 'CS5246'], ['CS5249', 'CS5271', 'CS5342', 'CS5214', 'CS5246', 'CS5215', 'CS4212'], ['CS3230', 'CS6244', 'CS5330', 'CS6220', 'CS5236', 'CS4278', 'CS4248'], ['CS5228', 'CS6209', 'CS6208', 'CS4271', 'CS3235', 'CS5439', 'CS6230', 'CS4246', 'CS3244', 'CS5478', 'CS4238', 'CS4239', 'CS6222', 'CS6244', 'CS5476', 'BT5110', 'CS5215', 'CS5231'], ['CS2105', 'CS4222', 'CS5234', 'CS3235', 'CS5439'], ['CS2040C', 'BT5110', 'CS5246', 'CS4246', 'CS6207', 'CS2020'], ['CS2220', 'CS6234', 'CS5343', 'CS5230', 'CS3236', 'CS4234', 'CS4257', 'CS5236', 'CS4231', 'CS5234', 'CS2040C'], ['CS6231', 'CS4271', 'CS4239', 'CS6230', 'CS5231'], ['CS6211', 'CS5321', 'CS6204', 'CS5424', 'CS5232', 'CS5272', 'CS3283', 'CS3282', 'CS4231', 'CS5229', 'CS4237', 'CS3211', 'CS2103', 'CS3225', 'CS3233'], ['CS3281', 'CS4232', 'CS4222', 'CS1020E', 'CS5322', 'CS3236', 'CS3233', 'CS6211', 'CS3220', 'CS1231', 'CS4231', 'CS4237', 'CS4234', 'CS5226', 'CS5234', 'CS6203'], ['CS4241', 'CS6230', 'CS1020', 'CS3882'], ['CS3230', 'CS6213', 'CS2102', 'CS4231', 'CS4221', 'BT5110', 'CS5344', 'CS5236'], ['CS6244', 'CS4220', 'CS6208', 'CS1101S', 'CS2100', 'BT5110', 'CS5215', 'CS4248'], ['CS5248', 'CS5476', 'CS6213', 'CS6211', 'CS6231', 'CS4236', 'CS5226', 'CS4231', 'CS4223', 'CS3235', 'CS6230'], ['CS6220', 'CS6234', 'CS1010', 'CS1010S', 'CS5330', 'CS3233', 'CS3230', 'CS4231', 'CS5240', 'CS4247', 'CS5230', 'CS3225', 'CS3240', 'CS4234', 'CS5234'], ['CS3230', 'CS5330', 'CS3225', 'CS4234', 'CS4222', 'CS5236', 'CS2105', 'CS4231', 'CS5231'], ['CS5219', 'CS5330', 'CS3233', 'CS5236', 'CS6215', 'CS2220', 'CS3230', 'CS4231', 'CS4215', 'CS6202', 'CS5230', 'CS5248', 'CS4234', 'CS5234', 'CS5215'], ['CS3249', 'CS4347', 'CS4351', 'CS4240', 'CS5246', 'CS6207', 'CS4248', 'CS2020'], ['CS6234', 'CS1010', 'CS5230', 'CS4241', 'CS3230', 'CS3236', 'CS4234', 'CS2040C', 'CS4231', 'CS3233', 'CS1020'], ['CS4350', 'CS1280', 'CS5222', 'CS3242', 'CS2010', 'CS1101S', 'CS1020', 'CS4249'], ['CS4880', 'CS6208', 'CS5242', 'CS4231', 'CS4222', 'BT5110', 'CS4246', 'CS5321', 'CS6222'], ['CS4212', 'CS5214', 'CS3212', 'CS5215', 'CS5218', 'CS4214'], ['CS4247', 'CS6241', 'CS3284', 'CS3217', 'CS3242', 'CS4880', 'CS4351', 'CS4240', 'CS4235', 'CS5246', 'CS3271'], ['CS4220', 'CS6213', 'CS4235', 'CS6208', 'CS4221', 'CS5244', 'CS4242', 'CS4248'], ['CS1010E', 'CS2030', 'CS2040', 'CS2113', 'CS1280', 'CS5228', 'CS3217', 'CS1101S', 'CS2040C', 'CS5246', 'CS1020', 'CS1010J', 'CS2020'], ['CS4220', 'CS3223', 'CS2113T', 'CS6203', 'CS2020', 'CS1020E'], ['CS5242', 'CS6220', 'CS4222', 'CS4248', 'CS1010S', 'CS4226', 'CS5321', 'CS5424', 'CS2030', 'CS1231', 'CS2020', 'CS6244', 'CS6213', 'CS5246', 'CS1010J'], ['CS5249', 'CS3284', 'CS4235', 'CS4347', 'CS4271', 'CS2040C', 'CS4241', 'CS3245', 'CS5246', 'CS6207', 'CS1010J', 'CS5241'], ['CS2030', 'CS1280', 'CS5249', 'CS3284', 'CS1101S', 'CS2040C', 'CS4241', 'CS6212', 'CS5246', 'CS4248'], ['CS4223', 'CS6211', 'CS4345', 'CS5424', 'CS3220', 'CS5239', 'CS2108', 'CS3282', 'CS6212', 'CS5241', 'CS6202', 'CS4237', 'CS3245', 'CS3210'], ['CS5219', 'CS5271', 'CS4240', 'CS5214', 'CS2040C', 'CS1010', 'CS3212', 'CS6215', 'CS5218', 'CS1020E'], ['CS4247', 'CS3240', 'CS4220', 'CS3249', 'CS4235', 'CS2102', 'CS3242', 'CS5322', 'CS6203', 'CS3245'], ['CS4257', 'CS4231', 'CS5236', 'CS5234', 'CS4246'], ['CS5322', 'CS5228', 'CS5271', 'CS2040C', 'CS5250', 'CS5424', 'CS1231', 'CS3282', 'CS4231', 'CS4239', 'CS1020', 'CS2020', 'CS3219', 'CS6280', 'CS6213', 'CS2010', 'CS5226', 'CS3223'], ['CS4223', 'CS3201', 'CS5271', 'CS3234', 'CS3203', 'CS4271', 'CS6230', 'CS5424', 'CS2113', 'CS4211', 'CS5272', 'CS3205', 'CS4880', 'CS4239', 'CS3211', 'CS3210'], ['CS4244', 'CS4220', 'CS6213', 'CS5340', 'BT5110', 'CS5344', 'CS4248', 'CS4249'], ['CS2220', 'CS5271', 'CS5233', 'CS5214', 'CS4221', 'CS2040C', 'CS3223', 'CS5344', 'CS6220', 'CS5218', 'CS4214'], ['CS2030', 'CS5218', 'CS1280', 'CS1281', 'CS1101S', 'CS2010', 'CS1020', 'CS2020', 'CS1020E'], ['CS4239', 'CS5322', 'CS6230', 'CS5231'], ['CS6212', 'CS4241', 'CS3245', 'CS5241'], ['CS6241', 'CS3225', 'CS3249', 'CS4235', 'CS4257', 'CS5246', 'CS3218'], ['CS6207', 'CS5230', 'CS5219', 'CS3225', 'CS4235', 'CS4257', 'CS5342', 'CS5215', 'CS4242', 'CS5241'], ['CS6208', 'CS5322', 'CS4278', 'CS6203', 'CS4248', 'CS4246', 'CS6222'], ['CS3282', 'CS3216', 'CS4271', 'CS4239', 'CS2113T', 'CS3271', 'CS2103T'], ['CS5330', 'CS4220', 'CS4232', 'CS3233', 'CS1020'], ['CS3211', 'CS5271', 'CS5219', 'CS3281', 'CS4231', 'CS4222', 'CS4223', 'CS5250', 'CS6215', 'CS4214'], ['CS5331', 'CS4238', 'CS6231', 'CS4271', 'CS4257', 'CS4239', 'CS6230', 'CS5231'], ['CS6280', 'CS5223', 'CS6209', 'CS6213', 'CS5332', 'CS3223', 'CS6230', 'CS6203', 'CS5231', 'CS4345'], ['CS5223', 'CS3211', 'CS3281', 'CS3282', 'CS4235', 'CS2100', 'CS2105', 'CS4248'], ['CS5478', 'CS6243', 'CS6244', 'CS3240', 'CS5340', 'CS6208', 'CS6222'], ['CS5342', 'CS5244', 'CS5246', 'CS4242', 'CS5241'], ['CS3201', 'CS3284', 'CS3281', 'CS6215', 'CS4218'], ['CS4238', 'CS6213', 'CS3281', 'CS6231', 'CS6230', 'CS4236', 'CS4239', 'CS5439', 'CS5231'], ['CS5223', 'CS2107', 'CS4222', 'CS5271', 'CS6204', 'CS2104', 'CS5342', 'CS4231', 'CS6212', 'CS4212', 'CS4215', 'CS5229', 'CS6280', 'CS3211', 'CS5246', 'CS5215', 'CS5218'], ['CS5248', 'CS5233', 'CS2100', 'CS4222', 'CS5321'], ['CS5248', 'CS3281', 'CS6213', 'CS6211', 'CS4222', 'CS4231', 'CS2105', 'CS1010J'], ['CS3283', 'CS1280', 'CS2108', 'CS4347', 'CS4235', 'CS6212', 'CS5244', 'CS5246', 'CS6207'], ['CS4220', 'CS3282', 'CS6213', 'CS2100', 'CS6220', 'CS4222', 'CS5322'], ['CS5249', 'CS6205', 'CS3230', 'CS4234', 'CS4231', 'CS6212', 'CS3245', 'CS5246', 'CS4242'], ['CS5233', 'CS4235', 'CS4223', 'CS1010E', 'CS2104', 'CS4243', 'CS6241', 'CS5214', 'CS4215', 'CS5240', 'CS4237', 'CS3211', 'CS3240', 'CS3249', 'CS3210', 'CS1010J'], ['CS5271', 'CS5219', 'CS3234', 'CS3211', 'CS5214', 'CS4222', 'BT5110', 'CS3212', 'CS4212', 'CS5218', 'CS4214'], ['CS4232', 'CS4257', 'CS2100', 'CS2106', 'CS3233', 'CS6211', 'CS4345', 'CS5424', 'CS3282', 'CS4231', 'CS4237', 'CS3211', 'CS3225', 'CS5234', 'CS3210'], ['CS2220', 'CS1010', 'CS5228', 'CS4220', 'CS2102', 'CS4221', 'CS5226', 'CS3223', 'CS5344', 'CS6220', 'CS6203', 'CS1020E'], ['CS6205', 'CS5219', 'CS5271', 'CS3281', 'CS2010', 'CS1101S', 'CS5214', 'CS2100', 'CS3212', 'CS4212', 'CS5218', 'CS4214', 'CS6204'], ['CS6213', 'CS2040C', 'CS1010', 'CS2020', 'CS1020E'], ['CS2103T', 'CS5271', 'CS2103', 'CS4880', 'CS3226', 'CS3282', 'CS3217', 'CS3284', 'CS4239', 'CS3271', 'CS3882'], ['CS5422', 'CS6270', 'CS4350', 'CS5248', 'CS5233', 'CS3249', 'CS6213', 'CS3282', 'CS3281', 'CS2100', 'CS4231', 'CS4222'], ['CS5242', 'CS6220', 'CS5344', 'CS6207', 'CS4248', 'CS5330', 'CS5236', 'CS4243', 'CS2220', 'CS5478', 'CS3230', 'CS4231', 'CS6222', 'CS3225', 'CS4234', 'CS4236', 'CS5215'], ['CS6240', 'CS4247', 'CS3283', 'CS3284', 'CS4351', 'CS6212', 'CS4241', 'CS3245', 'CS5241'], ['CS6212', 'CS3245', 'CS5241'], ['CS5233', 'CS6231', 'CS4257', 'CS2100', 'CS5332', 'CS5228', 'CS6209', 'CS6211', 'CS6204', 'CS4238', 'CS3282', 'CS4231', 'CS4239', 'CS5229', 'CS6213', 'CS4236', 'CS5231'], ['CS3211', 'CS5239', 'CS4347', 'CS6212', 'CS5244', 'CS3245', 'CS5246', 'CS4242', 'CS4345', 'CS5241'], ['CS3283', 'CS5271', 'CS3234', 'CS2103T', 'CS4880', 'CS3281', 'CS3217', 'CS2010', 'CS3216', 'CS2113T', 'CS3271', 'CS4218', 'CS3882'], ['CS2107', 'CS5331', 'CS5476', 'CS4220', 'CS6213', 'CS3223', 'CS5322'], ['CS2103', 'CS3203', 'CS3226', 'CS3216', 'CS2103T'], ['CS4257', 'CS3271', 'CS3201', 'CS3234', 'CS5222', 'CS3284', 'CS2040C', 'CS5250', 'CS2113', 'CS4211', 'CS1231', 'CS5272', 'CS3283', 'CS3282', 'CS3216', 'CS4239', 'CS2103T', 'CS2020', 'CS2103'], ['CS6211', 'CS6231', 'CS6230', 'CS4271', 'CS4239', 'CS5322', 'CS4257', 'CS5439', 'CS3882'], ['CS4347', 'CS4241', 'CS6207', 'CS4248', 'CS4245', 'CS3284', 'CS6211', 'CS5345', 'CS2030', 'CS2108', 'CS6212', 'CS5241', 'CS6280', 'CS2010', 'CS5246', 'CS4242', 'CS4249'], ['CS5425', 'CS5228', 'CS4244', 'CS4345', 'CS2104', 'CS5424', 'CS5345', 'CS3220', 'CS3244', 'CS3282', 'CS6222', 'CS6280', 'CS4237', 'BT5110', 'CS5215'], ['CS2030', 'CS1280', 'CS3211', 'CS5219', 'CS1281', 'CS2010', 'CS2040C', 'CS1010', 'CS5215', 'CS1020', 'CS2020', 'CS1020E'], ['CS5330', 'CS3242', 'CS3240', 'CS4232', 'CS6212', 'CS4231'], ['CS6213', 'CS6211', 'CS4234', 'CS2100', 'CS4232', 'CS3210'], ['CS3282', 'CS6211', 'CS2100', 'CS4231', 'CS4345', 'CS2103T', 'CS6204'], ['CS4247', 'CS4350', 'CS6205', 'CS6204', 'CS3242', 'CS3249', 'CS5233', 'CS4351', 'CS4240', 'CS4222', 'CS4249'], ['CS3230', 'CS5222', 'CS3281', 'CS3282', 'CS6211', 'CS5236', 'CS6234', 'CS5250', 'CS3210', 'CS4223'], ['CS4235', 'CS5342', 'CS4241', 'CS5322', 'CS3235', 'CS6207'], ['CS5224', 'CS5345', 'CS3220', 'CS1231', 'CS2220', 'CS5239', 'CS2020', 'CS5241', 'CS6222', 'CS1010FC/X', 'CS5240', 'CS4237', 'CS5230', 'CS6213', 'CS4278', 'CS4242'], ['CS1281', 'CS2010', 'CS1101S', 'CS2040C', 'CS6215', 'CS5218', 'CS1010J', 'CS1020E'], ['CS6241', 'CS6243', 'CS3242', 'CS2108', 'CS3240', 'CS4235', 'CS4240', 'CS5244', 'CS5246', 'CS4248'], ['CS6205', 'CS3284', 'CS3281', 'CS6211', 'CS4236', 'CS5342', 'CS4231', 'CS3245', 'CS4242', 'CS4248', 'CS5321'], ['CS5271', 'CS3284', 'CS3217', 'CS3281', 'CS3282', 'CS2103', 'CS4880', 'CS3216', 'CS4239', 'CS2113T', 'CS3882']]\n"
          ]
        }
      ],
      "source": [
        "# Write your code here\n",
        "Xtest = list(map(lambda x:x.split(',')[:5], students['courses']))\n",
        "Ytest = list(map(lambda x:x.split(',')[5:], students['courses']))\n",
        "\n",
        "print(\"Xtest:\\n\",Xtest)\n",
        "print(\"Ytest:\\n\",Ytest)"
      ]
    },
    {
      "cell_type": "markdown",
      "metadata": {
        "id": "g8-D7LhvXgv7"
      },
      "source": [
        "For every student in `Xtest`, we need to transform the list of 5 modules to the feature space using the `featureTransformer` fit on the training data. For every module we will get a feature vector of size `n_features`. We add these feature vectors to get an aggregate feature vector for very student.\n",
        "\n",
        "Write a function `getFeatureVector` that takes in the list of modules and `featureTransformer`. It returns the feature vector for the specified list of courses. For instance, `getFeatureVector(Xtest[0], featureTransformer)` will return a vector of size `n_features`."
      ]
    },
    {
      "cell_type": "code",
      "execution_count": 8,
      "metadata": {
        "colab": {
          "base_uri": "https://localhost:8080/"
        },
        "id": "1FaBqoBPXgv7",
        "outputId": "c7158a28-93ff-4991-fd7a-34221ec8e358"
      },
      "outputs": [
        {
          "name": "stdout",
          "output_type": "stream",
          "text": [
            "[[50.  0.  0. ...  0.  0.  3.]]\n"
          ]
        }
      ],
      "source": [
        "def getFeatureVector(modules, featureTransformer):\n",
        "    moduleFeatures = []\n",
        "    for module in modules:\n",
        "      if courses['code'].isin([module]).any():\n",
        "        #CS4245 not found, if the course students taken is not in the courses list, then ignore\n",
        "        moduleFeature = featureTransformer.transform(courses[courses['code'] == module])\n",
        "        moduleFeature = moduleFeature.astype(np.float64)\n",
        "        moduleFeatures.append(moduleFeature)\n",
        "    return np.sum(moduleFeatures,axis=0)\n",
        "\n",
        "print(getFeatureVector(Xtest[0], featureTransformer))\n"
      ]
    },
    {
      "cell_type": "markdown",
      "metadata": {
        "id": "CuwxpWB2Xgv7"
      },
      "source": [
        "# Part 2: Content based recommender"
      ]
    },
    {
      "cell_type": "markdown",
      "metadata": {
        "id": "vJbpI-xdXgv8"
      },
      "source": [
        "We can use a model as simple as K-nearest neighbour (KNN) to perform a content based recommendation. If we provide a list of 5 modules to the recommender, it provide us a list of modules that are similar to the specified modules."
      ]
    },
    {
      "cell_type": "markdown",
      "metadata": {
        "id": "fQEMNzrcXgv8"
      },
      "source": [
        "`sklearn` provides `NearestNeighbors` as well as `KNeighborsClassifier`, both of which have a similar functionality. `NearestNeighbors` provides as an easy functionality to predict a list of K nearest neighbours. Therefore, we prefer it over `KNeighborsClassifier`. If we want to find K nearest points to a datapoint`d`, we need to use `n_neighbors` as K + 1 because the list includes `d` itself.\n",
        "\n",
        "You can now train the model using the training data, which comprises of `transformed_courses` and with their codes as the labels. "
      ]
    },
    {
      "cell_type": "code",
      "execution_count": 9,
      "metadata": {
        "colab": {
          "base_uri": "https://localhost:8080/",
          "height": 75
        },
        "id": "ezqrA0XsXgv8",
        "outputId": "6cb62fcd-553e-402f-f53c-899e1fa28948"
      },
      "outputs": [
        {
          "data": {
            "text/html": [
              "<style>#sk-container-id-1 {color: black;background-color: white;}#sk-container-id-1 pre{padding: 0;}#sk-container-id-1 div.sk-toggleable {background-color: white;}#sk-container-id-1 label.sk-toggleable__label {cursor: pointer;display: block;width: 100%;margin-bottom: 0;padding: 0.3em;box-sizing: border-box;text-align: center;}#sk-container-id-1 label.sk-toggleable__label-arrow:before {content: \"▸\";float: left;margin-right: 0.25em;color: #696969;}#sk-container-id-1 label.sk-toggleable__label-arrow:hover:before {color: black;}#sk-container-id-1 div.sk-estimator:hover label.sk-toggleable__label-arrow:before {color: black;}#sk-container-id-1 div.sk-toggleable__content {max-height: 0;max-width: 0;overflow: hidden;text-align: left;background-color: #f0f8ff;}#sk-container-id-1 div.sk-toggleable__content pre {margin: 0.2em;color: black;border-radius: 0.25em;background-color: #f0f8ff;}#sk-container-id-1 input.sk-toggleable__control:checked~div.sk-toggleable__content {max-height: 200px;max-width: 100%;overflow: auto;}#sk-container-id-1 input.sk-toggleable__control:checked~label.sk-toggleable__label-arrow:before {content: \"▾\";}#sk-container-id-1 div.sk-estimator input.sk-toggleable__control:checked~label.sk-toggleable__label {background-color: #d4ebff;}#sk-container-id-1 div.sk-label input.sk-toggleable__control:checked~label.sk-toggleable__label {background-color: #d4ebff;}#sk-container-id-1 input.sk-hidden--visually {border: 0;clip: rect(1px 1px 1px 1px);clip: rect(1px, 1px, 1px, 1px);height: 1px;margin: -1px;overflow: hidden;padding: 0;position: absolute;width: 1px;}#sk-container-id-1 div.sk-estimator {font-family: monospace;background-color: #f0f8ff;border: 1px dotted black;border-radius: 0.25em;box-sizing: border-box;margin-bottom: 0.5em;}#sk-container-id-1 div.sk-estimator:hover {background-color: #d4ebff;}#sk-container-id-1 div.sk-parallel-item::after {content: \"\";width: 100%;border-bottom: 1px solid gray;flex-grow: 1;}#sk-container-id-1 div.sk-label:hover label.sk-toggleable__label {background-color: #d4ebff;}#sk-container-id-1 div.sk-serial::before {content: \"\";position: absolute;border-left: 1px solid gray;box-sizing: border-box;top: 0;bottom: 0;left: 50%;z-index: 0;}#sk-container-id-1 div.sk-serial {display: flex;flex-direction: column;align-items: center;background-color: white;padding-right: 0.2em;padding-left: 0.2em;position: relative;}#sk-container-id-1 div.sk-item {position: relative;z-index: 1;}#sk-container-id-1 div.sk-parallel {display: flex;align-items: stretch;justify-content: center;background-color: white;position: relative;}#sk-container-id-1 div.sk-item::before, #sk-container-id-1 div.sk-parallel-item::before {content: \"\";position: absolute;border-left: 1px solid gray;box-sizing: border-box;top: 0;bottom: 0;left: 50%;z-index: -1;}#sk-container-id-1 div.sk-parallel-item {display: flex;flex-direction: column;z-index: 1;position: relative;background-color: white;}#sk-container-id-1 div.sk-parallel-item:first-child::after {align-self: flex-end;width: 50%;}#sk-container-id-1 div.sk-parallel-item:last-child::after {align-self: flex-start;width: 50%;}#sk-container-id-1 div.sk-parallel-item:only-child::after {width: 0;}#sk-container-id-1 div.sk-dashed-wrapped {border: 1px dashed gray;margin: 0 0.4em 0.5em 0.4em;box-sizing: border-box;padding-bottom: 0.4em;background-color: white;}#sk-container-id-1 div.sk-label label {font-family: monospace;font-weight: bold;display: inline-block;line-height: 1.2em;}#sk-container-id-1 div.sk-label-container {text-align: center;}#sk-container-id-1 div.sk-container {/* jupyter's `normalize.less` sets `[hidden] { display: none; }` but bootstrap.min.css set `[hidden] { display: none !important; }` so we also need the `!important` here to be able to override the default hidden behavior on the sphinx rendered scikit-learn.org. See: https://github.com/scikit-learn/scikit-learn/issues/21755 */display: inline-block !important;position: relative;}#sk-container-id-1 div.sk-text-repr-fallback {display: none;}</style><div id=\"sk-container-id-1\" class=\"sk-top-container\"><div class=\"sk-text-repr-fallback\"><pre>NearestNeighbors(algorithm=&#x27;brute&#x27;, n_neighbors=6)</pre><b>In a Jupyter environment, please rerun this cell to show the HTML representation or trust the notebook. <br />On GitHub, the HTML representation is unable to render, please try loading this page with nbviewer.org.</b></div><div class=\"sk-container\" hidden><div class=\"sk-item\"><div class=\"sk-estimator sk-toggleable\"><input class=\"sk-toggleable__control sk-hidden--visually\" id=\"sk-estimator-id-1\" type=\"checkbox\" checked><label for=\"sk-estimator-id-1\" class=\"sk-toggleable__label sk-toggleable__label-arrow\">NearestNeighbors</label><div class=\"sk-toggleable__content\"><pre>NearestNeighbors(algorithm=&#x27;brute&#x27;, n_neighbors=6)</pre></div></div></div></div></div>"
            ],
            "text/plain": [
              "NearestNeighbors(algorithm='brute', n_neighbors=6)"
            ]
          },
          "execution_count": 9,
          "metadata": {},
          "output_type": "execute_result"
        }
      ],
      "source": [
        "## Write your code here\n",
        "K = 5\n",
        "model = NearestNeighbors(algorithm = \"brute\", n_neighbors = K + 1)\n",
        "X_train = transformeed_courses\n",
        "y_train = courses['code']\n",
        "\n",
        "model.fit(X_train)"
      ]
    },
    {
      "cell_type": "markdown",
      "metadata": {
        "id": "T_Oo47yaXgv9"
      },
      "source": [
        "It is time to see our model in action. Let's see what modules our model reommends based on the modules taken by a student.\n",
        "\n",
        "Write a function that takes in a *pre-trained* model of your choice as input and the list of modules. It returns the top-K recommendations of the model. Print the top 6 recommendations for the first student. "
      ]
    },
    {
      "cell_type": "code",
      "execution_count": 10,
      "metadata": {
        "colab": {
          "base_uri": "https://localhost:8080/"
        },
        "id": "wH0yg5I6Xgv9",
        "outputId": "570232e7-6aaf-4ec6-e539-229387ba5461"
      },
      "outputs": [
        {
          "name": "stdout",
          "output_type": "stream",
          "text": [
            "['CS3203', 'CS3205', 'CS2020', 'CS3216', 'CS3217', 'CS4222']\n"
          ]
        }
      ],
      "source": [
        "def recommend(model, modulesTaken, k = 5):\n",
        "    kRecommend = k + len(modulesTaken)\n",
        "    X =  getFeatureVector(modulesTaken, featureTransformer)\n",
        "    distances, indices = model.kneighbors(X, n_neighbors=kRecommend)\n",
        "    \n",
        "    recommendCourses = [courses.iloc[x]['code'] for x in indices[0]]\n",
        "    #remove courses that have taken:\n",
        "    res = []\n",
        "    for course in recommendCourses:\n",
        "      if course not in modulesTaken:\n",
        "        res.append(course)\n",
        "        if len(res) == k:\n",
        "          return res\n",
        "print(recommend(model, Xtest[0], 6))"
      ]
    },
    {
      "cell_type": "markdown",
      "metadata": {
        "id": "NVVhPPoPXgv9"
      },
      "source": [
        "# Part 3: Recommender evaluation"
      ]
    },
    {
      "cell_type": "markdown",
      "metadata": {
        "id": "YrxDQQWCXgv-"
      },
      "source": [
        "Is this the model any good?. To do so, we use **precision** and **recall** as our metrics. `Ytest` consists of true labels for every students. Using those labels as the ground truth, compute the precision and recall for every student. Write a code that prints values of average precision and recall for a specific value of `K` over the `students` dataset. Print the value of average precision and average recall for `K= 10`.\n"
      ]
    },
    {
      "cell_type": "code",
      "execution_count": 11,
      "metadata": {
        "colab": {
          "base_uri": "https://localhost:8080/"
        },
        "id": "IPyZswBBXgv-",
        "outputId": "e34197f3-d06c-4358-a138-ac2e8ea03374"
      },
      "outputs": [
        {
          "name": "stderr",
          "output_type": "stream",
          "text": [
            "100%|██████████| 1000/1000 [00:38<00:00, 25.97it/s]\n"
          ]
        }
      ],
      "source": [
        "# Write your code \n",
        "from tqdm import tqdm\n",
        "y_pred = []\n",
        "for iXtest in tqdm(Xtest):\n",
        "  y_pred.append(recommend(model, iXtest, 10))"
      ]
    },
    {
      "cell_type": "code",
      "execution_count": 12,
      "metadata": {
        "colab": {
          "base_uri": "https://localhost:8080/"
        },
        "id": "YRhTf_UtZk1f",
        "outputId": "2f4415df-22ca-46f0-ea36-cae58c38ad53"
      },
      "outputs": [
        {
          "name": "stdout",
          "output_type": "stream",
          "text": [
            "Average precision for K=10: 0.12780000000000002\n",
            "Average recall for K=10: 0.132065830914012\n"
          ]
        }
      ],
      "source": [
        "def calMetrics(y_pred, Ytest):\n",
        "  precision = []\n",
        "  recall = []\n",
        "  # Calculate the precision and recall for each student\n",
        "  for iStudent in range(len(y_pred)):\n",
        "      tp = 0\n",
        "      fp = 0\n",
        "      fn = 0\n",
        "      for jCourse in y_pred[iStudent]:#y_pred[iStudent]:['CS3203', 'CS3205', 'CS5223', 'CS2020', 'CS3216', 'CS3217']\n",
        "        if jCourse in Ytest[iStudent]:\n",
        "          tp += 1\n",
        "        else:\n",
        "          fp += 1\n",
        "      for jCrouse in Ytest[iStudent]:\n",
        "        if jCrouse not in y_pred[iStudent]:\n",
        "          fn += 1\n",
        "\n",
        "      if tp + fp > 0:\n",
        "          precision.append(tp / (tp + fp))\n",
        "      if tp + fn > 0:\n",
        "          recall.append(tp / (tp + fn))\n",
        "  return precision, recall\n",
        "\n",
        "precision, recall = calMetrics(y_pred, Ytest)\n",
        "\n",
        "# Calculate the average precision and recall for K=10\n",
        "avg_precision = np.mean(precision)\n",
        "avg_recall = np.mean(recall)\n",
        "print(\"Average precision for K=10:\", avg_precision)\n",
        "print(\"Average recall for K=10:\", avg_recall)"
      ]
    },
    {
      "cell_type": "markdown",
      "metadata": {
        "id": "NeR2w7IpXgv-"
      },
      "source": [
        "We observe that both precision and recall is not really great. The reason might be high feature dimension, which may even be noisy. Append the exisiting `featureTransformer` with a PCA to reduce the dimension. \n",
        "\n",
        "Print the value of average precision and recall for `K= 10` after the introduction of PCA.\n"
      ]
    },
    {
      "cell_type": "code",
      "execution_count": 14,
      "metadata": {
        "colab": {
          "base_uri": "https://localhost:8080/",
          "height": 75
        },
        "id": "HNr2Tb56Xgv_",
        "outputId": "d986e7a6-a4a1-4964-8e61-143630330f51"
      },
      "outputs": [
        {
          "data": {
            "text/html": [
              "<style>#sk-container-id-2 {color: black;background-color: white;}#sk-container-id-2 pre{padding: 0;}#sk-container-id-2 div.sk-toggleable {background-color: white;}#sk-container-id-2 label.sk-toggleable__label {cursor: pointer;display: block;width: 100%;margin-bottom: 0;padding: 0.3em;box-sizing: border-box;text-align: center;}#sk-container-id-2 label.sk-toggleable__label-arrow:before {content: \"▸\";float: left;margin-right: 0.25em;color: #696969;}#sk-container-id-2 label.sk-toggleable__label-arrow:hover:before {color: black;}#sk-container-id-2 div.sk-estimator:hover label.sk-toggleable__label-arrow:before {color: black;}#sk-container-id-2 div.sk-toggleable__content {max-height: 0;max-width: 0;overflow: hidden;text-align: left;background-color: #f0f8ff;}#sk-container-id-2 div.sk-toggleable__content pre {margin: 0.2em;color: black;border-radius: 0.25em;background-color: #f0f8ff;}#sk-container-id-2 input.sk-toggleable__control:checked~div.sk-toggleable__content {max-height: 200px;max-width: 100%;overflow: auto;}#sk-container-id-2 input.sk-toggleable__control:checked~label.sk-toggleable__label-arrow:before {content: \"▾\";}#sk-container-id-2 div.sk-estimator input.sk-toggleable__control:checked~label.sk-toggleable__label {background-color: #d4ebff;}#sk-container-id-2 div.sk-label input.sk-toggleable__control:checked~label.sk-toggleable__label {background-color: #d4ebff;}#sk-container-id-2 input.sk-hidden--visually {border: 0;clip: rect(1px 1px 1px 1px);clip: rect(1px, 1px, 1px, 1px);height: 1px;margin: -1px;overflow: hidden;padding: 0;position: absolute;width: 1px;}#sk-container-id-2 div.sk-estimator {font-family: monospace;background-color: #f0f8ff;border: 1px dotted black;border-radius: 0.25em;box-sizing: border-box;margin-bottom: 0.5em;}#sk-container-id-2 div.sk-estimator:hover {background-color: #d4ebff;}#sk-container-id-2 div.sk-parallel-item::after {content: \"\";width: 100%;border-bottom: 1px solid gray;flex-grow: 1;}#sk-container-id-2 div.sk-label:hover label.sk-toggleable__label {background-color: #d4ebff;}#sk-container-id-2 div.sk-serial::before {content: \"\";position: absolute;border-left: 1px solid gray;box-sizing: border-box;top: 0;bottom: 0;left: 50%;z-index: 0;}#sk-container-id-2 div.sk-serial {display: flex;flex-direction: column;align-items: center;background-color: white;padding-right: 0.2em;padding-left: 0.2em;position: relative;}#sk-container-id-2 div.sk-item {position: relative;z-index: 1;}#sk-container-id-2 div.sk-parallel {display: flex;align-items: stretch;justify-content: center;background-color: white;position: relative;}#sk-container-id-2 div.sk-item::before, #sk-container-id-2 div.sk-parallel-item::before {content: \"\";position: absolute;border-left: 1px solid gray;box-sizing: border-box;top: 0;bottom: 0;left: 50%;z-index: -1;}#sk-container-id-2 div.sk-parallel-item {display: flex;flex-direction: column;z-index: 1;position: relative;background-color: white;}#sk-container-id-2 div.sk-parallel-item:first-child::after {align-self: flex-end;width: 50%;}#sk-container-id-2 div.sk-parallel-item:last-child::after {align-self: flex-start;width: 50%;}#sk-container-id-2 div.sk-parallel-item:only-child::after {width: 0;}#sk-container-id-2 div.sk-dashed-wrapped {border: 1px dashed gray;margin: 0 0.4em 0.5em 0.4em;box-sizing: border-box;padding-bottom: 0.4em;background-color: white;}#sk-container-id-2 div.sk-label label {font-family: monospace;font-weight: bold;display: inline-block;line-height: 1.2em;}#sk-container-id-2 div.sk-label-container {text-align: center;}#sk-container-id-2 div.sk-container {/* jupyter's `normalize.less` sets `[hidden] { display: none; }` but bootstrap.min.css set `[hidden] { display: none !important; }` so we also need the `!important` here to be able to override the default hidden behavior on the sphinx rendered scikit-learn.org. See: https://github.com/scikit-learn/scikit-learn/issues/21755 */display: inline-block !important;position: relative;}#sk-container-id-2 div.sk-text-repr-fallback {display: none;}</style><div id=\"sk-container-id-2\" class=\"sk-top-container\"><div class=\"sk-text-repr-fallback\"><pre>NearestNeighbors(algorithm=&#x27;brute&#x27;, n_neighbors=6)</pre><b>In a Jupyter environment, please rerun this cell to show the HTML representation or trust the notebook. <br />On GitHub, the HTML representation is unable to render, please try loading this page with nbviewer.org.</b></div><div class=\"sk-container\" hidden><div class=\"sk-item\"><div class=\"sk-estimator sk-toggleable\"><input class=\"sk-toggleable__control sk-hidden--visually\" id=\"sk-estimator-id-2\" type=\"checkbox\" checked><label for=\"sk-estimator-id-2\" class=\"sk-toggleable__label sk-toggleable__label-arrow\">NearestNeighbors</label><div class=\"sk-toggleable__content\"><pre>NearestNeighbors(algorithm=&#x27;brute&#x27;, n_neighbors=6)</pre></div></div></div></div></div>"
            ],
            "text/plain": [
              "NearestNeighbors(algorithm='brute', n_neighbors=6)"
            ]
          },
          "execution_count": 14,
          "metadata": {},
          "output_type": "execute_result"
        }
      ],
      "source": [
        "# Write your code here\n",
        "K = 5\n",
        "pcaFeatureTransformer = Pipeline([\n",
        "    ('feature_transformer', featureTransformer),\n",
        "    ('pca', PCA(n_components=100))\n",
        "])\n",
        "#print(pcaFeatureTransformer)\n",
        "pcaFeatureTransformer.fit(courses)\n",
        "pca_X_train = pcaFeatureTransformer.transform(courses)\n",
        "\n",
        "pcaModel = NearestNeighbors(algorithm = \"brute\", n_neighbors = K + 1)\n",
        "pcaModel.fit(pca_X_train)\n"
      ]
    },
    {
      "cell_type": "code",
      "execution_count": 24,
      "metadata": {
        "colab": {
          "base_uri": "https://localhost:8080/"
        },
        "id": "crEL1oKq7fUY",
        "outputId": "48932b85-4512-47a7-9e72-570d8e3bb560"
      },
      "outputs": [
        {
          "name": "stdout",
          "output_type": "stream",
          "text": [
            "['CS5424']\n"
          ]
        },
        {
          "name": "stderr",
          "output_type": "stream",
          "text": [
            "100%|██████████| 1000/1000 [00:44<00:00, 22.53it/s]\n"
          ]
        }
      ],
      "source": [
        "def pcaRecommend(model, modulesTaken, k = 5):\n",
        "    # recommend function for pca dataset\n",
        "    kRecommend = k + len(modulesTaken)\n",
        "    X =  getFeatureVector(modulesTaken, pcaFeatureTransformer)\n",
        "    distances, indices = model.kneighbors(X, n_neighbors=kRecommend)\n",
        "\n",
        "    recommendCourses = [courses.iloc[x]['code'] for x in indices[0]]\n",
        "\n",
        "    res = []\n",
        "    for course in recommendCourses:\n",
        "      if course not in modulesTaken:\n",
        "        res.append(course)\n",
        "        if len(res) == k:\n",
        "          return res\n",
        "#print(pcaRecommend(pcaModel, Xtest[0], 1))\n",
        "\n",
        "pca_y_pred = []\n",
        "for iXtest in tqdm(Xtest):\n",
        "  pca_y_pred.append(pcaRecommend(pcaModel, iXtest, 10))"
      ]
    },
    {
      "cell_type": "code",
      "execution_count": 25,
      "metadata": {
        "colab": {
          "base_uri": "https://localhost:8080/"
        },
        "id": "iHCGSEJKAKBQ",
        "outputId": "26b231ce-f9be-49bd-dbca-9f01c70cd0b8"
      },
      "outputs": [
        {
          "name": "stdout",
          "output_type": "stream",
          "text": [
            "Average precision for K=10: 0.18740000000000004\n",
            "Average recall for K=10: 0.19959447902458738\n"
          ]
        }
      ],
      "source": [
        "pca_precision, pca_recall = calMetrics(pca_y_pred, Ytest)\n",
        "# Calculate the average precision and recall for K=10\n",
        "pca_avg_precision = np.mean(pca_precision)\n",
        "pca_avg_recall = np.mean(pca_recall)\n",
        "print(\"Average precision for K=10:\", pca_avg_precision)\n",
        "print(\"Average recall for K=10:\", pca_avg_recall)"
      ]
    },
    {
      "cell_type": "markdown",
      "metadata": {
        "id": "Ih2GatUQXgv_"
      },
      "source": [
        "Compared the result without PCA, we could see an improvement.\n",
        "\n",
        "Extend the code to perform a grid search for the value of \n",
        "`K` that provides the best `F1_score`. Try for values of K from 1 to 10.\n"
      ]
    },
    {
      "cell_type": "code",
      "execution_count": 17,
      "metadata": {
        "id": "7JMpHoC-4g-G"
      },
      "outputs": [],
      "source": [
        "def calF1score(y_pred, Ytest):\n",
        "  F1score = []\n",
        "  for iStudent in range(len(y_pred)):\n",
        "      tp = 0\n",
        "      fp = 0\n",
        "      fn = 0\n",
        "      for jCourse in y_pred[iStudent]: #y_pred[iStudent]:['CS3203', 'CS3205', 'CS5223', 'CS2020', 'CS3216', 'CS3217']\n",
        "        if jCourse in Ytest[iStudent]:\n",
        "          tp += 1\n",
        "        else:\n",
        "          fp += 1\n",
        "      for jCrouse in Ytest[iStudent]:\n",
        "        if jCrouse not in y_pred[iStudent]:\n",
        "          fn += 1\n",
        "      if 2*tp + fp + fn > 0:\n",
        "        F1score.append(2*tp /(2*tp + fp + fn))\n",
        "  #print(F1score[:5])\n",
        "  return F1score"
      ]
    },
    {
      "cell_type": "code",
      "execution_count": 18,
      "metadata": {
        "colab": {
          "base_uri": "https://localhost:8080/"
        },
        "id": "XzTUXzCnXgv_",
        "outputId": "e5543fe4-3218-4267-ec5d-8bb2196e1ba3"
      },
      "outputs": [
        {
          "name": "stderr",
          "output_type": "stream",
          "text": [
            "100%|██████████| 1000/1000 [00:46<00:00, 21.56it/s]\n",
            "100%|██████████| 1000/1000 [00:42<00:00, 23.52it/s]\n",
            "100%|██████████| 1000/1000 [00:50<00:00, 19.81it/s]\n",
            "100%|██████████| 1000/1000 [00:46<00:00, 21.72it/s]\n",
            "100%|██████████| 1000/1000 [00:47<00:00, 21.04it/s]\n",
            "100%|██████████| 1000/1000 [00:45<00:00, 22.02it/s]\n",
            "100%|██████████| 1000/1000 [00:50<00:00, 19.62it/s]\n",
            "100%|██████████| 1000/1000 [00:43<00:00, 22.79it/s]\n",
            "100%|██████████| 1000/1000 [00:44<00:00, 22.71it/s]\n",
            "100%|██████████| 1000/1000 [00:47<00:00, 21.00it/s]"
          ]
        },
        {
          "name": "stdout",
          "output_type": "stream",
          "text": [
            "\n",
            "The best F1-score = 0.1850544375169821, k = 10.\n"
          ]
        },
        {
          "name": "stderr",
          "output_type": "stream",
          "text": [
            "\n"
          ]
        }
      ],
      "source": [
        "################### Grid Search to tune parameter ###################\n",
        "F1scores = []\n",
        "bestF1 = 0\n",
        "best_k = 0\n",
        "\n",
        "for k in range(1,11):\n",
        "  pca_y_pred = []\n",
        "  ipcaModel = NearestNeighbors(algorithm = \"brute\", n_neighbors = k + 1)\n",
        "  ipcaModel.fit(pca_X_train)\n",
        "  #print(ipcaModel)\n",
        "  for iXtest in tqdm(Xtest):\n",
        "    pca_y_pred.append(pcaRecommend(ipcaModel, iXtest, k))\n",
        "  #print(pca_y_pred[:5])\n",
        "  F1score = np.mean(calF1score(pca_y_pred, Ytest))\n",
        "  F1scores.append(F1score)\n",
        "  #print(f'\\nF1-score = {F1score}, k = {k}.')\n",
        "  if F1score > bestF1:\n",
        "    bestF1 = F1score\n",
        "    best_k = k\n",
        "\n",
        "print(f'\\nThe best F1-score = {bestF1}, k = {best_k}.')"
      ]
    },
    {
      "cell_type": "markdown",
      "metadata": {
        "id": "STKBeWHtOpyL"
      },
      "source": [
        "# **Addition Work**: #\n",
        "\n",
        "Below are some extra work I tried to see whether I could improve the F1-score.\n",
        "\n",
        "My idea is, if we treat the sum of workload as numerical variable, the value is too large, which means it may take too many weights in the model while we calculate the distances. So it may be better to convert the sum to categorical variables, and then process(encoding) categorical variables to numerical variables.\n",
        "\n",
        "In order to test my thought, I made some attempts below:\n",
        "1. Treat workload as categorical data, that means, after we get a sum of workload (7 posibilities in total), we convert it into numeric variables by **encoding**.\n",
        "2. Not use PCA, to check if **step1** works.\n",
        "3. Use PCA, to check whether **step1** could help to improve the score."
      ]
    },
    {
      "cell_type": "code",
      "execution_count": 19,
      "metadata": {
        "id": "4VB0G3yn3xEs"
      },
      "outputs": [],
      "source": [
        "from sklearn.preprocessing import OneHotEncoder\n",
        "class WorkloadTransformer2:  \n",
        "    # convert workload to categorical data      \n",
        "    def sumWorkload(self, rows):\n",
        "        xsplit = rows.split('-')\n",
        "        return sum([float(x) for x in xsplit])\n",
        "\n",
        "    def fit(self, X, y = None, **fit_params):\n",
        "        #print('WorkloadTransformer.fit() finish')\n",
        "        workload = X['workload'].apply(self.sumWorkload).values.reshape(-1,1)\n",
        "        self.oh_encoder = OneHotEncoder(categories='auto', sparse=False, handle_unknown='ignore')\n",
        "        self.oh_encoder.fit(workload)\n",
        "        return self\n",
        "    \n",
        "    def transform(self, X, y = None, **fit_params):\n",
        "\n",
        "        workload = X['workload'].apply(self.sumWorkload).values.reshape(-1,1)\n",
        "        workload = self.oh_encoder.transform(workload)\n",
        "        return workload"
      ]
    },
    {
      "cell_type": "code",
      "execution_count": 20,
      "metadata": {
        "colab": {
          "base_uri": "https://localhost:8080/"
        },
        "id": "vgnQC-WCXY50",
        "outputId": "10beede4-84f1-4f43-9640-023e2b345c89"
      },
      "outputs": [
        {
          "name": "stderr",
          "output_type": "stream",
          "text": [
            "/usr/local/lib/python3.9/dist-packages/sklearn/preprocessing/_encoders.py:868: FutureWarning: `sparse` was renamed to `sparse_output` in version 1.2 and will be removed in 1.4. `sparse_output` is ignored unless you leave `sparse` to its default value.\n",
            "  warnings.warn(\n"
          ]
        },
        {
          "name": "stdout",
          "output_type": "stream",
          "text": [
            "(184, 2289)\n"
          ]
        }
      ],
      "source": [
        "featureTransformer2 = FeatureUnion([\n",
        "    ('workload_processing', Pipeline([('wrkld', WorkloadTransformer2())])),\n",
        "    ('info_processing', Pipeline([('info', InfoTransformer())])),\n",
        "    ('spec_processing', Pipeline([('spec', SpecTransformer())])),\n",
        "])\n",
        "\n",
        "featureTransformer2.fit(courses)\n",
        "transformeed_courses_cat = featureTransformer2.transform(courses)\n",
        "#print(transformeed_courses_cat.shape)\n"
      ]
    },
    {
      "cell_type": "code",
      "execution_count": 21,
      "metadata": {
        "id": "BOLCMv--hfl3"
      },
      "outputs": [],
      "source": [
        "def recommend2(model, modulesTaken, k = 5):\n",
        "    # recommend funtion for considering workload as categorical variables\n",
        "    kRecommend = k + len(modulesTaken)\n",
        "    X =  getFeatureVector(modulesTaken, featureTransformer2)\n",
        "    distances, indices = model.kneighbors(X, n_neighbors=kRecommend)\n",
        "    \n",
        "    recommendCourses = [courses.iloc[x]['code'] for x in indices[0]]\n",
        "    #remove courses that have taken:\n",
        "    res = []\n",
        "    for course in recommendCourses:\n",
        "      if course not in modulesTaken:\n",
        "        res.append(course)\n",
        "        if len(res) == k:\n",
        "          return res\n",
        "\n",
        "def otherTest(isPCA=True, isCategorical=False):\n",
        "  # function for other tests, including whether use PCA, whether treat workload as categorical variables\n",
        "  if isPCA:\n",
        "    if isCategorical:\n",
        "      pcaFeatureTransformer = Pipeline([\n",
        "          ('feature_transformer', featureTransformer2),\n",
        "          ('pca', PCA(n_components=100))\n",
        "      ])\n",
        "    else:\n",
        "      pcaFeatureTransformer = Pipeline([\n",
        "          ('feature_transformer', featureTransformer),\n",
        "          ('pca', PCA(n_components=100))\n",
        "      ])\n",
        "    func_recommend = pcaRecommend\n",
        "  else:\n",
        "    if isCategorical:\n",
        "      pcaFeatureTransformer = featureTransformer2\n",
        "      func_recommend = recommend2\n",
        "    else:\n",
        "      pcaFeatureTransformer = featureTransformer\n",
        "      func_recommend = recommend\n",
        "\n",
        "  pcaFeatureTransformer.fit(courses)\n",
        "  X_train = pcaFeatureTransformer.transform(courses)\n",
        "  #print(X_train.shape)\n",
        "  #print(func_recommend)\n",
        "  \n",
        "\n",
        "  F1scores = []\n",
        "  bestF1 = 0\n",
        "  best_k = 0\n",
        "\n",
        "  for k in range(1,11):\n",
        "    y_pred = []\n",
        "    Model = NearestNeighbors(algorithm = \"brute\", n_neighbors = k + 1)\n",
        "    Model.fit(X_train)\n",
        "    for iXtest in tqdm(Xtest):\n",
        "      y_pred.append(func_recommend(Model, iXtest, k))\n",
        "    #print(y_pred[:5])\n",
        "    F1score = np.mean(calF1score(y_pred, Ytest))\n",
        "    F1scores.append(F1score)\n",
        "    #print(f'\\nF1-score = {F1score}, k = {k}.')\n",
        "    if F1score > bestF1:\n",
        "      bestF1 = F1score\n",
        "      best_k = k\n",
        "\n",
        "  print(f'\\nThe best F1-score = {bestF1}, k = {best_k}.')\n",
        "  return F1scores"
      ]
    },
    {
      "cell_type": "code",
      "execution_count": 27,
      "metadata": {
        "colab": {
          "base_uri": "https://localhost:8080/"
        },
        "id": "sXdUFjBeGVhz",
        "outputId": "13878eb4-0561-4edb-ac43-ed7f3fa25d5f"
      },
      "outputs": [
        {
          "name": "stderr",
          "output_type": "stream",
          "text": [
            "100%|██████████| 1000/1000 [00:20<00:00, 49.78it/s]\n",
            "100%|██████████| 1000/1000 [00:21<00:00, 45.87it/s]\n",
            "100%|██████████| 1000/1000 [00:22<00:00, 44.62it/s]\n",
            "100%|██████████| 1000/1000 [00:23<00:00, 43.01it/s]\n",
            "100%|██████████| 1000/1000 [00:20<00:00, 48.42it/s]\n",
            "100%|██████████| 1000/1000 [00:24<00:00, 41.56it/s]\n",
            "100%|██████████| 1000/1000 [00:22<00:00, 44.68it/s]\n",
            "100%|██████████| 1000/1000 [00:22<00:00, 44.41it/s]\n",
            "100%|██████████| 1000/1000 [00:22<00:00, 43.96it/s]\n",
            "100%|██████████| 1000/1000 [00:22<00:00, 44.20it/s]"
          ]
        },
        {
          "name": "stdout",
          "output_type": "stream",
          "text": [
            "\n",
            "The best F1-score = 0.12430028214756803, k = 10.\n",
            "F1-scores, treating workload as numerical variable and not processed by PCA:\n",
            "[0.008746958064295525, 0.014122287018107452, 0.02654178673885902, 0.03511959761271916, 0.041751027130016896, 0.061417748963295465, 0.08149421172133381, 0.09865385744192301, 0.1128729301693241, 0.12430028214756803]\n"
          ]
        },
        {
          "name": "stderr",
          "output_type": "stream",
          "text": [
            "\n"
          ]
        }
      ],
      "source": [
        "F1scores_noextraprocess = otherTest(False,False)\n",
        "print(\"F1-scores, treating workload as numerical variable and not processed by PCA:\")\n",
        "print(F1scores_noextraprocess)"
      ]
    },
    {
      "cell_type": "code",
      "execution_count": 22,
      "metadata": {
        "colab": {
          "base_uri": "https://localhost:8080/"
        },
        "id": "2N94diI81KZK",
        "outputId": "b125a106-0586-4918-e548-c7b3ace7ffd2"
      },
      "outputs": [
        {
          "name": "stderr",
          "output_type": "stream",
          "text": [
            "/usr/local/lib/python3.9/dist-packages/sklearn/preprocessing/_encoders.py:868: FutureWarning: `sparse` was renamed to `sparse_output` in version 1.2 and will be removed in 1.4. `sparse_output` is ignored unless you leave `sparse` to its default value.\n",
            "  warnings.warn(\n",
            "100%|██████████| 1000/1000 [00:26<00:00, 38.02it/s]\n",
            "100%|██████████| 1000/1000 [00:27<00:00, 37.02it/s]\n",
            "100%|██████████| 1000/1000 [00:27<00:00, 36.61it/s]\n",
            "100%|██████████| 1000/1000 [00:27<00:00, 36.97it/s]\n",
            "100%|██████████| 1000/1000 [00:28<00:00, 34.69it/s]\n",
            "100%|██████████| 1000/1000 [00:28<00:00, 34.55it/s]\n",
            "100%|██████████| 1000/1000 [00:27<00:00, 35.88it/s]\n",
            "100%|██████████| 1000/1000 [00:29<00:00, 33.85it/s]\n",
            "100%|██████████| 1000/1000 [00:28<00:00, 35.52it/s]\n",
            "100%|██████████| 1000/1000 [00:28<00:00, 35.19it/s]"
          ]
        },
        {
          "name": "stdout",
          "output_type": "stream",
          "text": [
            "\n",
            "The best F1-score = 0.18437241794048245, k = 10.\n",
            "F1-scores, treating workload as categorical variable and not processed by PCA:\n",
            "[0.03874646161372168, 0.07124193376544637, 0.10027417742216505, 0.12270749120183297, 0.13714905595563556, 0.151735170966692, 0.16397946449229867, 0.1724123393490319, 0.17945255134502464, 0.18437241794048245]\n"
          ]
        },
        {
          "name": "stderr",
          "output_type": "stream",
          "text": [
            "\n"
          ]
        }
      ],
      "source": [
        "F1scores_cat = otherTest(False,True)\n",
        "print(\"F1-scores, treating workload as categorical variable and not processed by PCA:\")\n",
        "print(F1scores_cat)"
      ]
    },
    {
      "cell_type": "code",
      "execution_count": 23,
      "metadata": {
        "colab": {
          "base_uri": "https://localhost:8080/"
        },
        "id": "RkfMfZ4xjw3t",
        "outputId": "103bfc9f-139c-41f0-c152-0c47fc6c3823"
      },
      "outputs": [
        {
          "name": "stderr",
          "output_type": "stream",
          "text": [
            "/usr/local/lib/python3.9/dist-packages/sklearn/preprocessing/_encoders.py:868: FutureWarning: `sparse` was renamed to `sparse_output` in version 1.2 and will be removed in 1.4. `sparse_output` is ignored unless you leave `sparse` to its default value.\n",
            "  warnings.warn(\n",
            "100%|██████████| 1000/1000 [00:51<00:00, 19.53it/s]\n",
            "100%|██████████| 1000/1000 [01:02<00:00, 15.93it/s]\n",
            "100%|██████████| 1000/1000 [00:53<00:00, 18.85it/s]\n",
            "100%|██████████| 1000/1000 [00:46<00:00, 21.34it/s]\n",
            "100%|██████████| 1000/1000 [00:46<00:00, 21.36it/s]\n",
            "100%|██████████| 1000/1000 [00:45<00:00, 21.87it/s]\n",
            "100%|██████████| 1000/1000 [00:43<00:00, 23.20it/s]\n",
            "100%|██████████| 1000/1000 [00:47<00:00, 21.16it/s]\n",
            "100%|██████████| 1000/1000 [00:46<00:00, 21.31it/s]\n",
            "100%|██████████| 1000/1000 [00:48<00:00, 20.58it/s]"
          ]
        },
        {
          "name": "stdout",
          "output_type": "stream",
          "text": [
            "\n",
            "The best F1-score = 0.09109890583507584, k = 10.\n",
            "F1-scores, treating workload as categorical variable and processed by PCA:\n",
            "[0.016431046722455392, 0.031363326385105895, 0.04403655992270543, 0.052349182651452136, 0.06307058622088639, 0.07327365132750918, 0.08037445347720486, 0.08463053386772922, 0.08864527614732995, 0.09109890583507584]\n"
          ]
        },
        {
          "name": "stderr",
          "output_type": "stream",
          "text": [
            "\n"
          ]
        }
      ],
      "source": [
        "pca_F1scores_cat = otherTest(True,True)\n",
        "print(\"F1-scores, treating workload as categorical variable and processed by PCA:\")\n",
        "print(pca_F1scores_cat)"
      ]
    },
    {
      "cell_type": "markdown",
      "metadata": {
        "id": "tVqnpkG9Bi7y"
      },
      "source": [
        "From the result above, we can compare:\n",
        "\n",
        "1.No PCA, not categoricalize workload:\n",
        "\n",
        "The best F1-score = 0.12430028214756803, k = 10.\n",
        "\n",
        "2.PCA, not categoricalize workload:\n",
        "\n",
        "The best F1-score = 0.1850544375169821, k = 10.\n",
        "\n",
        "3.No PCA, categoricalize workload:\n",
        "\n",
        "The best F1-score = 0.18437241794048245, k = 10.\n",
        "\n",
        "4.PCA, categoricalize workload:\n",
        "\n",
        "The best F1-score = 0.09109890583507584, k = 10.\n",
        "\n",
        "Compare the results above: \n",
        "\n",
        "Compare 1 and 3, we can find that the F1-score has boosted, which means while we do not do feature engineering using PCA, categoricalize workload does help to improve the performance.\n",
        "\n",
        "However, the best performance comes from 2, using PCA while not categoricalizing workload. That shows PCA is quite help while doing feature engineering.\n",
        "\n",
        "What surprised me is that the worst performance comes from 4, with both PCA and categoicalization. The potential explaination is applying both PCA and categoricalize to the dataset, some features are missed or misunderstood, thus lead to a worse prediction.\n",
        "\n",
        "\n",
        "In this case, in conclusion, I will not make any extra change, just follow the instruction, using the sum value of workload as the feature, and process the features by PCA is relatively fine, when we just tune parameter n_neighbors from 1 to 10."
      ]
    }
  ],
  "metadata": {
    "colab": {
      "provenance": []
    },
    "kernelspec": {
      "display_name": "Python 3",
      "language": "python",
      "name": "python3"
    },
    "language_info": {
      "codemirror_mode": {
        "name": "ipython",
        "version": 3
      },
      "file_extension": ".py",
      "mimetype": "text/x-python",
      "name": "python",
      "nbconvert_exporter": "python",
      "pygments_lexer": "ipython3",
      "version": "3.8.5"
    }
  },
  "nbformat": 4,
  "nbformat_minor": 0
}
